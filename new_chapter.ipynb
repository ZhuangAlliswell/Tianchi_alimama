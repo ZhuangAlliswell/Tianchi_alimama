{
 "cells": [
  {
   "cell_type": "code",
   "execution_count": 7,
   "metadata": {},
   "outputs": [
    {
     "name": "stdout",
     "output_type": "stream",
     "text": [
      "Read Data Finish.\n"
     ]
    }
   ],
   "source": [
    "import pandas as pd\n",
    "import lightgbm as lgb\n",
    "import time\n",
    "path='/home/student303/oyx/almama/'\n",
    "\n",
    "#Read Data\n",
    "data = pd.read_hdf(path+ 'somefeature/base_feature_all_0.h5', key = 'a')\n",
    "print('Read Data Finish.')\n",
    "\n",
    "#Define featurelist\n",
    "droplist=['instance_id',\n",
    "          'item_category_list',\n",
    "          'item_property_list',\n",
    "          'user_id', \n",
    "          'context_id',\n",
    "          'context_timestamp',\n",
    "          'predict_category_property',\n",
    "          'is_trade',\n",
    "          'day', 'min', 'second',\n",
    "          'user_nextclick_interval',\n",
    "         # 'user_nextclick_interval_mean'\n",
    "         ]\n",
    "featurelist=[i for i in data.columns if i not in droplist]\n",
    "cat_feature=[\n",
    "             'item_id',\n",
    "             'item_brand_id',\n",
    "             'item_city_id',\n",
    "             'user_gender_id',\n",
    "             'user_occupation_id',\n",
    "             'context_page_id',\n",
    "             'shop_id',\n",
    "             'item_category_hash',\n",
    "             'hour',\n",
    "            ]"
   ]
  },
  {
   "cell_type": "code",
   "execution_count": 10,
   "metadata": {},
   "outputs": [
    {
     "data": {
      "text/plain": [
       "['item_id',\n",
       " 'item_brand_id',\n",
       " 'item_city_id',\n",
       " 'item_price_level',\n",
       " 'item_sales_level',\n",
       " 'item_collected_level',\n",
       " 'item_pv_level',\n",
       " 'user_gender_id',\n",
       " 'user_age_level',\n",
       " 'user_occupation_id',\n",
       " 'user_star_level',\n",
       " 'context_page_id',\n",
       " 'shop_id',\n",
       " 'shop_review_num_level',\n",
       " 'shop_review_positive_rate',\n",
       " 'shop_star_level',\n",
       " 'shop_score_service',\n",
       " 'shop_score_delivery',\n",
       " 'shop_score_description',\n",
       " 'item_category_hash',\n",
       " 'hour']"
      ]
     },
     "execution_count": 10,
     "metadata": {},
     "output_type": "execute_result"
    }
   ],
   "source": [
    "featurelist"
   ]
  },
  {
   "cell_type": "code",
   "execution_count": 11,
   "metadata": {},
   "outputs": [
    {
     "name": "stdout",
     "output_type": "stream",
     "text": [
      "LGBM Training, Feature dim :  21\n",
      "Train until valid scores didn't improve in 50 rounds.\n",
      "[10]\ttraining's binary_logloss: 0.239135\tvalid_1's binary_logloss: 0.235815\n",
      "[20]\ttraining's binary_logloss: 0.130002\tvalid_1's binary_logloss: 0.124579\n",
      "[30]\ttraining's binary_logloss: 0.100194\tvalid_1's binary_logloss: 0.0934147\n",
      "[40]\ttraining's binary_logloss: 0.0927128\tvalid_1's binary_logloss: 0.0853352\n",
      "[50]\ttraining's binary_logloss: 0.0907958\tvalid_1's binary_logloss: 0.0833254\n",
      "[60]\ttraining's binary_logloss: 0.0900719\tvalid_1's binary_logloss: 0.0827442\n",
      "[70]\ttraining's binary_logloss: 0.0896333\tvalid_1's binary_logloss: 0.0824794\n",
      "[80]\ttraining's binary_logloss: 0.089291\tvalid_1's binary_logloss: 0.0823535\n",
      "[90]\ttraining's binary_logloss: 0.0890182\tvalid_1's binary_logloss: 0.0822759\n",
      "[100]\ttraining's binary_logloss: 0.088751\tvalid_1's binary_logloss: 0.0822473\n",
      "[110]\ttraining's binary_logloss: 0.0885332\tvalid_1's binary_logloss: 0.0821977\n",
      "[120]\ttraining's binary_logloss: 0.0883472\tvalid_1's binary_logloss: 0.0822295\n",
      "[130]\ttraining's binary_logloss: 0.0881477\tvalid_1's binary_logloss: 0.0822359\n",
      "[140]\ttraining's binary_logloss: 0.0879874\tvalid_1's binary_logloss: 0.0822193\n",
      "[150]\ttraining's binary_logloss: 0.087807\tvalid_1's binary_logloss: 0.0822015\n",
      "[160]\ttraining's binary_logloss: 0.0876628\tvalid_1's binary_logloss: 0.0821942\n",
      "[170]\ttraining's binary_logloss: 0.0875219\tvalid_1's binary_logloss: 0.0821564\n",
      "[180]\ttraining's binary_logloss: 0.087356\tvalid_1's binary_logloss: 0.082135\n",
      "[190]\ttraining's binary_logloss: 0.0872014\tvalid_1's binary_logloss: 0.0821438\n",
      "[200]\ttraining's binary_logloss: 0.0870905\tvalid_1's binary_logloss: 0.0821491\n",
      "[210]\ttraining's binary_logloss: 0.0869594\tvalid_1's binary_logloss: 0.0821577\n",
      "[220]\ttraining's binary_logloss: 0.0868113\tvalid_1's binary_logloss: 0.082158\n",
      "[230]\ttraining's binary_logloss: 0.0866936\tvalid_1's binary_logloss: 0.0821516\n",
      "Early stopping, best iteration is:\n",
      "[186]\ttraining's binary_logloss: 0.0872596\tvalid_1's binary_logloss: 0.0821335\n",
      "LGBM Training Done\n",
      "CPU times: user 2min 45s, sys: 4.22 s, total: 2min 49s\n",
      "Wall time: 2.98 s\n"
     ]
    }
   ],
   "source": [
    "%%time\n",
    "dev=1\n",
    "print('LGBM Training, Feature dim : ',len(featurelist))\n",
    "params = {\n",
    "    'task': 'train',\n",
    "    'objective': 'binary',\n",
    "    'metric': 'binary_logloss',\n",
    "    'max_depth':4,\n",
    "    #'num_leaves': 6,\n",
    "    #'min_data_in_leaf':1,\n",
    "    'learning_rate': 0.1,\n",
    "    'feature_fraction': 0.8,\n",
    "    'bagging_fraction': 1.0,\n",
    "    'verbose': 0,\n",
    "}\n",
    "if dev:\n",
    "    d_train=lgb.Dataset(data.loc[data.day < 24][featurelist], label=data.loc[data.day < 24]['is_trade'],categorical_feature=cat_feature)\n",
    "    d_valid=lgb.Dataset(data.loc[data.day == 24][featurelist], label=data.loc[data.day == 24]['is_trade'],categorical_feature=cat_feature)\n",
    "    model = lgb.train(params, train_set=d_train, num_boost_round=600, valid_sets=[d_train,d_valid], \\\n",
    "                  early_stopping_rounds=50, verbose_eval=10)\n",
    "    offlinelogloss=model.best_score['valid_1']['binary_logloss']\n",
    "    bst_iteration=model.best_iteration\n",
    "else:\n",
    "    d_train=lgb.Dataset(data.loc[data.day <= 24][featurelist], label=data.loc[data.day <= 24]['is_trade'],categorical_feature=cat_feature)    \n",
    "    model = lgb.train(params, train_set=d_train, num_boost_round=bst_iteration, valid_sets=[d_train], \\\n",
    "                   verbose_eval=10)\n",
    "print('LGBM Training Done')"
   ]
  },
  {
   "cell_type": "code",
   "execution_count": null,
   "metadata": {
    "collapsed": true
   },
   "outputs": [],
   "source": [
    "if not dev:\n",
    "    prob = model.predict(data.loc[data.day > 24][featurelist], num_iteration=bst_iteration)\n",
    "    output=pd.DataFrame({'instance_id':data.loc[data.day > 24].instance_id.values ,'predicted_score':prob})  \n",
    "    print('Predicted prob mean is ',prob.mean())\n",
    "\n",
    "    output_name='Sub_'+time.strftime('%m%d',time.localtime(time.time()))+'_%.5f'%(offlinelogloss)\n",
    "    output.to_csv(path+'output/'+output_name+'.txt', sep=\" \", index=False, line_terminator='\\n')\n",
    "\n",
    "    print('Output success, name : ',output_name)\n",
    "    print(output.head())"
   ]
  }
 ],
 "metadata": {
  "kernelspec": {
   "display_name": "Python 3",
   "language": "python",
   "name": "python3"
  },
  "language_info": {
   "codemirror_mode": {
    "name": "ipython",
    "version": 3
   },
   "file_extension": ".py",
   "mimetype": "text/x-python",
   "name": "python",
   "nbconvert_exporter": "python",
   "pygments_lexer": "ipython3",
   "version": "3.6.1"
  }
 },
 "nbformat": 4,
 "nbformat_minor": 2
}
