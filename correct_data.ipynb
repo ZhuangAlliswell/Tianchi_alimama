{
 "cells": [
  {
   "cell_type": "code",
   "execution_count": 178,
   "metadata": {},
   "outputs": [
    {
     "name": "stdout",
     "output_type": "stream",
     "text": [
      "Read Data Finish\n"
     ]
    }
   ],
   "source": [
    "import numpy as np\n",
    "import pandas as pd\n",
    "import lightgbm as lgb\n",
    "import gc\n",
    "path='/home/student303/oyx/almama/'\n",
    "data = pd.read_hdf(path+ 'somefeature/base_feature_all_0.h5')\n",
    "print('Read Data Finish')"
   ]
  },
  {
   "cell_type": "code",
   "execution_count": 188,
   "metadata": {},
   "outputs": [
    {
     "data": {
      "text/plain": [
       "164"
      ]
     },
     "execution_count": 188,
     "metadata": {},
     "output_type": "execute_result"
    }
   ],
   "source": [
    "tmpmerge = data[['user_id','day','instance_id']].groupby(['user_id','day']).count().reset_index().rename(columns={'instance_id':'user_day_clik_cnt'})\n",
    "data = pd.merge(data,tmpmerge, on=['user_id','day'],how='left')\n",
    "del tmpmerge\n",
    "gc.collect()"
   ]
  },
  {
   "cell_type": "code",
   "execution_count": 138,
   "metadata": {
    "collapsed": true
   },
   "outputs": [],
   "source": [
    "# devide mean of clik\n",
    "def correct_data1(x,data,vision='1'):\n",
    "    correct_mean=data[[x,'day']].groupby('day').mean().reset_index().rename(columns={x:'temp'})\n",
    "    data=pd.merge(data,correct_mean,on='day',how='left')\n",
    "    data[x + '_' +vision]=data[x]/data['temp']\n",
    "    del data['temp']\n",
    "    return data"
   ]
  },
  {
   "cell_type": "code",
   "execution_count": 139,
   "metadata": {
    "collapsed": true
   },
   "outputs": [],
   "source": [
    "# devide sum of clik\n",
    "def correct_data2(x,data,vision='2'):\n",
    "    correct_mean=data[[x,'day']].groupby('day').sum().reset_index().rename(columns={x:'temp'})\n",
    "    data=pd.merge(data,correct_mean,on='day',how='left')\n",
    "    data[x + '_' +vision]=data[x]/data['temp']\n",
    "    del data['temp']\n",
    "    return data"
   ]
  },
  {
   "cell_type": "code",
   "execution_count": 136,
   "metadata": {
    "collapsed": true
   },
   "outputs": [],
   "source": [
    "# min-max normalization\n",
    "def correct_data3(x,data,vision='3'):\n",
    "    \n",
    "    merger = data[[x,'day']].groupby('day').max().reset_index().rename(columns={x:'tmp_max'})\n",
    "    data = pd.merge(data,merger,on=['day'],how='left')\n",
    "    merger = data[[x,'day']].groupby('day').min().reset_index().rename(columns={x:'tmp_min'})\n",
    "    data = pd.merge(data,merger,on=['day'],how='left')\n",
    "    data[x + '_' +vision] = (data[x] - data['tmp_min'])/(data['tmp_max'] - data['tmp_min']) \n",
    "    del data['tmp_max']\n",
    "    del data['tmp_min']\n",
    "    del merger\n",
    "    gc.collect()\n",
    "    return data"
   ]
  },
  {
   "cell_type": "code",
   "execution_count": 137,
   "metadata": {
    "collapsed": true
   },
   "outputs": [],
   "source": [
    "# Z-score normalization\n",
    "def correct_data4(x,data,vision='4'):\n",
    "    \n",
    "    merger = data[[x,'day']].groupby('day').mean().reset_index().rename(columns={x:'tmp_mean'})\n",
    "    data = pd.merge(data,merger,on=['day'],how='left')\n",
    "    merger = data[[x,'day']].groupby('day').std().reset_index().rename(columns={x:'tmp_std'})\n",
    "    data = pd.merge(data,merger,on=['day'],how='left')\n",
    "    data[x + '_' +vision] = (data[x] - data['tmp_mean'])/data['tmp_std']\n",
    "    del data['tmp_mean']\n",
    "    del data['tmp_std']\n",
    "    del merger\n",
    "    gc.collect()\n",
    "    return data"
   ]
  },
  {
   "cell_type": "code",
   "execution_count": 196,
   "metadata": {
    "collapsed": true
   },
   "outputs": [],
   "source": [
    "data=correct_data1('user_day_clik_cnt',data)\n",
    "data=correct_data2('user_day_clik_cnt',data)\n",
    "data=correct_data3('user_day_clik_cnt',data)\n",
    "data=correct_data4('user_day_clik_cnt',data)"
   ]
  },
  {
   "cell_type": "code",
   "execution_count": 202,
   "metadata": {},
   "outputs": [
    {
     "name": "stdout",
     "output_type": "stream",
     "text": [
      "LGBM Training, Feature dim :  23\n",
      "Train until valid scores didn't improve in 50 rounds.\n",
      "[30]\ttraining's binary_logloss: 0.0997635\tvalid_1's binary_logloss: 0.0932022\n",
      "[60]\ttraining's binary_logloss: 0.0889659\tvalid_1's binary_logloss: 0.0817256\n",
      "[90]\ttraining's binary_logloss: 0.0875513\tvalid_1's binary_logloss: 0.0809783\n",
      "[120]\ttraining's binary_logloss: 0.0867432\tvalid_1's binary_logloss: 0.0808504\n",
      "[150]\ttraining's binary_logloss: 0.086097\tvalid_1's binary_logloss: 0.080806\n",
      "[180]\ttraining's binary_logloss: 0.0855213\tvalid_1's binary_logloss: 0.0807606\n",
      "[210]\ttraining's binary_logloss: 0.0850481\tvalid_1's binary_logloss: 0.0807874\n",
      "Early stopping, best iteration is:\n",
      "[189]\ttraining's binary_logloss: 0.0853498\tvalid_1's binary_logloss: 0.0807543\n",
      "\n",
      "item_id\n",
      "item_brand_id\n",
      "item_city_id\n",
      "item_price_level\n",
      "item_sales_level\n",
      "item_collected_level\n",
      "item_pv_level\n",
      "user_gender_id\n",
      "user_age_level\n",
      "user_occupation_id\n",
      "user_star_level\n",
      "context_page_id\n",
      "shop_id\n",
      "shop_review_num_level\n",
      "shop_review_positive_rate\n",
      "shop_star_level\n",
      "shop_score_service\n",
      "shop_score_delivery\n",
      "shop_score_description\n",
      "item_category_hash\n",
      "hour\n",
      "user_lastclicktime_interval\n",
      "user_day_clik_cnt\n"
     ]
    }
   ],
   "source": [
    "#Define featurelist\n",
    "droplist=['instance_id',\n",
    "          'item_category_list',\n",
    "          'item_property_list',\n",
    "          'user_id', \n",
    "          'context_id',\n",
    "          'context_timestamp',\n",
    "          'predict_category_property',\n",
    "          'is_trade',\n",
    "          'day', 'min', 'second',\n",
    "         \n",
    "          #'user_day_clik_cnt',\n",
    "          'user_day_clik_cnt_1',\n",
    "          'user_day_clik_cnt_2',\n",
    "          'user_day_clik_cnt_3',\n",
    "          'user_day_clik_cnt_4',\n",
    "          \n",
    "         # 'user_click_same_item',\n",
    "          'user_click_same_item_1',\n",
    "          'user_click_same_item_2',\n",
    "          'user_click_same_item_3',\n",
    "          'user_click_same_item_4',\n",
    "          \n",
    "          'user_day_diff_category',\n",
    "          'user_day_diff_category_1',\n",
    "         # 'user_day_diff_category_2',\n",
    "          'user_day_diff_category_3',\n",
    "          'user_day_diff_category_4'\n",
    "          \n",
    "         ]\n",
    "featurelist=[i for i in data.columns if i not in droplist]\n",
    "\n",
    "\n",
    "print('LGBM Training, Feature dim : ',len(featurelist))\n",
    "\n",
    "params = {\n",
    "    'task': 'train',\n",
    "    'objective': 'binary',\n",
    "    'metric': 'binary_logloss',\n",
    "    'max_depth':4,\n",
    "    #'num_leaves': 6,\n",
    "    #'min_data_in_leaf':1,\n",
    "    'learning_rate': 0.1,\n",
    "    'feature_fraction': 0.8,\n",
    "    'bagging_fraction': 1.0,\n",
    "    'verbose': 0,\n",
    "}\n",
    "\n",
    "d_train=lgb.Dataset(data.loc[data.day < 24][featurelist], label=data.loc[data.day < 24]['is_trade'])\n",
    "d_valid=lgb.Dataset(data.loc[data.day == 24][featurelist], label=data.loc[data.day == 24]['is_trade'])\n",
    "model = lgb.train(params, train_set=d_train, num_boost_round=600, valid_sets=[d_train,d_valid], \\\n",
    "              early_stopping_rounds=50, verbose_eval=30)\n",
    "print(end='\\n')\n",
    "for i in featurelist:\n",
    "    print(i)"
   ]
  },
  {
   "cell_type": "code",
   "execution_count": null,
   "metadata": {
    "collapsed": true
   },
   "outputs": [],
   "source": [
    "0.0807543\n",
    "1 - 0.080704\n",
    "2 - 0.080642\n",
    "3 - 0.080953\n",
    "4 - 0.0806829"
   ]
  },
  {
   "cell_type": "code",
   "execution_count": 116,
   "metadata": {
    "collapsed": true
   },
   "outputs": [],
   "source": [
    "#base 0.0816614\n",
    "#add user_day_clik_cnt_1 0.0817182 除了每日的均值\n",
    "#add user_day_clik_cnt_2 0.0816129 除了每日的点击数总和\n",
    "#add user_day_clik_cnt_3 0.0816873 对每日做了min-max标准化\n",
    "#add user_day_clik_cnt_4 0.0815966 对每日做了Z-score标准化\n",
    "#add user_day_clik_cnt and user_day_clik_cnt_4  0.0815409 都加进去了了又降了？？"
   ]
  },
  {
   "cell_type": "markdown",
   "metadata": {},
   "source": [
    "## 3-23公粮"
   ]
  },
  {
   "cell_type": "code",
   "execution_count": 130,
   "metadata": {
    "collapsed": true
   },
   "outputs": [],
   "source": [
    "data_3_23 = pd.read_hdf(path+ 'somefeature/base_feature_data_del_add_userclicksameitem.h5')\n",
    "data = data_3_23"
   ]
  },
  {
   "cell_type": "code",
   "execution_count": 143,
   "metadata": {
    "collapsed": true
   },
   "outputs": [],
   "source": [
    "data = correct_data4('user_click_same_item',data)\n",
    "data = correct_data3('user_click_same_item',data)\n",
    "data = correct_data2('user_click_same_item',data)\n",
    "data = correct_data1('user_click_same_item',data)"
   ]
  },
  {
   "cell_type": "code",
   "execution_count": 153,
   "metadata": {},
   "outputs": [
    {
     "data": {
      "text/plain": [
       "Index(['instance_id', 'item_id', 'item_category_list', 'item_property_list',\n",
       "       'item_brand_id', 'item_city_id', 'item_price_level', 'item_sales_level',\n",
       "       'item_collected_level', 'item_pv_level', 'user_id', 'user_gender_id',\n",
       "       'user_age_level', 'user_occupation_id', 'user_star_level', 'context_id',\n",
       "       'context_timestamp', 'context_page_id', 'predict_category_property',\n",
       "       'shop_id', 'shop_review_num_level', 'shop_review_positive_rate',\n",
       "       'shop_star_level', 'shop_score_service', 'shop_score_delivery',\n",
       "       'shop_score_description', 'is_trade', 'item_category_hash', 'day',\n",
       "       'hour', 'min', 'second', 'user_lastclicktime_interval',\n",
       "       'user_click_same_item', 'user_click_same_item_4',\n",
       "       'user_click_same_item_3', 'user_click_same_item_2',\n",
       "       'user_click_same_item_1'],\n",
       "      dtype='object')"
      ]
     },
     "execution_count": 153,
     "metadata": {},
     "output_type": "execute_result"
    }
   ],
   "source": [
    "data.columns"
   ]
  },
  {
   "cell_type": "code",
   "execution_count": null,
   "metadata": {
    "collapsed": true
   },
   "outputs": [],
   "source": [
    "#base 0.0805906\n",
    "#add user_click_same_item_1 0.0806825\n",
    "#add user_click_same_item_2 0.0805639\n",
    "#add user_click_same_item_3 0.080595\n",
    "#add user_click_same_item_4 0.0805349"
   ]
  },
  {
   "cell_type": "markdown",
   "metadata": {},
   "source": [
    "## emmmmm"
   ]
  },
  {
   "cell_type": "code",
   "execution_count": 182,
   "metadata": {
    "collapsed": true
   },
   "outputs": [],
   "source": [
    "data_3_23_Ture = pd.read_hdf(path+ 'somefeature/0322base_feature_data_del_add_userclicksameitem.h5')"
   ]
  },
  {
   "cell_type": "code",
   "execution_count": 183,
   "metadata": {
    "collapsed": true
   },
   "outputs": [],
   "source": [
    "data = data_3_23_Ture"
   ]
  },
  {
   "cell_type": "code",
   "execution_count": 165,
   "metadata": {
    "collapsed": true
   },
   "outputs": [],
   "source": [
    "data = correct_data4('user_day_diff_category',data)\n",
    "data = correct_data3('user_day_diff_category',data)\n",
    "data = correct_data2('user_day_diff_category',data)\n",
    "data = correct_data1('user_day_diff_category',data)"
   ]
  },
  {
   "cell_type": "code",
   "execution_count": 177,
   "metadata": {},
   "outputs": [
    {
     "data": {
      "text/plain": [
       "Index(['instance_id', 'item_id', 'item_category_list', 'item_property_list',\n",
       "       'item_brand_id', 'item_city_id', 'item_price_level', 'item_sales_level',\n",
       "       'item_collected_level', 'item_pv_level', 'user_id', 'user_gender_id',\n",
       "       'user_age_level', 'user_occupation_id', 'user_star_level', 'context_id',\n",
       "       'context_timestamp', 'context_page_id', 'predict_category_property',\n",
       "       'shop_id', 'shop_review_num_level', 'shop_review_positive_rate',\n",
       "       'shop_star_level', 'shop_score_service', 'shop_score_delivery',\n",
       "       'shop_score_description', 'is_trade', 'item_category_hash', 'day',\n",
       "       'hour', 'min', 'second', 'user_lastclicktime_interval',\n",
       "       'user_click_same_item', 'user_day_diff_category_2'],\n",
       "      dtype='object')"
      ]
     },
     "execution_count": 177,
     "metadata": {},
     "output_type": "execute_result"
    }
   ],
   "source": [
    "data.columns"
   ]
  },
  {
   "cell_type": "code",
   "execution_count": null,
   "metadata": {
    "collapsed": true
   },
   "outputs": [],
   "source": [
    "#base 0.0806006\n",
    "#divide mean  0.0801435\n",
    "#divide sum  0.0800458\n",
    "#min-max     0.0801064\n",
    "#Z-score     0.0801928"
   ]
  },
  {
   "cell_type": "code",
   "execution_count": 176,
   "metadata": {
    "collapsed": true
   },
   "outputs": [],
   "source": [
    "data.drop(['user_day_diff_category','user_day_diff_category_1','user_day_diff_category_3','user_day_diff_category_4'],axis=1,inplace=True)\n",
    "data.to_hdf(path + 'somefeature/0323base_feature_data_del_usercliksameitem_correct2.h5',key='a')"
   ]
  },
  {
   "cell_type": "code",
   "execution_count": 185,
   "metadata": {
    "collapsed": true
   },
   "outputs": [],
   "source": [
    "data.drop(['user_click_same_item','user_day_diff_category'],axis=1,inplace=True)"
   ]
  },
  {
   "cell_type": "code",
   "execution_count": 205,
   "metadata": {},
   "outputs": [
    {
     "data": {
      "text/plain": [
       "Index(['instance_id', 'item_id', 'item_category_list', 'item_property_list',\n",
       "       'item_brand_id', 'item_city_id', 'item_price_level', 'item_sales_level',\n",
       "       'item_collected_level', 'item_pv_level', 'user_id', 'user_gender_id',\n",
       "       'user_age_level', 'user_occupation_id', 'user_star_level', 'context_id',\n",
       "       'context_timestamp', 'context_page_id', 'predict_category_property',\n",
       "       'shop_id', 'shop_review_num_level', 'shop_review_positive_rate',\n",
       "       'shop_star_level', 'shop_score_service', 'shop_score_delivery',\n",
       "       'shop_score_description', 'is_trade', 'item_category_hash', 'day',\n",
       "       'hour', 'min', 'second', 'user_lastclicktime_interval',\n",
       "       'user_day_clik_cnt_4'],\n",
       "      dtype='object')"
      ]
     },
     "execution_count": 205,
     "metadata": {},
     "output_type": "execute_result"
    }
   ],
   "source": [
    "data.columns"
   ]
  },
  {
   "cell_type": "code",
   "execution_count": 204,
   "metadata": {
    "collapsed": true
   },
   "outputs": [],
   "source": [
    "data.drop(['user_day_clik_cnt','user_day_clik_cnt_1','user_day_clik_cnt_2','user_day_clik_cnt_3',],axis=1,inplace=True)"
   ]
  },
  {
   "cell_type": "code",
   "execution_count": 206,
   "metadata": {
    "collapsed": true
   },
   "outputs": [],
   "source": [
    "data.to_hdf(path + 'somefeature/0323base_feature_data_del_dailycliktimes_correct4.h5',key='a')"
   ]
  }
 ],
 "metadata": {
  "kernelspec": {
   "display_name": "Python 3",
   "language": "python",
   "name": "python3"
  },
  "language_info": {
   "codemirror_mode": {
    "name": "ipython",
    "version": 3
   },
   "file_extension": ".py",
   "mimetype": "text/x-python",
   "name": "python",
   "nbconvert_exporter": "python",
   "pygments_lexer": "ipython3",
   "version": "3.6.1"
  },
  "varInspector": {
   "cols": {
    "lenName": 16,
    "lenType": 16,
    "lenVar": 40
   },
   "kernels_config": {
    "python": {
     "delete_cmd_postfix": "",
     "delete_cmd_prefix": "del ",
     "library": "var_list.py",
     "varRefreshCmd": "print(var_dic_list())"
    },
    "r": {
     "delete_cmd_postfix": ") ",
     "delete_cmd_prefix": "rm(",
     "library": "var_list.r",
     "varRefreshCmd": "cat(var_dic_list()) "
    }
   },
   "types_to_exclude": [
    "module",
    "function",
    "builtin_function_or_method",
    "instance",
    "_Feature"
   ],
   "window_display": false
  }
 },
 "nbformat": 4,
 "nbformat_minor": 2
}
