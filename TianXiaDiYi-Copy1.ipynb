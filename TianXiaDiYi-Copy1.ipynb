{
 "cells": [
  {
   "cell_type": "code",
   "execution_count": 12,
   "metadata": {
    "collapsed": true
   },
   "outputs": [],
   "source": [
    "import numpy as np\n",
    "import pandas as pd\n",
    "import lightgbm as lgb\n",
    "path='/home/student303/oyx/almama/'\n",
    "data = pd.read_hdf(path+ 'somefeature/base_feature_all_0_B.h5', key = 'a')"
   ]
  },
  {
   "cell_type": "markdown",
   "metadata": {},
   "source": [
    "## 用户上次点击同一商铺的时间间隔"
   ]
  },
  {
   "cell_type": "code",
   "execution_count": 14,
   "metadata": {},
   "outputs": [
    {
     "name": "stdout",
     "output_type": "stream",
     "text": [
      "CPU times: user 46.6 s, sys: 680 ms, total: 47.3 s\n",
      "Wall time: 47.3 s\n"
     ]
    }
   ],
   "source": [
    "%%time\n",
    "#feature1 用户上次点击同一商铺时间间隔\n",
    "data=data.sort_values(by=['context_timestamp'],ascending=True)\n",
    "d={}\n",
    "def user_lastclicktime_interval(x):\n",
    "    newtime=x.context_timestamp\n",
    "    name=str(x.user_id)+'_'+str(x.shop_id)\n",
    "    if name not in d:\n",
    "        d[name]=newtime\n",
    "        return -1\n",
    "    time_interval=d[name]-newtime\n",
    "    d[name]=newtime\n",
    "    return time_interval\n",
    "data['user_lastclick_sameshop_interval']=data.apply(user_lastclicktime_interval,axis=1)\n",
    "\n",
    "data=data.sort_values(by=['context_timestamp'],ascending=False)\n",
    "#feature2 用户下次点击同一商铺时间间隔(当天)\n",
    "d={}\n",
    "def user_lastclicktime_interval(x):\n",
    "    newtime=x.context_timestamp\n",
    "    name=str(x.user_id)+'_'+str(x.shop_id)+'_'+str(x.day)\n",
    "    if name not in d:\n",
    "        d[name]=newtime\n",
    "        return -1\n",
    "    time_interval=d[name]-newtime\n",
    "    d[name]=newtime\n",
    "    return time_interval\n",
    "data['user_nextclick_sameshop_interval']=data.apply(user_lastclicktime_interval,axis=1)"
   ]
  },
  {
   "cell_type": "markdown",
   "metadata": {},
   "source": [
    "## 用户上次点击的时间间隔"
   ]
  },
  {
   "cell_type": "code",
   "execution_count": 15,
   "metadata": {},
   "outputs": [
    {
     "name": "stdout",
     "output_type": "stream",
     "text": [
      "CPU times: user 34.9 s, sys: 556 ms, total: 35.5 s\n",
      "Wall time: 35.5 s\n"
     ]
    }
   ],
   "source": [
    "%%time\n",
    "#feature3 用户上次点击时间间隔\n",
    "data=data.sort_values(by=['context_timestamp'],ascending=True)\n",
    "d={}\n",
    "def user_nextclicktime_interval(x):\n",
    "    newtime=x.context_timestamp\n",
    "    name=str(x.user_id)\n",
    "    if name not in d:\n",
    "        d[name]=newtime\n",
    "        return -1\n",
    "    time_interval=d[name]-newtime\n",
    "    d[name]=newtime\n",
    "    return time_interval\n",
    "data['user_lastclick_interval']=data.apply(user_nextclicktime_interval,axis=1)\n",
    "\n",
    "#feature4 用户下次点击时间间隔(当天)\n",
    "data=data.sort_values(by=['context_timestamp'],ascending=False)\n",
    "d={}\n",
    "def user_nextclicktime_interval(x):\n",
    "    newtime=x.context_timestamp\n",
    "    name=str(x.user_id)+'_'+str(x.day)\n",
    "    if name not in d:\n",
    "        d[name]=newtime\n",
    "        return -1\n",
    "    time_interval=d[name]-newtime\n",
    "    d[name]=newtime\n",
    "    return time_interval\n",
    "data['user_nextclick_interval']=data.apply(user_nextclicktime_interval,axis=1)"
   ]
  },
  {
   "cell_type": "markdown",
   "metadata": {},
   "source": [
    "## 分类器验证"
   ]
  },
  {
   "cell_type": "code",
   "execution_count": 18,
   "metadata": {
    "collapsed": true
   },
   "outputs": [],
   "source": [
    "#Define featurelist\n",
    "droplist=['instance_id',\n",
    "          'item_category_list',\n",
    "          'item_property_list',\n",
    "          'user_id', \n",
    "          'context_id',\n",
    "          'context_timestamp',\n",
    "          'predict_category_property',\n",
    "          'is_trade',\n",
    "          'day', 'min', 'second','subm']\n",
    "featurelist=[i for i in data.columns if i not in droplist]"
   ]
  },
  {
   "cell_type": "code",
   "execution_count": 19,
   "metadata": {},
   "outputs": [
    {
     "data": {
      "text/plain": [
       "['item_id',\n",
       " 'item_brand_id',\n",
       " 'item_city_id',\n",
       " 'item_price_level',\n",
       " 'item_sales_level',\n",
       " 'item_collected_level',\n",
       " 'item_pv_level',\n",
       " 'user_gender_id',\n",
       " 'user_age_level',\n",
       " 'user_occupation_id',\n",
       " 'user_star_level',\n",
       " 'context_page_id',\n",
       " 'shop_id',\n",
       " 'shop_review_num_level',\n",
       " 'shop_review_positive_rate',\n",
       " 'shop_star_level',\n",
       " 'shop_score_service',\n",
       " 'shop_score_delivery',\n",
       " 'shop_score_description',\n",
       " 'item_category_hash',\n",
       " 'hour',\n",
       " 'user_lastclick_sameshop_interval',\n",
       " 'user_nextclick_sameshop_interval',\n",
       " 'user_lastclick_interval',\n",
       " 'user_nextclick_interval']"
      ]
     },
     "execution_count": 19,
     "metadata": {},
     "output_type": "execute_result"
    }
   ],
   "source": [
    "featurelist"
   ]
  },
  {
   "cell_type": "code",
   "execution_count": 20,
   "metadata": {
    "collapsed": true
   },
   "outputs": [
    {
     "name": "stdout",
     "output_type": "stream",
     "text": [
      "LGBM Training, Feature dim :  25\n",
      "Train until valid scores didn't improve in 50 rounds.\n",
      "[10]\ttraining's binary_logloss: 0.238875\tvalid_1's binary_logloss: 0.235753\n",
      "[20]\ttraining's binary_logloss: 0.129254\tvalid_1's binary_logloss: 0.12416\n",
      "[30]\ttraining's binary_logloss: 0.0987823\tvalid_1's binary_logloss: 0.0923993\n",
      "[40]\ttraining's binary_logloss: 0.0907006\tvalid_1's binary_logloss: 0.0837399\n",
      "[50]\ttraining's binary_logloss: 0.0884302\tvalid_1's binary_logloss: 0.0813257\n",
      "[60]\ttraining's binary_logloss: 0.0874839\tvalid_1's binary_logloss: 0.0805069\n",
      "[70]\ttraining's binary_logloss: 0.0868656\tvalid_1's binary_logloss: 0.0801385\n",
      "[80]\ttraining's binary_logloss: 0.086404\tvalid_1's binary_logloss: 0.0799592\n",
      "[90]\ttraining's binary_logloss: 0.0860389\tvalid_1's binary_logloss: 0.0798161\n",
      "[100]\ttraining's binary_logloss: 0.0857254\tvalid_1's binary_logloss: 0.0796975\n",
      "[110]\ttraining's binary_logloss: 0.0854227\tvalid_1's binary_logloss: 0.0796467\n",
      "[120]\ttraining's binary_logloss: 0.0851727\tvalid_1's binary_logloss: 0.0796069\n",
      "[130]\ttraining's binary_logloss: 0.0849283\tvalid_1's binary_logloss: 0.0795853\n",
      "[140]\ttraining's binary_logloss: 0.0847363\tvalid_1's binary_logloss: 0.0795649\n",
      "[150]\ttraining's binary_logloss: 0.0845298\tvalid_1's binary_logloss: 0.0795707\n",
      "[160]\ttraining's binary_logloss: 0.0843397\tvalid_1's binary_logloss: 0.0795503\n",
      "[170]\ttraining's binary_logloss: 0.0841169\tvalid_1's binary_logloss: 0.0795408\n",
      "[180]\ttraining's binary_logloss: 0.0839799\tvalid_1's binary_logloss: 0.0794818\n",
      "[190]\ttraining's binary_logloss: 0.0838046\tvalid_1's binary_logloss: 0.0794591\n",
      "[200]\ttraining's binary_logloss: 0.083668\tvalid_1's binary_logloss: 0.0794612\n",
      "[210]\ttraining's binary_logloss: 0.083491\tvalid_1's binary_logloss: 0.0794479\n",
      "[220]\ttraining's binary_logloss: 0.0833614\tvalid_1's binary_logloss: 0.0794742\n",
      "[230]\ttraining's binary_logloss: 0.0831667\tvalid_1's binary_logloss: 0.0794841\n",
      "[240]\ttraining's binary_logloss: 0.0829854\tvalid_1's binary_logloss: 0.0795177\n",
      "[250]\ttraining's binary_logloss: 0.0828411\tvalid_1's binary_logloss: 0.0795402\n",
      "Early stopping, best iteration is:\n",
      "[207]\ttraining's binary_logloss: 0.0835337\tvalid_1's binary_logloss: 0.0794392\n"
     ]
    }
   ],
   "source": [
    "print('LGBM Training, Feature dim : ',len(featurelist))\n",
    "\n",
    "params = {\n",
    "    'task': 'train',\n",
    "    'objective': 'binary',\n",
    "    'metric': 'binary_logloss',\n",
    "    'max_depth':4,\n",
    "    #'num_leaves': 6,\n",
    "    #'min_data_in_leaf':1,\n",
    "    'learning_rate': 0.1,\n",
    "    'feature_fraction': 0.8,\n",
    "    'bagging_fraction': 1.0,\n",
    "    'verbose': 0,\n",
    "}\n",
    "\n",
    "d_train=lgb.Dataset(data.loc[data.day < 24][featurelist], label=data.loc[data.day < 24]['is_trade'])\n",
    "d_valid=lgb.Dataset(data.loc[data.day == 24][featurelist], label=data.loc[data.day == 24]['is_trade'])\n",
    "model = lgb.train(params, train_set=d_train, num_boost_round=600, valid_sets=[d_train,d_valid], \\\n",
    "              early_stopping_rounds=50, verbose_eval=10)"
   ]
  },
  {
   "cell_type": "code",
   "execution_count": 23,
   "metadata": {},
   "outputs": [],
   "source": [
    "data.to_hdf(path + 'somefeature/419timefeature.h5', key='a')"
   ]
  }
 ],
 "metadata": {
  "kernelspec": {
   "display_name": "Python 3",
   "language": "python",
   "name": "python3"
  },
  "language_info": {
   "codemirror_mode": {
    "name": "ipython",
    "version": 3
   },
   "file_extension": ".py",
   "mimetype": "text/x-python",
   "name": "python",
   "nbconvert_exporter": "python",
   "pygments_lexer": "ipython3",
   "version": "3.6.1"
  }
 },
 "nbformat": 4,
 "nbformat_minor": 2
}
