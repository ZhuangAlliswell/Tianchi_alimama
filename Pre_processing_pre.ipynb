{
 "cells": [
  {
   "cell_type": "code",
   "execution_count": 60,
   "metadata": {
    "collapsed": false
   },
   "outputs": [
    {
     "name": "stdout",
     "output_type": "stream",
     "text": [
      "Read Data Finish\n"
     ]
    }
   ],
   "source": [
    "import pandas as pd\n",
    "import numpy as np\n",
    "path='/home/student303/zz/almama/'\n",
    "train = pd.read_table(path+ 'train.txt' ,sep=' ')\n",
    "test = pd.read_table(path+ 'test.txt' ,sep=' ')\n",
    "print('Read Data Finish')"
   ]
  },
  {
   "cell_type": "code",
   "execution_count": 61,
   "metadata": {
    "collapsed": false
   },
   "outputs": [
    {
     "name": "stdout",
     "output_type": "stream",
     "text": [
      "(478138, 27)\n",
      "(478111, 27)\n"
     ]
    }
   ],
   "source": [
    "## drop duplicates\n",
    "print(train.shape)\n",
    "train = train.drop_duplicates()\n",
    "print(train.shape)"
   ]
  },
  {
   "cell_type": "code",
   "execution_count": 6,
   "metadata": {
    "collapsed": true
   },
   "outputs": [],
   "source": [
    "import hashlib,time\n",
    "NR_BINS = 10000\n",
    "def hashstr(input):\n",
    "    return int(hashlib.md5(input.encode('utf8')).hexdigest(), 16)%(NR_BINS-1)+1\n",
    "def timestamp_datetime(value):\n",
    "    #format = '%Y-%m-%d %H:%M:%S'\n",
    "    format = '%Y%m%d%H%M%S'    \n",
    "    value = time.localtime(value)\n",
    "    dt = time.strftime(format, value)[6:]\n",
    "    return int(dt[0:2]),int(dt[2:4]),int(dt[4:6]),int(dt[6:8])"
   ]
  },
  {
   "cell_type": "code",
   "execution_count": 63,
   "metadata": {
    "collapsed": true
   },
   "outputs": [],
   "source": [
    "combine = [train, test]\n",
    "for data in combine:\n",
    "    data['item_category_hash']=data['item_category_list'].apply(hashstr)\n",
    "    data['day'],data['hour'],data['min'],data['second'] = zip(*data['context_timestamp'].apply(timestamp_datetime))\n",
    "    data=data.drop(['context_timestamp'], axis=1)"
   ]
  },
  {
   "cell_type": "code",
   "execution_count": 59,
   "metadata": {
    "collapsed": true
   },
   "outputs": [],
   "source": [
    "train.to_hdf(path + 'somefeature/base_feature_train_0.h5',key='a',index=False)\n",
    "test.to_hdf(path + 'somefeature/base_feature_test_0.h5',key='a',index=False)"
   ]
  },
  {
   "cell_type": "code",
   "execution_count": 3,
   "metadata": {
    "collapsed": true
   },
   "outputs": [],
   "source": [
    "#new_chapter\n",
    "import pandas as pd\n",
    "import numpy as np\n",
    "path='/home/student303/oyx/almama/'\n",
    "test_b =  pd.read_table(path+ 'test_b.txt' ,sep=' ')"
   ]
  },
  {
   "cell_type": "code",
   "execution_count": 7,
   "metadata": {
    "collapsed": true
   },
   "outputs": [],
   "source": [
    "data = test_b\n",
    "data['item_category_hash']=data['item_category_list'].apply(hashstr)\n",
    "data['day'],data['hour'],data['min'],data['second'] = zip(*data['context_timestamp'].apply(timestamp_datetime))\n",
    "data=data.drop(['context_timestamp'], axis=1)"
   ]
  },
  {
   "cell_type": "code",
   "execution_count": 9,
   "metadata": {
    "collapsed": true
   },
   "outputs": [],
   "source": [
    "test_b.to_hdf(path + 'somefeature/base_feature_test_b_0.h5',key='a',index=False)"
   ]
  },
  {
   "cell_type": "code",
   "execution_count": 13,
   "metadata": {
    "collapsed": true
   },
   "outputs": [],
   "source": [
    "#some annylize\n",
    "test =  pd.read_hdf(path+ 'somefeature/base_feature_test_0.h5' , key='a')"
   ]
  }
 ],
 "metadata": {
  "kernelspec": {
   "display_name": "Python 3",
   "language": "python",
   "name": "python3"
  },
  "language_info": {
   "codemirror_mode": {
    "name": "ipython",
    "version": 3
   },
   "file_extension": ".py",
   "mimetype": "text/x-python",
   "name": "python",
   "nbconvert_exporter": "python",
   "pygments_lexer": "ipython3",
   "version": "3.6.1"
  }
 },
 "nbformat": 4,
 "nbformat_minor": 2
}
