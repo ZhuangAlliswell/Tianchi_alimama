{
 "cells": [
  {
   "cell_type": "code",
   "execution_count": 173,
   "metadata": {
    "collapsed": false
   },
   "outputs": [
    {
     "name": "stdout",
     "output_type": "stream",
     "text": [
      "Read Data Finish\n"
     ]
    }
   ],
   "source": [
    "import pandas as pd\n",
    "import numpy as np\n",
    "import gc\n",
    "path='/home/student303/zz/almama/'\n",
    "train = pd.read_hdf(path+ 'somefeature/base_feature_train_0.h5')\n",
    "test = pd.read_hdf(path+ 'somefeature/base_feature_test_0.h5')\n",
    "print('Read Data Finish')"
   ]
  },
  {
   "cell_type": "code",
   "execution_count": 174,
   "metadata": {
    "collapsed": true
   },
   "outputs": [],
   "source": [
    "combine = [train, test]\n",
    "co_df = pd.concat(combine, axis=0, ignore_index=True)"
   ]
  },
  {
   "cell_type": "code",
   "execution_count": 119,
   "metadata": {
    "collapsed": true
   },
   "outputs": [
    {
     "name": "stdout",
     "output_type": "stream",
     "text": [
      "(496455, 32)*****instance_id\n",
      "(10236, 32)*****item_id\n",
      "(14, 32)*****item_category_list\n",
      "(11181, 32)*****item_property_list\n",
      "(2075, 32)*****item_brand_id\n",
      "(128, 32)*****item_city_id\n",
      "(14, 32)*****item_price_level\n",
      "(18, 32)*****item_sales_level\n",
      "(18, 32)*****item_collected_level\n",
      "(22, 32)*****item_pv_level\n",
      "(207641, 32)*****user_id\n",
      "(4, 32)*****user_gender_id\n",
      "(9, 32)*****user_age_level\n",
      "(5, 32)*****user_occupation_id\n",
      "(12, 32)*****user_star_level\n",
      "(496482, 32)*****context_id\n",
      "(297416, 32)*****context_timestamp\n",
      "(20, 32)*****context_page_id\n",
      "(82378, 32)*****predict_category_property\n",
      "(4003, 32)*****shop_id\n",
      "(25, 32)*****shop_review_num_level\n",
      "(13021, 32)*****shop_review_positive_rate\n",
      "(22, 32)*****shop_star_level\n",
      "(18102, 32)*****shop_score_service\n",
      "(18151, 32)*****shop_score_delivery\n",
      "(18204, 32)*****shop_score_description\n",
      "(3, 32)*****is_trade\n",
      "(14, 32)*****item_category_hash\n",
      "(8, 32)*****day\n",
      "(24, 32)*****hour\n",
      "(60, 32)*****min\n",
      "(60, 32)*****second\n"
     ]
    }
   ],
   "source": [
    "for j in list(train.columns):\n",
    "    print(co_df[~co_df[j].duplicated()].shape, end='*****')\n",
    "    print(j)"
   ]
  },
  {
   "cell_type": "code",
   "execution_count": 175,
   "metadata": {
    "collapsed": true
   },
   "outputs": [],
   "source": [
    "co_df_columns = list(co_df.columns)\n",
    "for i in ['instance_id','context_id',\n",
    "          'context_timestamp',\n",
    "          'predict_category_property',\n",
    "          'is_trade'\n",
    "          ,'day'\n",
    "         ]:\n",
    "    co_df_columns.remove(i)"
   ]
  },
  {
   "cell_type": "code",
   "execution_count": 176,
   "metadata": {
    "collapsed": false
   },
   "outputs": [
    {
     "data": {
      "text/plain": [
       "['context_page_id',\n",
       " 'hour',\n",
       " 'item_brand_id',\n",
       " 'item_category_hash',\n",
       " 'item_category_list',\n",
       " 'item_city_id',\n",
       " 'item_collected_level',\n",
       " 'item_id',\n",
       " 'item_price_level',\n",
       " 'item_property_list',\n",
       " 'item_pv_level',\n",
       " 'item_sales_level',\n",
       " 'min',\n",
       " 'second',\n",
       " 'shop_id',\n",
       " 'shop_review_num_level',\n",
       " 'shop_review_positive_rate',\n",
       " 'shop_score_delivery',\n",
       " 'shop_score_description',\n",
       " 'shop_score_service',\n",
       " 'shop_star_level',\n",
       " 'user_age_level',\n",
       " 'user_gender_id',\n",
       " 'user_id',\n",
       " 'user_occupation_id',\n",
       " 'user_star_level']"
      ]
     },
     "execution_count": 176,
     "metadata": {},
     "output_type": "execute_result"
    }
   ],
   "source": [
    "co_df_columns"
   ]
  },
  {
   "cell_type": "code",
   "execution_count": 177,
   "metadata": {
    "collapsed": true
   },
   "outputs": [],
   "source": [
    "name = locals()\n",
    "for starttime in range(18,23):\n",
    "    windowsize = 3\n",
    "    windowday = []\n",
    "    for i in range(windowsize):\n",
    "        windowday.append(starttime + i)\n",
    "    tmpdata = pd.DataFrame()  \n",
    "    for i in windowday:\n",
    "        tmpdata = pd.concat([tmpdata,co_df[co_df.day == i]], axis=0, ignore_index=True)\n",
    "\n",
    "    name['merge' + '_' + str(starttime + windowsize)] = co_df[co_df.day == (starttime + windowsize)]\n",
    "    for i in co_df_columns:\n",
    "        tmpmerge1 = tmpdata[[i,'instance_id']].groupby([i]).count().reset_index()\n",
    "        tmpmerge1.rename(columns={'instance_id':'A'}, inplace = True)\n",
    "\n",
    "        tmpmerge2 = tmpdata[tmpdata.is_trade == 1][[i,'instance_id']].groupby([i]).count().reset_index()\n",
    "        tmpmerge2.rename(columns={'instance_id':'B'}, inplace = True)\n",
    "\n",
    "        tmpmerge1 = pd.merge(tmpmerge1, tmpmerge2, on=i, how='left')\n",
    "        tmpmerge1 = tmpmerge1.fillna(0)\n",
    "\n",
    "        tmpmerge1[i + '_cvr'] = (tmpmerge1['B']+1)  / (tmpmerge1['A']+50)\n",
    "        tmpmerge1.drop(['A','B'], axis=1, inplace=True)\n",
    "        name['merge' +  '_' +str(starttime + windowsize)] = pd.merge(name['merge' +  '_' +str(starttime + windowsize)] , tmpmerge1, on=i, how='left')\n",
    "        del tmpmerge1\n",
    "        del tmpmerge2 \n",
    "        gc.collect()"
   ]
  },
  {
   "cell_type": "code",
   "execution_count": 178,
   "metadata": {
    "collapsed": true
   },
   "outputs": [],
   "source": [
    "tmpdf =  pd.DataFrame() \n",
    "for i in range(21,26):\n",
    "    tmpdf = pd.concat([tmpdf,name['merge'+'_'+str(i)]], axis=0, ignore_index=True)"
   ]
  },
  {
   "cell_type": "markdown",
   "metadata": {},
   "source": [
    "## save data to somefeature/one_column_cvr.h5"
   ]
  },
  {
   "cell_type": "code",
   "execution_count": 181,
   "metadata": {
    "collapsed": true
   },
   "outputs": [],
   "source": [
    "save_train = tmpdf[tmpdf.day != 25]\n",
    "save_test = tmpdf[tmpdf.day == 25]\n",
    "\n",
    "tmpdf.to_hdf(path + 'somefeature/one_column_cvr.h5',key='a',index=False)\n",
    "save_train.to_hdf(path + 'somefeature/one_column_train_cvr.h5',key='a',index=False)\n",
    "save_test.to_hdf(path + 'somefeature/one_column_test_cvr.h5',key='a',index=False)"
   ]
  }
 ],
 "metadata": {
  "kernelspec": {
   "display_name": "Python 3",
   "language": "python",
   "name": "python3"
  },
  "language_info": {
   "codemirror_mode": {
    "name": "ipython",
    "version": 3
   },
   "file_extension": ".py",
   "mimetype": "text/x-python",
   "name": "python",
   "nbconvert_exporter": "python",
   "pygments_lexer": "ipython3",
   "version": "3.6.0"
  }
 },
 "nbformat": 4,
 "nbformat_minor": 2
}
