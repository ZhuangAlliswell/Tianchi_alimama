{
 "cells": [
  {
   "cell_type": "markdown",
   "metadata": {},
   "source": [
    "## read data"
   ]
  },
  {
   "cell_type": "code",
   "execution_count": 36,
   "metadata": {},
   "outputs": [
    {
     "name": "stdout",
     "output_type": "stream",
     "text": [
      "Read Data Finish\n"
     ]
    }
   ],
   "source": [
    "import pandas as pd\n",
    "import numpy as np\n",
    "path='/home/student303/oyx/almama/'\n",
    "train = pd.read_table(path+ 'train.txt' ,sep=' ')\n",
    "test = pd.read_table(path+ 'test.txt' ,sep=' ')\n",
    "print('Read Data Finish')"
   ]
  },
  {
   "cell_type": "markdown",
   "metadata": {},
   "source": [
    "## drop dupplicates"
   ]
  },
  {
   "cell_type": "code",
   "execution_count": 37,
   "metadata": {},
   "outputs": [
    {
     "name": "stdout",
     "output_type": "stream",
     "text": [
      "(478138, 27)\n",
      "(18371, 26)\n",
      "(478111, 27)\n"
     ]
    }
   ],
   "source": [
    "## drop duplicates\n",
    "print(train.shape)\n",
    "print(test.shape)\n",
    "train = train.drop_duplicates()\n",
    "print(train.shape)"
   ]
  },
  {
   "cell_type": "markdown",
   "metadata": {},
   "source": [
    "## save label to y_train.csv"
   ]
  },
  {
   "cell_type": "code",
   "execution_count": 7,
   "metadata": {
    "collapsed": true
   },
   "outputs": [],
   "source": [
    "# y_train = train[['is_trade']]\n",
    "# y_train['merge_index_y'] = y_train[['is_trade']].apply(lambda x: x.index)\n",
    "# y_train.to_csv(path + 'somefeature/y_train.csv',index = False)"
   ]
  },
  {
   "cell_type": "markdown",
   "metadata": {},
   "source": [
    "## split_item_category_list"
   ]
  },
  {
   "cell_type": "code",
   "execution_count": 40,
   "metadata": {
    "collapsed": true
   },
   "outputs": [],
   "source": [
    "combine = [train, test]"
   ]
  },
  {
   "cell_type": "code",
   "execution_count": 8,
   "metadata": {
    "collapsed": true
   },
   "outputs": [],
   "source": [
    "# def split_item_category_list(x):\n",
    "#     if len(x.split(';')) == 2:\n",
    "#         return (x+';-1').split(';') \n",
    "#     else:\n",
    "#         return x.split(';')"
   ]
  },
  {
   "cell_type": "code",
   "execution_count": 11,
   "metadata": {},
   "outputs": [
    {
     "name": "stdout",
     "output_type": "stream",
     "text": [
      "split done\n"
     ]
    }
   ],
   "source": [
    "# for data in combine:\n",
    "#     data['item_category_list_1'],data['item_category_list_2'],data['item_category_list_3'] =\\\n",
    "#     zip(*data['item_category_list'].apply(lambda x: split_item_category_list(x)))\n",
    "#     #data.drop('item_category_list', axis=1, inplace=True)\n",
    "# print('split done')"
   ]
  },
  {
   "cell_type": "markdown",
   "metadata": {},
   "source": [
    "## convert unix timestamp to normal time"
   ]
  },
  {
   "cell_type": "code",
   "execution_count": 28,
   "metadata": {
    "collapsed": true
   },
   "outputs": [],
   "source": [
    "import time\n",
    "def timestamp_datetime(value):\n",
    "    #format = '%Y-%m-%d %H:%M:%S'\n",
    "    format = '%Y%m%d%H%M%S'    \n",
    "    value = time.localtime(value)\n",
    "    dt = time.strftime(format, value)\n",
    "    return dt"
   ]
  },
  {
   "cell_type": "code",
   "execution_count": 29,
   "metadata": {
    "collapsed": true
   },
   "outputs": [],
   "source": [
    "for data in combine:\n",
    "    data['local_contex_timestamp'] = data.context_timestamp.apply(timestamp_datetime)"
   ]
  },
  {
   "cell_type": "markdown",
   "metadata": {},
   "source": [
    "## extract time infomation from local_contex_timestamp"
   ]
  },
  {
   "cell_type": "code",
   "execution_count": 44,
   "metadata": {
    "collapsed": true
   },
   "outputs": [],
   "source": [
    "def time_process(time):\n",
    "    tmpweek = 0\n",
    "    time = time[6:]\n",
    "    return int(time[0:2]),int(time[2:4]),int(time[4:6]),int(time[6:8])"
   ]
  },
  {
   "cell_type": "code",
   "execution_count": 34,
   "metadata": {
    "collapsed": true
   },
   "outputs": [],
   "source": [
    "for data in combine:\n",
    "    data['day'],data['hour'],data['min'],data['second'] =\\\n",
    "    zip(*data['local_contex_timestamp'].apply(lambda x: time_process(x)))\n",
    "    #data.drop('item_category_list', axis=1, inplace=True)    "
   ]
  },
  {
   "cell_type": "markdown",
   "metadata": {},
   "source": [
    "## cal the duration of the hour and the week"
   ]
  },
  {
   "cell_type": "code",
   "execution_count": 12,
   "metadata": {
    "collapsed": true
   },
   "outputs": [],
   "source": [
    "# def cal_duration(hour):\n",
    "#     if int(hour) >= 5 and int(hour) <= 12:\n",
    "#         return 0\n",
    "#     elif int(hour) >12 and int(hour) <=17:\n",
    "#         return 1\n",
    "#     else:\n",
    "#         return 2"
   ]
  },
  {
   "cell_type": "code",
   "execution_count": 13,
   "metadata": {
    "collapsed": true
   },
   "outputs": [],
   "source": [
    "# for data in combine:\n",
    "#     data['duration'] = data.hour.apply(lambda x: cal_duration(x))\n",
    "#     data['week'] = data['day'].apply(lambda x: int(x)%7)"
   ]
  },
  {
   "cell_type": "code",
   "execution_count": 14,
   "metadata": {
    "collapsed": true
   },
   "outputs": [],
   "source": [
    "# for data in combine:\n",
    "#     data['merge_index'] = data[['instance_id']].apply(lambda x: x.index)"
   ]
  },
  {
   "cell_type": "markdown",
   "metadata": {},
   "source": [
    "## save dataframe in feature ku"
   ]
  },
  {
   "cell_type": "code",
   "execution_count": 21,
   "metadata": {
    "collapsed": true
   },
   "outputs": [],
   "source": [
    "train.to_hdf(path + 'somefeature/base_feature_train.h5',key='a',index=False)\n",
    "test.to_hdf(path + 'somefeature/base_feature_test.h5',key='a',index=False)"
   ]
  }
 ],
 "metadata": {
  "kernelspec": {
   "display_name": "Python 3",
   "language": "python",
   "name": "python3"
  },
  "language_info": {
   "codemirror_mode": {
    "name": "ipython",
    "version": 3
   },
   "file_extension": ".py",
   "mimetype": "text/x-python",
   "name": "python",
   "nbconvert_exporter": "python",
   "pygments_lexer": "ipython3",
   "version": "3.6.1"
  }
 },
 "nbformat": 4,
 "nbformat_minor": 2
}
