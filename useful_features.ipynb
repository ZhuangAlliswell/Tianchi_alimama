{
 "cells": [
  {
   "cell_type": "code",
   "execution_count": 99,
   "metadata": {
    "collapsed": false
   },
   "outputs": [
    {
     "name": "stdout",
     "output_type": "stream",
     "text": [
      "Read Data Finish\n"
     ]
    }
   ],
   "source": [
    "import numpy as np\n",
    "import pandas as pd\n",
    "import lightgbm as lgb\n",
    "import gc\n",
    "path='/home/student303/zz/almama/'\n",
    "train = pd.read_hdf(path+ 'somefeature/base_feature_train_0.h5')\n",
    "test = pd.read_hdf(path+ 'somefeature/base_feature_test_0.h5')\n",
    "combine = [train, test]\n",
    "print('Read Data Finish')"
   ]
  },
  {
   "cell_type": "code",
   "execution_count": 176,
   "metadata": {
    "collapsed": true
   },
   "outputs": [],
   "source": [
    "def logloss(act, pred):\n",
    "    epsilon = 1e-15\n",
    "    pred = sp.maximum(epsilon, pred)\n",
    "    pred = sp.minimum(1-epsilon, pred)\n",
    "    ll = sum(act*sp.log(pred) + sp.subtract(1,act)*sp.log(sp.subtract(1,pred)))\n",
    "    ll = ll * -1.0/len(act)\n",
    "    return ll"
   ]
  },
  {
   "cell_type": "code",
   "execution_count": 740,
   "metadata": {
    "collapsed": true
   },
   "outputs": [],
   "source": [
    "droplist = ['instance_id',\n",
    "            'item_category_list',\n",
    "            'item_property_list',\n",
    "            'user_id',\n",
    "            'context_id',\n",
    "            'context_timestamp',\n",
    "            'predict_category_property',\n",
    "             'min', 'second',\n",
    "            #'shop_id'，\n",
    "            \n",
    "            'user_nextclik_time_interval',\n",
    "            'daily_clik_dup',\n",
    "            'daily_first_clik_time',\n",
    "            'daily_last_clik_time',\n",
    "            'first_clik_poz',\n",
    "            'top_three_clik_poz',\n",
    "            'most_cilk_price',\n",
    "            'top_three_cilk_price',\n",
    "            'user_lastclik_time_interval',\n",
    "            'clik_time_duration',\n",
    "            'item_price_level->daily_last_clik_time_cnt',\n",
    "            'user_day_diff_category',\n",
    "            'clik_item_category_3',\n",
    "            'user_day_clik_cnt',\n",
    "            'tmp_index',\n",
    "            'max_index',\n",
    "            'cal_top_clik',\n",
    "            #'user_clik_cnt',\n",
    "            'min_index',\n",
    "            'cal_tail_clik',\n",
    "            'user_day_diff_category_true',\n",
    "            'user_clik_frequency'\n",
    "\n",
    "           ]\n",
    "#df_test = test.drop(droplist, axis=1)\n",
    "df_train = train.drop(droplist, axis=1)"
   ]
  },
  {
   "cell_type": "code",
   "execution_count": 742,
   "metadata": {
    "collapsed": false
   },
   "outputs": [
    {
     "data": {
      "text/plain": [
       "Index(['item_id', 'item_brand_id', 'item_city_id', 'item_price_level',\n",
       "       'item_sales_level', 'item_collected_level', 'item_pv_level',\n",
       "       'user_gender_id', 'user_age_level', 'user_occupation_id',\n",
       "       'user_star_level', 'context_page_id', 'shop_id',\n",
       "       'shop_review_num_level', 'shop_review_positive_rate', 'shop_star_level',\n",
       "       'shop_score_service', 'shop_score_delivery', 'shop_score_description',\n",
       "       'item_category_hash', 'hour', 'user_clik_cnt'],\n",
       "      dtype='object')"
      ]
     },
     "execution_count": 742,
     "metadata": {},
     "output_type": "execute_result"
    }
   ],
   "source": [
    "train_X .columns"
   ]
  },
  {
   "cell_type": "code",
   "execution_count": 741,
   "metadata": {
    "collapsed": false
   },
   "outputs": [
    {
     "name": "stdout",
     "output_type": "stream",
     "text": [
      "LGBM training\n",
      "(420693, 22)\n",
      "Train until valid scores didn't improve in 500 rounds.\n",
      "[50]\ttraining's binary_logloss: 0.0901372\tvalid_1's binary_logloss: 0.0830656\n",
      "[100]\ttraining's binary_logloss: 0.0879586\tvalid_1's binary_logloss: 0.0818672\n",
      "[150]\ttraining's binary_logloss: 0.0869848\tvalid_1's binary_logloss: 0.0818294\n",
      "[200]\ttraining's binary_logloss: 0.0862627\tvalid_1's binary_logloss: 0.081801\n",
      "[250]\ttraining's binary_logloss: 0.0855556\tvalid_1's binary_logloss: 0.081852\n",
      "[300]\ttraining's binary_logloss: 0.0849276\tvalid_1's binary_logloss: 0.0818943\n",
      "[350]\ttraining's binary_logloss: 0.0843525\tvalid_1's binary_logloss: 0.0819527\n",
      "[400]\ttraining's binary_logloss: 0.0838449\tvalid_1's binary_logloss: 0.082034\n",
      "[450]\ttraining's binary_logloss: 0.0833432\tvalid_1's binary_logloss: 0.0821068\n",
      "[500]\ttraining's binary_logloss: 0.0828829\tvalid_1's binary_logloss: 0.082199\n",
      "[550]\ttraining's binary_logloss: 0.0823836\tvalid_1's binary_logloss: 0.0822875\n",
      "[600]\ttraining's binary_logloss: 0.0819323\tvalid_1's binary_logloss: 0.0823788\n",
      "[650]\ttraining's binary_logloss: 0.0815043\tvalid_1's binary_logloss: 0.0824728\n",
      "[700]\ttraining's binary_logloss: 0.0811165\tvalid_1's binary_logloss: 0.0825486\n",
      "Early stopping, best iteration is:\n",
      "[202]\ttraining's binary_logloss: 0.0862251\tvalid_1's binary_logloss: 0.0817916\n",
      "LGBM training done\n"
     ]
    }
   ],
   "source": [
    "train_train = df_train[df_train.day != 24]\n",
    "train_valid = df_train[df_train.day == 24]\n",
    "\n",
    "train_X = train_train.drop(['is_trade','day'], axis=1)\n",
    "train_y = train_train['is_trade'].values\n",
    "\n",
    "valid_X = train_valid.drop(['is_trade','day'], axis=1)\n",
    "valid_y = train_valid['is_trade'].values\n",
    "\n",
    "#train_X, valid_X, train_y, valid_y = train_test_split(df_train, y_train['is_trade'], test_size = 0.1, random_state = 144) \n",
    "\n",
    "d_train = lgb.Dataset(train_X, label=train_y)\n",
    "d_valid = lgb.Dataset(valid_X, label=valid_y)\n",
    "watchlist = [d_train, d_valid]\n",
    "\n",
    "print('LGBM training')\n",
    "print(train_X.shape)\n",
    "#lgb_train = lgb.Dataset(df_train.values, label = y_train.is_trade)\n",
    "params = {\n",
    "    'task': 'train',\n",
    "    'objective': 'binary',\n",
    "    'metric': 'binary_logloss',\n",
    "    'max_depth':4,\n",
    "    #'num_leaves': 6,\n",
    "    #'min_data_in_leaf':1,\n",
    "    'learning_rate': 0.1,\n",
    "    'feature_fraction': 0.8,\n",
    "    'bagging_fraction': 1.0,\n",
    "    'verbose': 0,\n",
    "}\n",
    "\n",
    "model = lgb.train(params, train_set=d_train, num_boost_round=6000, valid_sets=watchlist, \\\n",
    "                  early_stopping_rounds=500, verbose_eval=50)\n",
    "print('LGBM training done')"
   ]
  },
  {
   "cell_type": "code",
   "execution_count": 760,
   "metadata": {
    "collapsed": false
   },
   "outputs": [
    {
     "data": {
      "text/plain": [
       "<matplotlib.axes._subplots.AxesSubplot at 0x7fea0d4efba8>"
      ]
     },
     "execution_count": 760,
     "metadata": {},
     "output_type": "execute_result"
    },
    {
     "data": {
      "image/png": "[encoded data removed]",
      "text/plain": [
       "<matplotlib.figure.Figure at 0x7fea0d4ef0f0>"
      ]
     },
     "metadata": {},
     "output_type": "display_data"
    }
   ],
   "source": [
    "%matplotlib inline\n",
    "lgb.plot_importance(model)"
   ]
  },
  {
   "cell_type": "markdown",
   "metadata": {},
   "source": [
    "## 用户昨日最后一次点击到现在的时间间隔"
   ]
  },
  {
   "cell_type": "code",
   "execution_count": 191,
   "metadata": {
    "collapsed": false
   },
   "outputs": [
    {
     "data": {
      "text/plain": [
       "Index(['instance_id', 'item_id', 'item_brand_id', 'item_city_id',\n",
       "       'item_price_level', 'item_sales_level', 'item_collected_level',\n",
       "       'item_pv_level', 'user_gender_id', 'user_age_level',\n",
       "       'user_occupation_id', 'user_star_level', 'context_timestamp',\n",
       "       'context_page_id', 'shop_id', 'shop_review_num_level',\n",
       "       'shop_review_positive_rate', 'shop_star_level', 'shop_score_service',\n",
       "       'shop_score_delivery', 'shop_score_description', 'is_trade',\n",
       "       'item_category_hash', 'day', 'hour', 'min', 'second', 'daily_clik_dup'],\n",
       "      dtype='object')"
      ]
     },
     "execution_count": 191,
     "metadata": {},
     "output_type": "execute_result"
    }
   ],
   "source": [
    "df_train.columns"
   ]
  },
  {
   "cell_type": "code",
   "execution_count": 2,
   "metadata": {
    "collapsed": true
   },
   "outputs": [],
   "source": [
    "import time\n",
    "def timestamp_datetime(value):\n",
    "    #format = '%Y-%m-%d %H:%M:%S'\n",
    "    format = '%Y%m%d%H%M%S'    \n",
    "    value = time.localtime(value)\n",
    "    dt = time.strftime(format, value)\n",
    "    return dt"
   ]
  },
  {
   "cell_type": "code",
   "execution_count": 103,
   "metadata": {
    "collapsed": false,
    "scrolled": true
   },
   "outputs": [
    {
     "data": {
      "text/html": [
       "<div>\n",
       "<style>\n",
       "    .dataframe thead tr:only-child th {\n",
       "        text-align: right;\n",
       "    }\n",
       "\n",
       "    .dataframe thead th {\n",
       "        text-align: left;\n",
       "    }\n",
       "\n",
       "    .dataframe tbody tr th {\n",
       "        vertical-align: top;\n",
       "    }\n",
       "</style>\n",
       "<table border=\"1\" class=\"dataframe\">\n",
       "  <thead>\n",
       "    <tr style=\"text-align: right;\">\n",
       "      <th></th>\n",
       "      <th>context_timestamp</th>\n",
       "      <th>day</th>\n",
       "      <th>hour</th>\n",
       "      <th>min</th>\n",
       "      <th>second</th>\n",
       "      <th>is_trade</th>\n",
       "    </tr>\n",
       "  </thead>\n",
       "  <tbody>\n",
       "    <tr>\n",
       "      <th>1</th>\n",
       "      <td>1537243232</td>\n",
       "      <td>18</td>\n",
       "      <td>12</td>\n",
       "      <td>0</td>\n",
       "      <td>32</td>\n",
       "      <td>0</td>\n",
       "    </tr>\n",
       "    <tr>\n",
       "      <th>19598</th>\n",
       "      <td>1537247404</td>\n",
       "      <td>18</td>\n",
       "      <td>13</td>\n",
       "      <td>10</td>\n",
       "      <td>4</td>\n",
       "      <td>0</td>\n",
       "    </tr>\n",
       "    <tr>\n",
       "      <th>31505</th>\n",
       "      <td>1537243304</td>\n",
       "      <td>18</td>\n",
       "      <td>12</td>\n",
       "      <td>1</td>\n",
       "      <td>44</td>\n",
       "      <td>0</td>\n",
       "    </tr>\n",
       "    <tr>\n",
       "      <th>38670</th>\n",
       "      <td>1537243232</td>\n",
       "      <td>18</td>\n",
       "      <td>12</td>\n",
       "      <td>0</td>\n",
       "      <td>32</td>\n",
       "      <td>0</td>\n",
       "    </tr>\n",
       "    <tr>\n",
       "      <th>62675</th>\n",
       "      <td>1537246805</td>\n",
       "      <td>18</td>\n",
       "      <td>13</td>\n",
       "      <td>0</td>\n",
       "      <td>5</td>\n",
       "      <td>0</td>\n",
       "    </tr>\n",
       "    <tr>\n",
       "      <th>73874</th>\n",
       "      <td>1537243232</td>\n",
       "      <td>18</td>\n",
       "      <td>12</td>\n",
       "      <td>0</td>\n",
       "      <td>32</td>\n",
       "      <td>0</td>\n",
       "    </tr>\n",
       "    <tr>\n",
       "      <th>76227</th>\n",
       "      <td>1537246571</td>\n",
       "      <td>18</td>\n",
       "      <td>12</td>\n",
       "      <td>56</td>\n",
       "      <td>11</td>\n",
       "      <td>0</td>\n",
       "    </tr>\n",
       "    <tr>\n",
       "      <th>77717</th>\n",
       "      <td>1537243167</td>\n",
       "      <td>18</td>\n",
       "      <td>11</td>\n",
       "      <td>59</td>\n",
       "      <td>27</td>\n",
       "      <td>0</td>\n",
       "    </tr>\n",
       "    <tr>\n",
       "      <th>169702</th>\n",
       "      <td>1537321621</td>\n",
       "      <td>19</td>\n",
       "      <td>9</td>\n",
       "      <td>47</td>\n",
       "      <td>1</td>\n",
       "      <td>0</td>\n",
       "    </tr>\n",
       "    <tr>\n",
       "      <th>183133</th>\n",
       "      <td>1537321621</td>\n",
       "      <td>19</td>\n",
       "      <td>9</td>\n",
       "      <td>47</td>\n",
       "      <td>1</td>\n",
       "      <td>0</td>\n",
       "    </tr>\n",
       "  </tbody>\n",
       "</table>\n",
       "</div>"
      ],
      "text/plain": [
       "        context_timestamp  day  hour  min  second  is_trade\n",
       "1              1537243232   18    12    0      32         0\n",
       "19598          1537247404   18    13   10       4         0\n",
       "31505          1537243304   18    12    1      44         0\n",
       "38670          1537243232   18    12    0      32         0\n",
       "62675          1537246805   18    13    0       5         0\n",
       "73874          1537243232   18    12    0      32         0\n",
       "76227          1537246571   18    12   56      11         0\n",
       "77717          1537243167   18    11   59      27         0\n",
       "169702         1537321621   19     9   47       1         0\n",
       "183133         1537321621   19     9   47       1         0"
      ]
     },
     "execution_count": 103,
     "metadata": {},
     "output_type": "execute_result"
    }
   ],
   "source": [
    "train[train.user_id == 2692638157208937547][['context_timestamp','day','hour','min','second','is_trade']]"
   ]
  },
  {
   "cell_type": "markdown",
   "metadata": {},
   "source": [
    "## 用户最近三次点击不同item_id序列的hash"
   ]
  },
  {
   "cell_type": "code",
   "execution_count": 162,
   "metadata": {
    "collapsed": false,
    "scrolled": true
   },
   "outputs": [
    {
     "data": {
      "text/html": [
       "<div>\n",
       "<style>\n",
       "    .dataframe thead tr:only-child th {\n",
       "        text-align: right;\n",
       "    }\n",
       "\n",
       "    .dataframe thead th {\n",
       "        text-align: left;\n",
       "    }\n",
       "\n",
       "    .dataframe tbody tr th {\n",
       "        vertical-align: top;\n",
       "    }\n",
       "</style>\n",
       "<table border=\"1\" class=\"dataframe\">\n",
       "  <thead>\n",
       "    <tr style=\"text-align: right;\">\n",
       "      <th></th>\n",
       "      <th>user_id</th>\n",
       "      <th>item_id</th>\n",
       "      <th>day</th>\n",
       "      <th>min</th>\n",
       "      <th>second</th>\n",
       "      <th>is_trade</th>\n",
       "    </tr>\n",
       "  </thead>\n",
       "  <tbody>\n",
       "    <tr>\n",
       "      <th>3363</th>\n",
       "      <td>3854223874089995979</td>\n",
       "      <td>2709839111509701702</td>\n",
       "      <td>18</td>\n",
       "      <td>34</td>\n",
       "      <td>45</td>\n",
       "      <td>0</td>\n",
       "    </tr>\n",
       "    <tr>\n",
       "      <th>9197</th>\n",
       "      <td>3854223874089995979</td>\n",
       "      <td>3658984445149126874</td>\n",
       "      <td>18</td>\n",
       "      <td>32</td>\n",
       "      <td>17</td>\n",
       "      <td>0</td>\n",
       "    </tr>\n",
       "    <tr>\n",
       "      <th>29171</th>\n",
       "      <td>3854223874089995979</td>\n",
       "      <td>4685543250298086856</td>\n",
       "      <td>18</td>\n",
       "      <td>33</td>\n",
       "      <td>9</td>\n",
       "      <td>0</td>\n",
       "    </tr>\n",
       "    <tr>\n",
       "      <th>33785</th>\n",
       "      <td>3854223874089995979</td>\n",
       "      <td>7697581527441910922</td>\n",
       "      <td>18</td>\n",
       "      <td>31</td>\n",
       "      <td>45</td>\n",
       "      <td>0</td>\n",
       "    </tr>\n",
       "    <tr>\n",
       "      <th>33869</th>\n",
       "      <td>3854223874089995979</td>\n",
       "      <td>4339204808801654205</td>\n",
       "      <td>18</td>\n",
       "      <td>31</td>\n",
       "      <td>45</td>\n",
       "      <td>0</td>\n",
       "    </tr>\n",
       "    <tr>\n",
       "      <th>80156</th>\n",
       "      <td>3854223874089995979</td>\n",
       "      <td>5323767931396822716</td>\n",
       "      <td>21</td>\n",
       "      <td>55</td>\n",
       "      <td>12</td>\n",
       "      <td>0</td>\n",
       "    </tr>\n",
       "    <tr>\n",
       "      <th>81054</th>\n",
       "      <td>3854223874089995979</td>\n",
       "      <td>5467735841796001072</td>\n",
       "      <td>21</td>\n",
       "      <td>46</td>\n",
       "      <td>47</td>\n",
       "      <td>0</td>\n",
       "    </tr>\n",
       "    <tr>\n",
       "      <th>87886</th>\n",
       "      <td>3854223874089995979</td>\n",
       "      <td>4628629030303357696</td>\n",
       "      <td>21</td>\n",
       "      <td>43</td>\n",
       "      <td>22</td>\n",
       "      <td>0</td>\n",
       "    </tr>\n",
       "    <tr>\n",
       "      <th>88633</th>\n",
       "      <td>3854223874089995979</td>\n",
       "      <td>1967948096966846071</td>\n",
       "      <td>21</td>\n",
       "      <td>16</td>\n",
       "      <td>30</td>\n",
       "      <td>0</td>\n",
       "    </tr>\n",
       "    <tr>\n",
       "      <th>97190</th>\n",
       "      <td>3854223874089995979</td>\n",
       "      <td>8574148768443136881</td>\n",
       "      <td>21</td>\n",
       "      <td>40</td>\n",
       "      <td>51</td>\n",
       "      <td>0</td>\n",
       "    </tr>\n",
       "    <tr>\n",
       "      <th>100087</th>\n",
       "      <td>3854223874089995979</td>\n",
       "      <td>6501649901928748841</td>\n",
       "      <td>21</td>\n",
       "      <td>46</td>\n",
       "      <td>13</td>\n",
       "      <td>0</td>\n",
       "    </tr>\n",
       "    <tr>\n",
       "      <th>100139</th>\n",
       "      <td>3854223874089995979</td>\n",
       "      <td>6419358626801330132</td>\n",
       "      <td>21</td>\n",
       "      <td>42</td>\n",
       "      <td>51</td>\n",
       "      <td>0</td>\n",
       "    </tr>\n",
       "    <tr>\n",
       "      <th>101426</th>\n",
       "      <td>3854223874089995979</td>\n",
       "      <td>942018495269120499</td>\n",
       "      <td>21</td>\n",
       "      <td>37</td>\n",
       "      <td>17</td>\n",
       "      <td>0</td>\n",
       "    </tr>\n",
       "    <tr>\n",
       "      <th>101435</th>\n",
       "      <td>3854223874089995979</td>\n",
       "      <td>942018495269120499</td>\n",
       "      <td>21</td>\n",
       "      <td>42</td>\n",
       "      <td>2</td>\n",
       "      <td>0</td>\n",
       "    </tr>\n",
       "    <tr>\n",
       "      <th>101446</th>\n",
       "      <td>3854223874089995979</td>\n",
       "      <td>942018495269120499</td>\n",
       "      <td>21</td>\n",
       "      <td>47</td>\n",
       "      <td>52</td>\n",
       "      <td>0</td>\n",
       "    </tr>\n",
       "    <tr>\n",
       "      <th>104699</th>\n",
       "      <td>3854223874089995979</td>\n",
       "      <td>6535973157429367021</td>\n",
       "      <td>21</td>\n",
       "      <td>27</td>\n",
       "      <td>7</td>\n",
       "      <td>0</td>\n",
       "    </tr>\n",
       "    <tr>\n",
       "      <th>105108</th>\n",
       "      <td>3854223874089995979</td>\n",
       "      <td>482057822097185283</td>\n",
       "      <td>21</td>\n",
       "      <td>44</td>\n",
       "      <td>56</td>\n",
       "      <td>0</td>\n",
       "    </tr>\n",
       "    <tr>\n",
       "      <th>105125</th>\n",
       "      <td>3854223874089995979</td>\n",
       "      <td>482057822097185283</td>\n",
       "      <td>21</td>\n",
       "      <td>15</td>\n",
       "      <td>48</td>\n",
       "      <td>0</td>\n",
       "    </tr>\n",
       "    <tr>\n",
       "      <th>105133</th>\n",
       "      <td>3854223874089995979</td>\n",
       "      <td>482057822097185283</td>\n",
       "      <td>21</td>\n",
       "      <td>25</td>\n",
       "      <td>55</td>\n",
       "      <td>0</td>\n",
       "    </tr>\n",
       "    <tr>\n",
       "      <th>107110</th>\n",
       "      <td>3854223874089995979</td>\n",
       "      <td>4339204808801654205</td>\n",
       "      <td>21</td>\n",
       "      <td>40</td>\n",
       "      <td>2</td>\n",
       "      <td>0</td>\n",
       "    </tr>\n",
       "    <tr>\n",
       "      <th>107111</th>\n",
       "      <td>3854223874089995979</td>\n",
       "      <td>2573384769374687729</td>\n",
       "      <td>21</td>\n",
       "      <td>25</td>\n",
       "      <td>55</td>\n",
       "      <td>0</td>\n",
       "    </tr>\n",
       "    <tr>\n",
       "      <th>107113</th>\n",
       "      <td>3854223874089995979</td>\n",
       "      <td>2573384769374687729</td>\n",
       "      <td>21</td>\n",
       "      <td>45</td>\n",
       "      <td>2</td>\n",
       "      <td>0</td>\n",
       "    </tr>\n",
       "    <tr>\n",
       "      <th>107114</th>\n",
       "      <td>3854223874089995979</td>\n",
       "      <td>2573384769374687729</td>\n",
       "      <td>21</td>\n",
       "      <td>18</td>\n",
       "      <td>26</td>\n",
       "      <td>0</td>\n",
       "    </tr>\n",
       "    <tr>\n",
       "      <th>107119</th>\n",
       "      <td>3854223874089995979</td>\n",
       "      <td>1964841717448271996</td>\n",
       "      <td>21</td>\n",
       "      <td>40</td>\n",
       "      <td>51</td>\n",
       "      <td>0</td>\n",
       "    </tr>\n",
       "    <tr>\n",
       "      <th>110292</th>\n",
       "      <td>3854223874089995979</td>\n",
       "      <td>6929127628298547782</td>\n",
       "      <td>21</td>\n",
       "      <td>40</td>\n",
       "      <td>51</td>\n",
       "      <td>0</td>\n",
       "    </tr>\n",
       "    <tr>\n",
       "      <th>120173</th>\n",
       "      <td>3854223874089995979</td>\n",
       "      <td>8777881594532200391</td>\n",
       "      <td>21</td>\n",
       "      <td>50</td>\n",
       "      <td>41</td>\n",
       "      <td>0</td>\n",
       "    </tr>\n",
       "    <tr>\n",
       "      <th>121153</th>\n",
       "      <td>3854223874089995979</td>\n",
       "      <td>421273115521874153</td>\n",
       "      <td>21</td>\n",
       "      <td>50</td>\n",
       "      <td>7</td>\n",
       "      <td>0</td>\n",
       "    </tr>\n",
       "    <tr>\n",
       "      <th>126945</th>\n",
       "      <td>3854223874089995979</td>\n",
       "      <td>1325286126862680576</td>\n",
       "      <td>21</td>\n",
       "      <td>26</td>\n",
       "      <td>56</td>\n",
       "      <td>0</td>\n",
       "    </tr>\n",
       "    <tr>\n",
       "      <th>129471</th>\n",
       "      <td>3854223874089995979</td>\n",
       "      <td>2681025747052175060</td>\n",
       "      <td>21</td>\n",
       "      <td>28</td>\n",
       "      <td>6</td>\n",
       "      <td>0</td>\n",
       "    </tr>\n",
       "    <tr>\n",
       "      <th>139789</th>\n",
       "      <td>3854223874089995979</td>\n",
       "      <td>6552172944999471065</td>\n",
       "      <td>21</td>\n",
       "      <td>23</td>\n",
       "      <td>32</td>\n",
       "      <td>0</td>\n",
       "    </tr>\n",
       "    <tr>\n",
       "      <th>139817</th>\n",
       "      <td>3854223874089995979</td>\n",
       "      <td>6552172944999471065</td>\n",
       "      <td>21</td>\n",
       "      <td>27</td>\n",
       "      <td>26</td>\n",
       "      <td>0</td>\n",
       "    </tr>\n",
       "    <tr>\n",
       "      <th>139825</th>\n",
       "      <td>3854223874089995979</td>\n",
       "      <td>6552172944999471065</td>\n",
       "      <td>21</td>\n",
       "      <td>4</td>\n",
       "      <td>29</td>\n",
       "      <td>0</td>\n",
       "    </tr>\n",
       "    <tr>\n",
       "      <th>139840</th>\n",
       "      <td>3854223874089995979</td>\n",
       "      <td>6552172944999471065</td>\n",
       "      <td>21</td>\n",
       "      <td>42</td>\n",
       "      <td>4</td>\n",
       "      <td>0</td>\n",
       "    </tr>\n",
       "    <tr>\n",
       "      <th>139842</th>\n",
       "      <td>3854223874089995979</td>\n",
       "      <td>6552172944999471065</td>\n",
       "      <td>21</td>\n",
       "      <td>40</td>\n",
       "      <td>2</td>\n",
       "      <td>0</td>\n",
       "    </tr>\n",
       "    <tr>\n",
       "      <th>139848</th>\n",
       "      <td>3854223874089995979</td>\n",
       "      <td>6552172944999471065</td>\n",
       "      <td>21</td>\n",
       "      <td>18</td>\n",
       "      <td>26</td>\n",
       "      <td>0</td>\n",
       "    </tr>\n",
       "    <tr>\n",
       "      <th>139853</th>\n",
       "      <td>3854223874089995979</td>\n",
       "      <td>6552172944999471065</td>\n",
       "      <td>21</td>\n",
       "      <td>15</td>\n",
       "      <td>48</td>\n",
       "      <td>0</td>\n",
       "    </tr>\n",
       "    <tr>\n",
       "      <th>139862</th>\n",
       "      <td>3854223874089995979</td>\n",
       "      <td>6552172944999471065</td>\n",
       "      <td>21</td>\n",
       "      <td>34</td>\n",
       "      <td>16</td>\n",
       "      <td>0</td>\n",
       "    </tr>\n",
       "    <tr>\n",
       "      <th>139865</th>\n",
       "      <td>3854223874089995979</td>\n",
       "      <td>6552172944999471065</td>\n",
       "      <td>21</td>\n",
       "      <td>5</td>\n",
       "      <td>14</td>\n",
       "      <td>0</td>\n",
       "    </tr>\n",
       "    <tr>\n",
       "      <th>148203</th>\n",
       "      <td>3854223874089995979</td>\n",
       "      <td>1395754554121813716</td>\n",
       "      <td>21</td>\n",
       "      <td>53</td>\n",
       "      <td>44</td>\n",
       "      <td>0</td>\n",
       "    </tr>\n",
       "    <tr>\n",
       "      <th>149353</th>\n",
       "      <td>3854223874089995979</td>\n",
       "      <td>5606011357662901414</td>\n",
       "      <td>21</td>\n",
       "      <td>21</td>\n",
       "      <td>39</td>\n",
       "      <td>0</td>\n",
       "    </tr>\n",
       "    <tr>\n",
       "      <th>381323</th>\n",
       "      <td>3854223874089995979</td>\n",
       "      <td>4339204808801654205</td>\n",
       "      <td>23</td>\n",
       "      <td>13</td>\n",
       "      <td>45</td>\n",
       "      <td>0</td>\n",
       "    </tr>\n",
       "  </tbody>\n",
       "</table>\n",
       "</div>"
      ],
      "text/plain": [
       "                    user_id              item_id  day  min  second  is_trade\n",
       "3363    3854223874089995979  2709839111509701702   18   34      45         0\n",
       "9197    3854223874089995979  3658984445149126874   18   32      17         0\n",
       "29171   3854223874089995979  4685543250298086856   18   33       9         0\n",
       "33785   3854223874089995979  7697581527441910922   18   31      45         0\n",
       "33869   3854223874089995979  4339204808801654205   18   31      45         0\n",
       "80156   3854223874089995979  5323767931396822716   21   55      12         0\n",
       "81054   3854223874089995979  5467735841796001072   21   46      47         0\n",
       "87886   3854223874089995979  4628629030303357696   21   43      22         0\n",
       "88633   3854223874089995979  1967948096966846071   21   16      30         0\n",
       "97190   3854223874089995979  8574148768443136881   21   40      51         0\n",
       "100087  3854223874089995979  6501649901928748841   21   46      13         0\n",
       "100139  3854223874089995979  6419358626801330132   21   42      51         0\n",
       "101426  3854223874089995979   942018495269120499   21   37      17         0\n",
       "101435  3854223874089995979   942018495269120499   21   42       2         0\n",
       "101446  3854223874089995979   942018495269120499   21   47      52         0\n",
       "104699  3854223874089995979  6535973157429367021   21   27       7         0\n",
       "105108  3854223874089995979   482057822097185283   21   44      56         0\n",
       "105125  3854223874089995979   482057822097185283   21   15      48         0\n",
       "105133  3854223874089995979   482057822097185283   21   25      55         0\n",
       "107110  3854223874089995979  4339204808801654205   21   40       2         0\n",
       "107111  3854223874089995979  2573384769374687729   21   25      55         0\n",
       "107113  3854223874089995979  2573384769374687729   21   45       2         0\n",
       "107114  3854223874089995979  2573384769374687729   21   18      26         0\n",
       "107119  3854223874089995979  1964841717448271996   21   40      51         0\n",
       "110292  3854223874089995979  6929127628298547782   21   40      51         0\n",
       "120173  3854223874089995979  8777881594532200391   21   50      41         0\n",
       "121153  3854223874089995979   421273115521874153   21   50       7         0\n",
       "126945  3854223874089995979  1325286126862680576   21   26      56         0\n",
       "129471  3854223874089995979  2681025747052175060   21   28       6         0\n",
       "139789  3854223874089995979  6552172944999471065   21   23      32         0\n",
       "139817  3854223874089995979  6552172944999471065   21   27      26         0\n",
       "139825  3854223874089995979  6552172944999471065   21    4      29         0\n",
       "139840  3854223874089995979  6552172944999471065   21   42       4         0\n",
       "139842  3854223874089995979  6552172944999471065   21   40       2         0\n",
       "139848  3854223874089995979  6552172944999471065   21   18      26         0\n",
       "139853  3854223874089995979  6552172944999471065   21   15      48         0\n",
       "139862  3854223874089995979  6552172944999471065   21   34      16         0\n",
       "139865  3854223874089995979  6552172944999471065   21    5      14         0\n",
       "148203  3854223874089995979  1395754554121813716   21   53      44         0\n",
       "149353  3854223874089995979  5606011357662901414   21   21      39         0\n",
       "381323  3854223874089995979  4339204808801654205   23   13      45         0"
      ]
     },
     "execution_count": 162,
     "metadata": {},
     "output_type": "execute_result"
    }
   ],
   "source": [
    "train[['user_id','item_id','day','min','second','is_trade']][train.user_id == 3854223874089995979]"
   ]
  },
  {
   "cell_type": "markdown",
   "metadata": {},
   "source": [
    "## 用户当日重复点击该商品几次"
   ]
  },
  {
   "cell_type": "code",
   "execution_count": 183,
   "metadata": {
    "collapsed": true,
    "scrolled": true
   },
   "outputs": [],
   "source": [
    "user_clik_dup = train[['user_id','day','item_id','instance_id']].groupby(['user_id','day','item_id']).count().reset_index()\n",
    "user_clik_dup.rename(columns = {'instance_id' : 'daily_clik_dup'},inplace=True)\n",
    "train = pd.merge(train, user_clik_dup, on=['user_id','day','item_id'], how='left')"
   ]
  },
  {
   "cell_type": "code",
   "execution_count": 184,
   "metadata": {
    "collapsed": true
   },
   "outputs": [],
   "source": [
    "user_clik_dup = test[['user_id','day','item_id','instance_id']].groupby(['user_id','day','item_id']).count().reset_index()\n",
    "user_clik_dup.rename(columns = {'instance_id' : 'daily_clik_dup'},inplace=True)\n",
    "test = pd.merge(test, user_clik_dup, on=['user_id','day','item_id'], how='left')"
   ]
  },
  {
   "cell_type": "code",
   "execution_count": 226,
   "metadata": {
    "collapsed": true
   },
   "outputs": [],
   "source": [
    "#没加  0.0822897\n",
    "\n",
    "# 加了 0.0822748"
   ]
  },
  {
   "cell_type": "markdown",
   "metadata": {},
   "source": [
    "## 用户历史重复点击该商品第几次"
   ]
  },
  {
   "cell_type": "code",
   "execution_count": null,
   "metadata": {
    "collapsed": true
   },
   "outputs": [],
   "source": []
  },
  {
   "cell_type": "markdown",
   "metadata": {},
   "source": [
    "## 用户每日第一次点击的时间"
   ]
  },
  {
   "cell_type": "code",
   "execution_count": 194,
   "metadata": {
    "collapsed": true
   },
   "outputs": [],
   "source": [
    "import time\n",
    "def timestamp_datetime_from_day(value):\n",
    "    #format = '%Y-%m-%d %H:%M:%S'\n",
    "    format = '%Y%m%d%H%M%S'    \n",
    "    value = time.localtime(value)\n",
    "    dt = time.strftime(format, value)\n",
    "    #return(int(dt))\n",
    "    #return dt[8:] \n",
    "    return (int(dt[8:10])*60+ int(dt[10:12]))*60+int(dt[12:14])"
   ]
  },
  {
   "cell_type": "code",
   "execution_count": 195,
   "metadata": {
    "collapsed": true
   },
   "outputs": [],
   "source": [
    "user_first_clik_time = train[['user_id','day','context_timestamp']].groupby(['user_id','day']).min().reset_index()\n",
    "user_first_clik_time.rename(columns = {'context_timestamp' : 'daily_first_clik_time'},inplace=True)\n",
    "user_first_clik_time.daily_first_clik_time = user_first_clik_time.daily_first_clik_time.apply(timestamp_datetime_from_day)\n",
    "\n",
    "train = pd.merge(train, user_first_clik_time, on=['user_id','day'], how='left')"
   ]
  },
  {
   "cell_type": "code",
   "execution_count": 196,
   "metadata": {
    "collapsed": true
   },
   "outputs": [],
   "source": [
    "user_first_clik_time = test[['user_id','day','context_timestamp']].groupby(['user_id','day']).min().reset_index()\n",
    "user_first_clik_time.rename(columns = {'context_timestamp' : 'daily_first_clik_time'},inplace=True)\n",
    "user_first_clik_time.daily_first_clik_time = user_first_clik_time.daily_first_clik_time.apply(timestamp_datetime_from_day)\n",
    "\n",
    "test = pd.merge(test, user_first_clik_time, on=['user_id','day'], how='left')"
   ]
  },
  {
   "cell_type": "code",
   "execution_count": 225,
   "metadata": {
    "collapsed": true
   },
   "outputs": [],
   "source": [
    "#没加 0.0822897\n",
    "#加了 0.082448"
   ]
  },
  {
   "cell_type": "code",
   "execution_count": 224,
   "metadata": {
    "collapsed": false
   },
   "outputs": [
    {
     "data": {
      "text/plain": [
       "-0.0001583000000000001"
      ]
     },
     "execution_count": 224,
     "metadata": {},
     "output_type": "execute_result"
    }
   ],
   "source": [
    "0.0822897 - 0.082448"
   ]
  },
  {
   "cell_type": "markdown",
   "metadata": {},
   "source": [
    "## 用户每日最后一次点击的时间"
   ]
  },
  {
   "cell_type": "code",
   "execution_count": 205,
   "metadata": {
    "collapsed": true
   },
   "outputs": [],
   "source": [
    "user_last_clik_time = train[['user_id','day','context_timestamp']].groupby(['user_id','day']).max().reset_index()\n",
    "user_last_clik_time.rename(columns = {'context_timestamp' : 'daily_last_clik_time'},inplace=True)\n",
    "user_last_clik_time.daily_last_clik_time = user_last_clik_time.daily_last_clik_time.apply(timestamp_datetime_from_day)\n",
    "\n",
    "train = pd.merge(train, user_last_clik_time, on=['user_id','day'], how='left')\n",
    "\n",
    "user_last_clik_time = test[['user_id','day','context_timestamp']].groupby(['user_id','day']).max().reset_index()\n",
    "user_last_clik_time.rename(columns = {'context_timestamp' : 'daily_last_clik_time'},inplace=True)\n",
    "user_last_clik_time.daily_last_clik_time = user_last_clik_time.daily_last_clik_time.apply(timestamp_datetime_from_day)\n",
    "\n",
    "test = pd.merge(test, user_last_clik_time, on=['user_id','day'], how='left')"
   ]
  },
  {
   "cell_type": "code",
   "execution_count": null,
   "metadata": {
    "collapsed": true
   },
   "outputs": [],
   "source": [
    "#没加 0.0822897\n",
    "#加了 0.0821369"
   ]
  },
  {
   "cell_type": "code",
   "execution_count": 222,
   "metadata": {
    "collapsed": false
   },
   "outputs": [
    {
     "data": {
      "text/plain": [
       "0.0001527999999999946"
      ]
     },
     "execution_count": 222,
     "metadata": {},
     "output_type": "execute_result"
    }
   ],
   "source": [
    "0.0822897 - 0.0821369"
   ]
  },
  {
   "cell_type": "markdown",
   "metadata": {},
   "source": [
    "## 用户当前点击与本日下一次点击的时间差 若没有则为-1"
   ]
  },
  {
   "cell_type": "code",
   "execution_count": 267,
   "metadata": {
    "collapsed": true
   },
   "outputs": [],
   "source": [
    "def cal_timegap(df, column = 'context_timestamp'):\n",
    "    return df.sort_values(column, ascending=True)[['context_timestamp']]\n",
    "\n",
    "def cal_timegap2(x):\n",
    "    return abs(x.context_timestamp-x.context_timestamp.shift(-1))\n",
    "\n",
    "def cal_timegap3(x):\n",
    "    return abs(x.context_timestamp-x.context_timestamp.shift(1))"
   ]
  },
  {
   "cell_type": "code",
   "execution_count": 163,
   "metadata": {
    "collapsed": true
   },
   "outputs": [],
   "source": [
    "tmp_train = train[['user_id','item_id','day','context_timestamp']].groupby(['user_id','day','item_id']).apply(cal_timegap).reset_index()[['user_id','day','item_id','context_timestamp']]\n",
    "tmp_test = test[['user_id','item_id','day','context_timestamp']].groupby(['user_id','day','item_id']).apply(cal_timegap).reset_index()[['user_id','day','item_id','context_timestamp']]\n",
    "\n",
    "tmp_train['user_nextclik_time_interval'] = tmp_train.groupby(['user_id','day']).apply(cal_timegap2).reset_index()[['context_timestamp']]\n",
    "tmp_test['user_nextclik_time_interval'] = tmp_test.groupby(['user_id','day']).apply(cal_timegap2).reset_index()[['context_timestamp']]\n",
    "\n",
    "train = pd.merge(train, tmp_train[['user_id','item_id','context_timestamp','user_nextclik_time_interval']], on=['user_id','item_id','context_timestamp'], how='left')\n",
    "test = pd.merge(test, tmp_test[['user_id','item_id','context_timestamp','user_nextclik_time_interval']], on=['user_id','item_id','context_timestamp'], how='left')"
   ]
  },
  {
   "cell_type": "code",
   "execution_count": 171,
   "metadata": {
    "collapsed": true
   },
   "outputs": [],
   "source": [
    "train.user_nextclik_time_interval = train.user_nextclik_time_interval.fillna(-1)"
   ]
  },
  {
   "cell_type": "code",
   "execution_count": null,
   "metadata": {
    "collapsed": true
   },
   "outputs": [],
   "source": [
    "#没加：0.0822897\n",
    "\n",
    "#加了：0.0819887"
   ]
  },
  {
   "cell_type": "code",
   "execution_count": 223,
   "metadata": {
    "collapsed": false
   },
   "outputs": [
    {
     "data": {
      "text/plain": [
       "0.0003009999999999957"
      ]
     },
     "execution_count": 223,
     "metadata": {},
     "output_type": "execute_result"
    }
   ],
   "source": [
    "0.0822897 - 0.0819887"
   ]
  },
  {
   "cell_type": "markdown",
   "metadata": {},
   "source": [
    "## 用户当前点击与本日上一次点击的时间差 若没有则为-1"
   ]
  },
  {
   "cell_type": "code",
   "execution_count": 269,
   "metadata": {
    "collapsed": true
   },
   "outputs": [],
   "source": [
    "#tmp_train = train[['user_id','item_id','day','context_timestamp']].groupby(['user_id','day','item_id']).apply(cal_timegap).reset_index()[['user_id','day','item_id','context_timestamp']]\n",
    "#tmp_test = test[['user_id','item_id','day','context_timestamp']].groupby(['user_id','day','item_id']).apply(cal_timegap).reset_index()[['user_id','day','item_id','context_timestamp']]\n",
    "\n",
    "tmp_train['user_lastclik_time_interval'] = tmp_train.groupby(['user_id','day']).apply(cal_timegap3).reset_index()[['context_timestamp']]\n",
    "tmp_test['user_lastclik_time_interval'] = tmp_test.groupby(['user_id','day']).apply(cal_timegap3).reset_index()[['context_timestamp']]\n",
    "\n",
    "train = pd.merge(train, tmp_train[['user_id','item_id','context_timestamp','user_lastclik_time_interval']], on=['user_id','item_id','context_timestamp'], how='left')\n",
    "test = pd.merge(test, tmp_test[['user_id','item_id','context_timestamp','user_lastclik_time_interval']], on=['user_id','item_id','context_timestamp'], how='left')\n",
    "train.user_lastclik_time_interval = train.user_lastclik_time_interval.fillna(-1)"
   ]
  },
  {
   "cell_type": "code",
   "execution_count": 753,
   "metadata": {
    "collapsed": false,
    "scrolled": true
   },
   "outputs": [
    {
     "data": {
      "text/html": [
       "<div>\n",
       "<style>\n",
       "    .dataframe thead tr:only-child th {\n",
       "        text-align: right;\n",
       "    }\n",
       "\n",
       "    .dataframe thead th {\n",
       "        text-align: left;\n",
       "    }\n",
       "\n",
       "    .dataframe tbody tr th {\n",
       "        vertical-align: top;\n",
       "    }\n",
       "</style>\n",
       "<table border=\"1\" class=\"dataframe\">\n",
       "  <thead>\n",
       "    <tr style=\"text-align: right;\">\n",
       "      <th></th>\n",
       "      <th>user_id</th>\n",
       "      <th>day</th>\n",
       "      <th>user_lastclik_time_interval</th>\n",
       "    </tr>\n",
       "  </thead>\n",
       "  <tbody>\n",
       "    <tr>\n",
       "      <th>0</th>\n",
       "      <td>4505772604969228686</td>\n",
       "      <td>18</td>\n",
       "      <td>179.0</td>\n",
       "    </tr>\n",
       "    <tr>\n",
       "      <th>1</th>\n",
       "      <td>2692638157208937547</td>\n",
       "      <td>18</td>\n",
       "      <td>3339.0</td>\n",
       "    </tr>\n",
       "    <tr>\n",
       "      <th>2</th>\n",
       "      <td>5247924392014515924</td>\n",
       "      <td>18</td>\n",
       "      <td>182.0</td>\n",
       "    </tr>\n",
       "    <tr>\n",
       "      <th>3</th>\n",
       "      <td>2681414445369714628</td>\n",
       "      <td>18</td>\n",
       "      <td>-1.0</td>\n",
       "    </tr>\n",
       "    <tr>\n",
       "      <th>4</th>\n",
       "      <td>2729475788342039013</td>\n",
       "      <td>18</td>\n",
       "      <td>-1.0</td>\n",
       "    </tr>\n",
       "    <tr>\n",
       "      <th>5</th>\n",
       "      <td>4512655448325954611</td>\n",
       "      <td>18</td>\n",
       "      <td>1931.0</td>\n",
       "    </tr>\n",
       "    <tr>\n",
       "      <th>6</th>\n",
       "      <td>8811056487516803043</td>\n",
       "      <td>18</td>\n",
       "      <td>-1.0</td>\n",
       "    </tr>\n",
       "    <tr>\n",
       "      <th>7</th>\n",
       "      <td>6507704883896466138</td>\n",
       "      <td>18</td>\n",
       "      <td>-1.0</td>\n",
       "    </tr>\n",
       "    <tr>\n",
       "      <th>8</th>\n",
       "      <td>6203308008480593423</td>\n",
       "      <td>18</td>\n",
       "      <td>-1.0</td>\n",
       "    </tr>\n",
       "    <tr>\n",
       "      <th>9</th>\n",
       "      <td>6041712044514783312</td>\n",
       "      <td>18</td>\n",
       "      <td>-1.0</td>\n",
       "    </tr>\n",
       "    <tr>\n",
       "      <th>10</th>\n",
       "      <td>5527752154396335340</td>\n",
       "      <td>18</td>\n",
       "      <td>-1.0</td>\n",
       "    </tr>\n",
       "    <tr>\n",
       "      <th>11</th>\n",
       "      <td>9136135655015970865</td>\n",
       "      <td>18</td>\n",
       "      <td>-1.0</td>\n",
       "    </tr>\n",
       "    <tr>\n",
       "      <th>12</th>\n",
       "      <td>1125352029162214778</td>\n",
       "      <td>18</td>\n",
       "      <td>-1.0</td>\n",
       "    </tr>\n",
       "    <tr>\n",
       "      <th>13</th>\n",
       "      <td>3677962228574948324</td>\n",
       "      <td>18</td>\n",
       "      <td>-1.0</td>\n",
       "    </tr>\n",
       "    <tr>\n",
       "      <th>14</th>\n",
       "      <td>5724091758094305190</td>\n",
       "      <td>18</td>\n",
       "      <td>11706.0</td>\n",
       "    </tr>\n",
       "    <tr>\n",
       "      <th>15</th>\n",
       "      <td>7039399708071640850</td>\n",
       "      <td>18</td>\n",
       "      <td>-1.0</td>\n",
       "    </tr>\n",
       "    <tr>\n",
       "      <th>16</th>\n",
       "      <td>2336243288189250115</td>\n",
       "      <td>18</td>\n",
       "      <td>-1.0</td>\n",
       "    </tr>\n",
       "    <tr>\n",
       "      <th>17</th>\n",
       "      <td>5629863948218506765</td>\n",
       "      <td>18</td>\n",
       "      <td>-1.0</td>\n",
       "    </tr>\n",
       "    <tr>\n",
       "      <th>18</th>\n",
       "      <td>827042086894286790</td>\n",
       "      <td>18</td>\n",
       "      <td>-1.0</td>\n",
       "    </tr>\n",
       "    <tr>\n",
       "      <th>19</th>\n",
       "      <td>3324440602135810689</td>\n",
       "      <td>18</td>\n",
       "      <td>-1.0</td>\n",
       "    </tr>\n",
       "    <tr>\n",
       "      <th>20</th>\n",
       "      <td>1382659867445899368</td>\n",
       "      <td>18</td>\n",
       "      <td>3658.0</td>\n",
       "    </tr>\n",
       "    <tr>\n",
       "      <th>21</th>\n",
       "      <td>1559176561816563595</td>\n",
       "      <td>18</td>\n",
       "      <td>-1.0</td>\n",
       "    </tr>\n",
       "    <tr>\n",
       "      <th>22</th>\n",
       "      <td>4748790533338949132</td>\n",
       "      <td>18</td>\n",
       "      <td>-1.0</td>\n",
       "    </tr>\n",
       "    <tr>\n",
       "      <th>23</th>\n",
       "      <td>1956175654065515458</td>\n",
       "      <td>18</td>\n",
       "      <td>-1.0</td>\n",
       "    </tr>\n",
       "    <tr>\n",
       "      <th>24</th>\n",
       "      <td>5298620165522556606</td>\n",
       "      <td>18</td>\n",
       "      <td>-1.0</td>\n",
       "    </tr>\n",
       "    <tr>\n",
       "      <th>25</th>\n",
       "      <td>8060156105833683054</td>\n",
       "      <td>18</td>\n",
       "      <td>-1.0</td>\n",
       "    </tr>\n",
       "    <tr>\n",
       "      <th>26</th>\n",
       "      <td>8279147463706474384</td>\n",
       "      <td>18</td>\n",
       "      <td>-1.0</td>\n",
       "    </tr>\n",
       "    <tr>\n",
       "      <th>27</th>\n",
       "      <td>1725120768985797294</td>\n",
       "      <td>18</td>\n",
       "      <td>-1.0</td>\n",
       "    </tr>\n",
       "    <tr>\n",
       "      <th>28</th>\n",
       "      <td>8555576554536589862</td>\n",
       "      <td>18</td>\n",
       "      <td>-1.0</td>\n",
       "    </tr>\n",
       "    <tr>\n",
       "      <th>29</th>\n",
       "      <td>4080086530604601259</td>\n",
       "      <td>18</td>\n",
       "      <td>138.0</td>\n",
       "    </tr>\n",
       "    <tr>\n",
       "      <th>...</th>\n",
       "      <td>...</td>\n",
       "      <td>...</td>\n",
       "      <td>...</td>\n",
       "    </tr>\n",
       "    <tr>\n",
       "      <th>478081</th>\n",
       "      <td>874082703519424358</td>\n",
       "      <td>24</td>\n",
       "      <td>-1.0</td>\n",
       "    </tr>\n",
       "    <tr>\n",
       "      <th>478082</th>\n",
       "      <td>1104844847471755931</td>\n",
       "      <td>24</td>\n",
       "      <td>-1.0</td>\n",
       "    </tr>\n",
       "    <tr>\n",
       "      <th>478083</th>\n",
       "      <td>8517278150220981702</td>\n",
       "      <td>24</td>\n",
       "      <td>-1.0</td>\n",
       "    </tr>\n",
       "    <tr>\n",
       "      <th>478084</th>\n",
       "      <td>4359143942518206667</td>\n",
       "      <td>24</td>\n",
       "      <td>617.0</td>\n",
       "    </tr>\n",
       "    <tr>\n",
       "      <th>478085</th>\n",
       "      <td>6897312909217058719</td>\n",
       "      <td>24</td>\n",
       "      <td>250.0</td>\n",
       "    </tr>\n",
       "    <tr>\n",
       "      <th>478086</th>\n",
       "      <td>8631875488566742282</td>\n",
       "      <td>24</td>\n",
       "      <td>30.0</td>\n",
       "    </tr>\n",
       "    <tr>\n",
       "      <th>478087</th>\n",
       "      <td>7428514987215227213</td>\n",
       "      <td>24</td>\n",
       "      <td>13.0</td>\n",
       "    </tr>\n",
       "    <tr>\n",
       "      <th>478088</th>\n",
       "      <td>8507464070930967896</td>\n",
       "      <td>24</td>\n",
       "      <td>366.0</td>\n",
       "    </tr>\n",
       "    <tr>\n",
       "      <th>478089</th>\n",
       "      <td>646134212856987365</td>\n",
       "      <td>24</td>\n",
       "      <td>-1.0</td>\n",
       "    </tr>\n",
       "    <tr>\n",
       "      <th>478090</th>\n",
       "      <td>3049364288337192877</td>\n",
       "      <td>24</td>\n",
       "      <td>64.0</td>\n",
       "    </tr>\n",
       "    <tr>\n",
       "      <th>478091</th>\n",
       "      <td>2018418041869314257</td>\n",
       "      <td>24</td>\n",
       "      <td>1959.0</td>\n",
       "    </tr>\n",
       "    <tr>\n",
       "      <th>478092</th>\n",
       "      <td>511380265893806314</td>\n",
       "      <td>24</td>\n",
       "      <td>130.0</td>\n",
       "    </tr>\n",
       "    <tr>\n",
       "      <th>478093</th>\n",
       "      <td>9092110019392726879</td>\n",
       "      <td>24</td>\n",
       "      <td>-1.0</td>\n",
       "    </tr>\n",
       "    <tr>\n",
       "      <th>478094</th>\n",
       "      <td>5963497517176997331</td>\n",
       "      <td>24</td>\n",
       "      <td>-1.0</td>\n",
       "    </tr>\n",
       "    <tr>\n",
       "      <th>478095</th>\n",
       "      <td>8226392355817076299</td>\n",
       "      <td>24</td>\n",
       "      <td>-1.0</td>\n",
       "    </tr>\n",
       "    <tr>\n",
       "      <th>478096</th>\n",
       "      <td>967654015632225932</td>\n",
       "      <td>24</td>\n",
       "      <td>88.0</td>\n",
       "    </tr>\n",
       "    <tr>\n",
       "      <th>478097</th>\n",
       "      <td>2303735452754735391</td>\n",
       "      <td>24</td>\n",
       "      <td>-1.0</td>\n",
       "    </tr>\n",
       "    <tr>\n",
       "      <th>478098</th>\n",
       "      <td>3622623152375313530</td>\n",
       "      <td>24</td>\n",
       "      <td>-1.0</td>\n",
       "    </tr>\n",
       "    <tr>\n",
       "      <th>478099</th>\n",
       "      <td>5037055947392073785</td>\n",
       "      <td>24</td>\n",
       "      <td>1619.0</td>\n",
       "    </tr>\n",
       "    <tr>\n",
       "      <th>478100</th>\n",
       "      <td>6633639079977218300</td>\n",
       "      <td>24</td>\n",
       "      <td>-1.0</td>\n",
       "    </tr>\n",
       "    <tr>\n",
       "      <th>478101</th>\n",
       "      <td>8472991257928913533</td>\n",
       "      <td>24</td>\n",
       "      <td>-1.0</td>\n",
       "    </tr>\n",
       "    <tr>\n",
       "      <th>478102</th>\n",
       "      <td>5037055947392073785</td>\n",
       "      <td>24</td>\n",
       "      <td>322.0</td>\n",
       "    </tr>\n",
       "    <tr>\n",
       "      <th>478103</th>\n",
       "      <td>6952856330249913793</td>\n",
       "      <td>24</td>\n",
       "      <td>-1.0</td>\n",
       "    </tr>\n",
       "    <tr>\n",
       "      <th>478104</th>\n",
       "      <td>4668730476166383174</td>\n",
       "      <td>24</td>\n",
       "      <td>-1.0</td>\n",
       "    </tr>\n",
       "    <tr>\n",
       "      <th>478105</th>\n",
       "      <td>4341781618055685466</td>\n",
       "      <td>24</td>\n",
       "      <td>-1.0</td>\n",
       "    </tr>\n",
       "    <tr>\n",
       "      <th>478106</th>\n",
       "      <td>7459595729748359155</td>\n",
       "      <td>24</td>\n",
       "      <td>-1.0</td>\n",
       "    </tr>\n",
       "    <tr>\n",
       "      <th>478107</th>\n",
       "      <td>7033818138392866766</td>\n",
       "      <td>24</td>\n",
       "      <td>441.0</td>\n",
       "    </tr>\n",
       "    <tr>\n",
       "      <th>478108</th>\n",
       "      <td>7052469495668520594</td>\n",
       "      <td>24</td>\n",
       "      <td>0.0</td>\n",
       "    </tr>\n",
       "    <tr>\n",
       "      <th>478109</th>\n",
       "      <td>988569127238007467</td>\n",
       "      <td>24</td>\n",
       "      <td>1966.0</td>\n",
       "    </tr>\n",
       "    <tr>\n",
       "      <th>478110</th>\n",
       "      <td>3339280989551857799</td>\n",
       "      <td>24</td>\n",
       "      <td>19376.0</td>\n",
       "    </tr>\n",
       "  </tbody>\n",
       "</table>\n",
       "<p>478111 rows × 3 columns</p>\n",
       "</div>"
      ],
      "text/plain": [
       "                    user_id  day  user_lastclik_time_interval\n",
       "0       4505772604969228686   18                        179.0\n",
       "1       2692638157208937547   18                       3339.0\n",
       "2       5247924392014515924   18                        182.0\n",
       "3       2681414445369714628   18                         -1.0\n",
       "4       2729475788342039013   18                         -1.0\n",
       "5       4512655448325954611   18                       1931.0\n",
       "6       8811056487516803043   18                         -1.0\n",
       "7       6507704883896466138   18                         -1.0\n",
       "8       6203308008480593423   18                         -1.0\n",
       "9       6041712044514783312   18                         -1.0\n",
       "10      5527752154396335340   18                         -1.0\n",
       "11      9136135655015970865   18                         -1.0\n",
       "12      1125352029162214778   18                         -1.0\n",
       "13      3677962228574948324   18                         -1.0\n",
       "14      5724091758094305190   18                      11706.0\n",
       "15      7039399708071640850   18                         -1.0\n",
       "16      2336243288189250115   18                         -1.0\n",
       "17      5629863948218506765   18                         -1.0\n",
       "18       827042086894286790   18                         -1.0\n",
       "19      3324440602135810689   18                         -1.0\n",
       "20      1382659867445899368   18                       3658.0\n",
       "21      1559176561816563595   18                         -1.0\n",
       "22      4748790533338949132   18                         -1.0\n",
       "23      1956175654065515458   18                         -1.0\n",
       "24      5298620165522556606   18                         -1.0\n",
       "25      8060156105833683054   18                         -1.0\n",
       "26      8279147463706474384   18                         -1.0\n",
       "27      1725120768985797294   18                         -1.0\n",
       "28      8555576554536589862   18                         -1.0\n",
       "29      4080086530604601259   18                        138.0\n",
       "...                     ...  ...                          ...\n",
       "478081   874082703519424358   24                         -1.0\n",
       "478082  1104844847471755931   24                         -1.0\n",
       "478083  8517278150220981702   24                         -1.0\n",
       "478084  4359143942518206667   24                        617.0\n",
       "478085  6897312909217058719   24                        250.0\n",
       "478086  8631875488566742282   24                         30.0\n",
       "478087  7428514987215227213   24                         13.0\n",
       "478088  8507464070930967896   24                        366.0\n",
       "478089   646134212856987365   24                         -1.0\n",
       "478090  3049364288337192877   24                         64.0\n",
       "478091  2018418041869314257   24                       1959.0\n",
       "478092   511380265893806314   24                        130.0\n",
       "478093  9092110019392726879   24                         -1.0\n",
       "478094  5963497517176997331   24                         -1.0\n",
       "478095  8226392355817076299   24                         -1.0\n",
       "478096   967654015632225932   24                         88.0\n",
       "478097  2303735452754735391   24                         -1.0\n",
       "478098  3622623152375313530   24                         -1.0\n",
       "478099  5037055947392073785   24                       1619.0\n",
       "478100  6633639079977218300   24                         -1.0\n",
       "478101  8472991257928913533   24                         -1.0\n",
       "478102  5037055947392073785   24                        322.0\n",
       "478103  6952856330249913793   24                         -1.0\n",
       "478104  4668730476166383174   24                         -1.0\n",
       "478105  4341781618055685466   24                         -1.0\n",
       "478106  7459595729748359155   24                         -1.0\n",
       "478107  7033818138392866766   24                        441.0\n",
       "478108  7052469495668520594   24                          0.0\n",
       "478109   988569127238007467   24                       1966.0\n",
       "478110  3339280989551857799   24                      19376.0\n",
       "\n",
       "[478111 rows x 3 columns]"
      ]
     },
     "execution_count": 753,
     "metadata": {},
     "output_type": "execute_result"
    }
   ],
   "source": [
    "train[['user_id','day','user_nextclik_time_interval']]"
   ]
  },
  {
   "cell_type": "code",
   "execution_count": 759,
   "metadata": {
    "collapsed": false,
    "scrolled": true
   },
   "outputs": [
    {
     "data": {
      "text/html": [
       "<div>\n",
       "<style>\n",
       "    .dataframe thead tr:only-child th {\n",
       "        text-align: right;\n",
       "    }\n",
       "\n",
       "    .dataframe thead th {\n",
       "        text-align: left;\n",
       "    }\n",
       "\n",
       "    .dataframe tbody tr th {\n",
       "        vertical-align: top;\n",
       "    }\n",
       "</style>\n",
       "<table border=\"1\" class=\"dataframe\">\n",
       "  <thead>\n",
       "    <tr style=\"text-align: right;\">\n",
       "      <th></th>\n",
       "      <th>user_id</th>\n",
       "      <th>day</th>\n",
       "      <th>context_timestamp</th>\n",
       "    </tr>\n",
       "  </thead>\n",
       "  <tbody>\n",
       "    <tr>\n",
       "      <th>0</th>\n",
       "      <td>24779788309075</td>\n",
       "      <td>19</td>\n",
       "      <td>1537366714</td>\n",
       "    </tr>\n",
       "    <tr>\n",
       "      <th>1</th>\n",
       "      <td>24779788309075</td>\n",
       "      <td>19</td>\n",
       "      <td>1537364387</td>\n",
       "    </tr>\n",
       "    <tr>\n",
       "      <th>2</th>\n",
       "      <td>24779788309075</td>\n",
       "      <td>19</td>\n",
       "      <td>1537368731</td>\n",
       "    </tr>\n",
       "  </tbody>\n",
       "</table>\n",
       "</div>"
      ],
      "text/plain": [
       "          user_id  day  context_timestamp\n",
       "0  24779788309075   19         1537366714\n",
       "1  24779788309075   19         1537364387\n",
       "2  24779788309075   19         1537368731"
      ]
     },
     "execution_count": 759,
     "metadata": {},
     "output_type": "execute_result"
    }
   ],
   "source": [
    "tmp_train[['user_id','day','context_timestamp']][tmp_train.user_id == 24779788309075]"
   ]
  },
  {
   "cell_type": "code",
   "execution_count": 756,
   "metadata": {
    "collapsed": false
   },
   "outputs": [
    {
     "name": "stderr",
     "output_type": "stream",
     "text": [
      "/home/student303/anaconda3/lib/python3.6/site-packages/ipykernel_launcher.py:1: UserWarning: Boolean Series key will be reindexed to match DataFrame index.\n",
      "  \"\"\"Entry point for launching an IPython kernel.\n"
     ]
    },
    {
     "data": {
      "text/html": [
       "<div>\n",
       "<style>\n",
       "    .dataframe thead tr:only-child th {\n",
       "        text-align: right;\n",
       "    }\n",
       "\n",
       "    .dataframe thead th {\n",
       "        text-align: left;\n",
       "    }\n",
       "\n",
       "    .dataframe tbody tr th {\n",
       "        vertical-align: top;\n",
       "    }\n",
       "</style>\n",
       "<table border=\"1\" class=\"dataframe\">\n",
       "  <thead>\n",
       "    <tr style=\"text-align: right;\">\n",
       "      <th></th>\n",
       "      <th>user_id</th>\n",
       "      <th>day</th>\n",
       "      <th>user_lastclik_time_interval</th>\n",
       "      <th>user_nextclik_time_interval</th>\n",
       "      <th>context_timestamp</th>\n",
       "    </tr>\n",
       "  </thead>\n",
       "  <tbody>\n",
       "    <tr>\n",
       "      <th>188629</th>\n",
       "      <td>24779788309075</td>\n",
       "      <td>19</td>\n",
       "      <td>4344.0</td>\n",
       "      <td>-1.0</td>\n",
       "      <td>1537368731</td>\n",
       "    </tr>\n",
       "    <tr>\n",
       "      <th>188684</th>\n",
       "      <td>24779788309075</td>\n",
       "      <td>19</td>\n",
       "      <td>2327.0</td>\n",
       "      <td>4344.0</td>\n",
       "      <td>1537364387</td>\n",
       "    </tr>\n",
       "    <tr>\n",
       "      <th>194214</th>\n",
       "      <td>24779788309075</td>\n",
       "      <td>19</td>\n",
       "      <td>-1.0</td>\n",
       "      <td>2327.0</td>\n",
       "      <td>1537366714</td>\n",
       "    </tr>\n",
       "  </tbody>\n",
       "</table>\n",
       "</div>"
      ],
      "text/plain": [
       "               user_id  day  user_lastclik_time_interval  \\\n",
       "188629  24779788309075   19                       4344.0   \n",
       "188684  24779788309075   19                       2327.0   \n",
       "194214  24779788309075   19                         -1.0   \n",
       "\n",
       "        user_nextclik_time_interval  context_timestamp  \n",
       "188629                         -1.0         1537368731  \n",
       "188684                       4344.0         1537364387  \n",
       "194214                       2327.0         1537366714  "
      ]
     },
     "execution_count": 756,
     "metadata": {},
     "output_type": "execute_result"
    }
   ],
   "source": [
    "train[['user_id','day','user_lastclik_time_interval','user_nextclik_time_interval','context_timestamp']][train.day == 19][train.user_id == 24779788309075]"
   ]
  },
  {
   "cell_type": "code",
   "execution_count": 757,
   "metadata": {
    "collapsed": false
   },
   "outputs": [
    {
     "data": {
      "text/plain": [
       "-4344"
      ]
     },
     "execution_count": 757,
     "metadata": {},
     "output_type": "execute_result"
    }
   ],
   "source": [
    "1537364387 - 1537368731"
   ]
  },
  {
   "cell_type": "code",
   "execution_count": null,
   "metadata": {
    "collapsed": true
   },
   "outputs": [],
   "source": [
    "#没加 0.0821269\n",
    "#加了 0.0819249"
   ]
  },
  {
   "cell_type": "markdown",
   "metadata": {},
   "source": [
    "## 用户点击是否是展示界面的第一页"
   ]
  },
  {
   "cell_type": "code",
   "execution_count": 227,
   "metadata": {
    "collapsed": true
   },
   "outputs": [],
   "source": [
    "def first_poz(x):\n",
    "    if x == 4001:\n",
    "        return 1\n",
    "    else:\n",
    "        return 0"
   ]
  },
  {
   "cell_type": "code",
   "execution_count": 228,
   "metadata": {
    "collapsed": true
   },
   "outputs": [],
   "source": [
    "train['first_clik_poz'] = train.context_page_id.apply(first_poz)\n",
    "test['first_clik_poz'] = test.context_page_id.apply(first_poz)"
   ]
  },
  {
   "cell_type": "code",
   "execution_count": null,
   "metadata": {
    "collapsed": true
   },
   "outputs": [],
   "source": [
    "#没加 0.0822897\n",
    "#加了 0.0823648"
   ]
  },
  {
   "cell_type": "markdown",
   "metadata": {},
   "source": [
    "## 用户点击是否是展示界面的前三页"
   ]
  },
  {
   "cell_type": "code",
   "execution_count": 236,
   "metadata": {
    "collapsed": true
   },
   "outputs": [],
   "source": [
    "def top_three_poz(x):\n",
    "    if x <= 4003:\n",
    "        return 1\n",
    "    else:\n",
    "        return 0"
   ]
  },
  {
   "cell_type": "code",
   "execution_count": 237,
   "metadata": {
    "collapsed": true
   },
   "outputs": [],
   "source": [
    "train['top_three_clik_poz'] = train.context_page_id.apply(top_three_poz)\n",
    "test['top_three_clik_poz'] = test.context_page_id.apply(top_three_poz)"
   ]
  },
  {
   "cell_type": "code",
   "execution_count": null,
   "metadata": {
    "collapsed": true
   },
   "outputs": [],
   "source": [
    "#没加 0.0822897\n",
    "#加了 0.0823626"
   ]
  },
  {
   "cell_type": "markdown",
   "metadata": {},
   "source": [
    "## 用户点击的商品是否最多人点的"
   ]
  },
  {
   "cell_type": "code",
   "execution_count": 246,
   "metadata": {
    "collapsed": true
   },
   "outputs": [],
   "source": [
    "def most_clik_price(x):\n",
    "    if x == 7:\n",
    "        return 1\n",
    "    else:\n",
    "        return 0"
   ]
  },
  {
   "cell_type": "code",
   "execution_count": 247,
   "metadata": {
    "collapsed": true
   },
   "outputs": [],
   "source": [
    "train['most_cilk_price'] = train['item_price_level'].apply(most_clik_price)\n",
    "test['most_cilk_price'] = test['item_price_level'].apply(most_clik_price)"
   ]
  },
  {
   "cell_type": "code",
   "execution_count": 264,
   "metadata": {
    "collapsed": true
   },
   "outputs": [],
   "source": [
    "#没加 0.0822897\n",
    "#加了 0.0823979"
   ]
  },
  {
   "cell_type": "markdown",
   "metadata": {},
   "source": [
    "## 用户点击的商品是否是价格的前三位"
   ]
  },
  {
   "cell_type": "code",
   "execution_count": 258,
   "metadata": {
    "collapsed": true
   },
   "outputs": [],
   "source": [
    "def top_three_clik_price(x):\n",
    "    if (x == 6)or(x == 7)or(x==8):\n",
    "        return 1\n",
    "    else:\n",
    "        return 0"
   ]
  },
  {
   "cell_type": "code",
   "execution_count": 259,
   "metadata": {
    "collapsed": true
   },
   "outputs": [],
   "source": [
    "train['top_three_cilk_price'] = train['item_price_level'].apply(top_three_clik_price)\n",
    "test['top_three_cilk_price'] = test['item_price_level'].apply(top_three_clik_price)"
   ]
  },
  {
   "cell_type": "code",
   "execution_count": 263,
   "metadata": {
    "collapsed": true
   },
   "outputs": [],
   "source": [
    "#没加 0.0822897\n",
    "#加了 0.0823215"
   ]
  },
  {
   "cell_type": "markdown",
   "metadata": {},
   "source": [
    "## 用户的最晚点击时间-最早点击时间"
   ]
  },
  {
   "cell_type": "code",
   "execution_count": 273,
   "metadata": {
    "collapsed": true,
    "scrolled": true
   },
   "outputs": [],
   "source": [
    "train['clik_time_duration'] = train['daily_last_clik_time'] - train['daily_first_clik_time']\n",
    "test['clik_time_duration'] = test['daily_last_clik_time'] - test['daily_first_clik_time']"
   ]
  },
  {
   "cell_type": "code",
   "execution_count": 304,
   "metadata": {
    "collapsed": true
   },
   "outputs": [],
   "source": [
    "#没加 0.0821269\n",
    "#加了 0.0819249"
   ]
  },
  {
   "cell_type": "markdown",
   "metadata": {},
   "source": [
    "## 用户最晚点击时间×item_price_level"
   ]
  },
  {
   "cell_type": "code",
   "execution_count": 327,
   "metadata": {
    "collapsed": true
   },
   "outputs": [],
   "source": [
    "train['item_price_level->daily_last_clik_time_cnt'] = train[['item_price_level','daily_last_clik_time','instance_id']].groupby(['item_price_level','daily_last_clik_time']).count().reset_index()['instance_id']\n",
    "test['item_price_level->daily_last_clik_time_cnt'] = test[['item_price_level','daily_last_clik_time','instance_id']].groupby(['item_price_level','daily_last_clik_time']).count().reset_index()['instance_id']"
   ]
  },
  {
   "cell_type": "code",
   "execution_count": 326,
   "metadata": {
    "collapsed": true
   },
   "outputs": [],
   "source": [
    "##没卵用"
   ]
  },
  {
   "cell_type": "markdown",
   "metadata": {},
   "source": [
    "## 用户当日点击过多少种不同的商品"
   ]
  },
  {
   "cell_type": "code",
   "execution_count": 368,
   "metadata": {
    "collapsed": true
   },
   "outputs": [],
   "source": [
    "tmpmerge1 = train[['user_id','day','item_id','instance_id']].groupby(['user_id','day','item_id']).count().reset_index().groupby(['user_id','day']).count().reset_index()\n",
    "tmpmerge1.drop('item_id',axis=1,inplace=True)\n",
    "tmpmerge1.rename(columns={'instance_id' : 'user_day_diff_category'},inplace=True)\n",
    "train = pd.merge(train, tmpmerge1, on=['user_id','day'], how='left')"
   ]
  },
  {
   "cell_type": "code",
   "execution_count": 376,
   "metadata": {
    "collapsed": true
   },
   "outputs": [],
   "source": [
    "tmpmerge1 = test[['user_id','day','item_id','instance_id']].groupby(['user_id','day','item_id']).count().reset_index().groupby(['user_id','day']).count().reset_index()\n",
    "tmpmerge1.drop('item_id',axis=1,inplace=True)\n",
    "tmpmerge1.rename(columns={'instance_id' : 'user_day_diff_category'},inplace=True)\n",
    "test = pd.merge(test, tmpmerge1, on=['user_id','day'], how='left')"
   ]
  },
  {
   "cell_type": "code",
   "execution_count": 377,
   "metadata": {
    "collapsed": false
   },
   "outputs": [
    {
     "data": {
      "text/plain": [
       "343"
      ]
     },
     "execution_count": 377,
     "metadata": {},
     "output_type": "execute_result"
    }
   ],
   "source": [
    "del tmpmerge1\n",
    "gc.collect()"
   ]
  },
  {
   "cell_type": "code",
   "execution_count": 384,
   "metadata": {
    "collapsed": true
   },
   "outputs": [],
   "source": [
    "#没加 0.0821269\n",
    "#加了 0.081457"
   ]
  },
  {
   "cell_type": "markdown",
   "metadata": {},
   "source": [
    "## 用户点击类别是否大于3"
   ]
  },
  {
   "cell_type": "code",
   "execution_count": 399,
   "metadata": {
    "collapsed": true
   },
   "outputs": [],
   "source": [
    "def weatherbiger3(x):\n",
    "    if x<=3:\n",
    "        return 1\n",
    "    else:\n",
    "        return 0"
   ]
  },
  {
   "cell_type": "code",
   "execution_count": 401,
   "metadata": {
    "collapsed": true
   },
   "outputs": [],
   "source": [
    "train['clik_item_category_3'] = train['user_day_diff_category'].apply(weatherbiger3)\n",
    "test['clik_item_category_3'] = test['user_day_diff_category'].apply(weatherbiger3)"
   ]
  },
  {
   "cell_type": "code",
   "execution_count": null,
   "metadata": {
    "collapsed": true
   },
   "outputs": [],
   "source": [
    "#没加 0.0821269\n",
    "#加了 0.0815468"
   ]
  },
  {
   "cell_type": "markdown",
   "metadata": {},
   "source": [
    "## 用户当日点击次数"
   ]
  },
  {
   "cell_type": "code",
   "execution_count": 432,
   "metadata": {
    "collapsed": true
   },
   "outputs": [],
   "source": [
    "tmpmerge = train[['user_id','day','instance_id']].groupby(['user_id','day']).count().reset_index()\n",
    "tmpmerge.rename(columns={'instance_id':'user_day_clik_cnt'},inplace=True)\n",
    "train = pd.merge(train,tmpmerge, on=['user_id','day'],how='left')"
   ]
  },
  {
   "cell_type": "code",
   "execution_count": 434,
   "metadata": {
    "collapsed": true
   },
   "outputs": [],
   "source": [
    "tmpmerge = test[['user_id','day','instance_id']].groupby(['user_id','day']).count().reset_index()\n",
    "tmpmerge.rename(columns={'instance_id':'user_day_clik_cnt'},inplace=True)\n",
    "test = pd.merge(test, tmpmerge, on=['user_id','day'],how='left')"
   ]
  },
  {
   "cell_type": "markdown",
   "metadata": {},
   "source": [
    "## 用户点击次数"
   ]
  },
  {
   "cell_type": "code",
   "execution_count": 450,
   "metadata": {
    "collapsed": true
   },
   "outputs": [],
   "source": [
    "tmpmerge = train[['user_id','instance_id']].groupby(['user_id']).count().reset_index()\n",
    "tmpmerge.rename(columns={'instance_id':'user_clik_cnt'},inplace=True)\n",
    "train = pd.merge(train, tmpmerge, on=['user_id'],how='left')"
   ]
  },
  {
   "cell_type": "code",
   "execution_count": 451,
   "metadata": {
    "collapsed": true
   },
   "outputs": [],
   "source": [
    "tmpmerge = test[['user_id','instance_id']].groupby(['user_id']).count().reset_index()\n",
    "tmpmerge.rename(columns={'instance_id':'user_clik_cnt'},inplace=True)\n",
    "test = pd.merge(test, tmpmerge, on=['user_id'],how='left')"
   ]
  },
  {
   "cell_type": "markdown",
   "metadata": {},
   "source": [
    "## 用户是否是表里的最后一次点击记录"
   ]
  },
  {
   "cell_type": "code",
   "execution_count": null,
   "metadata": {
    "collapsed": true
   },
   "outputs": [],
   "source": [
    "user_id ==[ 3056263399386680541,2723939476766557512,4955755105331339099]"
   ]
  },
  {
   "cell_type": "code",
   "execution_count": 519,
   "metadata": {
    "collapsed": true
   },
   "outputs": [],
   "source": [
    "train['tmp_index'] = train.index\n",
    "test['tmp_index'] = test.index"
   ]
  },
  {
   "cell_type": "code",
   "execution_count": 567,
   "metadata": {
    "collapsed": true
   },
   "outputs": [],
   "source": [
    "merger = train[['user_id','day','tmp_index']].groupby(['user_id','day']).max().reset_index()\n",
    "merger.rename(columns={'tmp_index':'max_index'},inplace=True)\n",
    "train = pd.merge(train, merger, on=['user_id','day'], how='left')"
   ]
  },
  {
   "cell_type": "code",
   "execution_count": 562,
   "metadata": {
    "collapsed": true
   },
   "outputs": [],
   "source": [
    "merger = test[['user_id','day','tmp_index']].groupby(['user_id','day']).max().reset_index()\n",
    "merger.rename(columns={'tmp_index':'max_index'},inplace=True)\n",
    "test = pd.merge(teat, merger, on=['user_id','day'], how='left')"
   ]
  },
  {
   "cell_type": "code",
   "execution_count": 582,
   "metadata": {
    "collapsed": true
   },
   "outputs": [],
   "source": [
    "def cal_top_clik(x):\n",
    "    if x.tmp_index == x.max_index:\n",
    "        return 1\n",
    "    else:\n",
    "        return 0"
   ]
  },
  {
   "cell_type": "code",
   "execution_count": 588,
   "metadata": {
    "collapsed": true
   },
   "outputs": [],
   "source": [
    "train['cal_top_clik'] = train.apply(cal_top_clik,axis=1)"
   ]
  },
  {
   "cell_type": "code",
   "execution_count": null,
   "metadata": {
    "collapsed": true
   },
   "outputs": [],
   "source": [
    "test['cal_top_clik'] = test.apply(cal_top_clik,axis=1)"
   ]
  },
  {
   "cell_type": "markdown",
   "metadata": {},
   "source": [
    "## 用户是否是表里的第一次点击记录"
   ]
  },
  {
   "cell_type": "code",
   "execution_count": 630,
   "metadata": {
    "collapsed": true
   },
   "outputs": [],
   "source": [
    "merger = train[['user_id','day','tmp_index']].groupby(['user_id','day']).min().reset_index()\n",
    "merger.rename(columns={'tmp_index':'min_index'},inplace=True)\n",
    "train = pd.merge(train, merger, on=['user_id','day'], how='left')"
   ]
  },
  {
   "cell_type": "code",
   "execution_count": null,
   "metadata": {
    "collapsed": true
   },
   "outputs": [],
   "source": [
    "merger = test[['user_id','day','tmp_index']].groupby(['user_id','day']).min().reset_index()\n",
    "merger.rename(columns={'tmp_index':'min_index'},inplace=True)\n",
    "test = pd.merge(test, merger, on=['user_id','day'], how='left')"
   ]
  },
  {
   "cell_type": "code",
   "execution_count": 634,
   "metadata": {
    "collapsed": true
   },
   "outputs": [],
   "source": [
    "def cal_tail_clik(x):\n",
    "    if x.tmp_index == x.min_index:\n",
    "        return 1\n",
    "    else:\n",
    "        return 0"
   ]
  },
  {
   "cell_type": "code",
   "execution_count": 635,
   "metadata": {
    "collapsed": true
   },
   "outputs": [],
   "source": [
    "train['cal_tail_clik'] = train.apply(cal_tail_clik,axis=1)"
   ]
  },
  {
   "cell_type": "code",
   "execution_count": null,
   "metadata": {
    "collapsed": true
   },
   "outputs": [],
   "source": [
    "test['cal_tail_clik'] = test.apply(cal_tail_clik,axis=1)"
   ]
  },
  {
   "cell_type": "code",
   "execution_count": null,
   "metadata": {
    "collapsed": true
   },
   "outputs": [],
   "source": [
    "#没加 0.0821269\n",
    "#加了 0.0819929"
   ]
  },
  {
   "cell_type": "markdown",
   "metadata": {},
   "source": [
    "## 用户当天点击了多少种不同的类别（真类别）"
   ]
  },
  {
   "cell_type": "code",
   "execution_count": 698,
   "metadata": {
    "collapsed": true
   },
   "outputs": [],
   "source": [
    "merger = train[['user_id','day','item_category_hash','instance_id']].groupby(['user_id','day','item_category_hash']).count().groupby(['user_id','day']).count().reset_index()\n",
    "merger.rename(columns={'instance_id':'user_day_diff_category_true'}, inplace=True)\n",
    "train = pd.merge(train, merger, on=['user_id','day'], how='left')"
   ]
  },
  {
   "cell_type": "code",
   "execution_count": null,
   "metadata": {
    "collapsed": true
   },
   "outputs": [],
   "source": [
    "merger = test[['user_id','day','item_category_hash','instance_id']].groupby(['user_id','day','item_category_hash']).count().groupby(['user_id','day']).count().reset_index()\n",
    "merger.rename(columns={'instance_id':'user_day_diff_category_true'}, inplace=True)\n",
    "test = pd.merge(test, merger, on=['user_id','day'], how='left')"
   ]
  },
  {
   "cell_type": "code",
   "execution_count": null,
   "metadata": {
    "collapsed": true
   },
   "outputs": [],
   "source": [
    "#没加 0.0821269\n",
    "#加了 0.0818699"
   ]
  },
  {
   "cell_type": "markdown",
   "metadata": {},
   "source": [
    "## 用户每日点击数量 / 用户点击时间间隔"
   ]
  },
  {
   "cell_type": "code",
   "execution_count": 725,
   "metadata": {
    "collapsed": true
   },
   "outputs": [],
   "source": [
    "train['user_clik_frequency'] = train['user_day_clik_cnt'] / (train['clik_time_duration'] + 3673)"
   ]
  },
  {
   "cell_type": "code",
   "execution_count": null,
   "metadata": {
    "collapsed": true
   },
   "outputs": [],
   "source": [
    "test['user_clik_frequency'] = test['user_day_clik_cnt'] / (test['clik_time_duration'] + 3673)"
   ]
  },
  {
   "cell_type": "code",
   "execution_count": null,
   "metadata": {
    "collapsed": true
   },
   "outputs": [],
   "source": [
    "#没加 0.0821269\n",
    "#加了 0.0816354"
   ]
  },
  {
   "cell_type": "markdown",
   "metadata": {},
   "source": [
    "## 归一化"
   ]
  },
  {
   "cell_type": "code",
   "execution_count": null,
   "metadata": {
    "collapsed": true
   },
   "outputs": [],
   "source": [
    "#user_clik_cnt\n",
    "#没加 0.0821269\n",
    "#加了 0.0817916"
   ]
  },
  {
   "cell_type": "markdown",
   "metadata": {
    "collapsed": true
   },
   "source": [
    "## 周一新的篇章转useful_feature_v2"
   ]
  },
  {
   "cell_type": "code",
   "execution_count": null,
   "metadata": {
    "collapsed": true
   },
   "outputs": [],
   "source": []
  }
 ],
 "metadata": {
  "kernelspec": {
   "display_name": "Python 3",
   "language": "python",
   "name": "python3"
  },
  "language_info": {
   "codemirror_mode": {
    "name": "ipython",
    "version": 3
   },
   "file_extension": ".py",
   "mimetype": "text/x-python",
   "name": "python",
   "nbconvert_exporter": "python",
   "pygments_lexer": "ipython3",
   "version": "3.6.0"
  }
 },
 "nbformat": 4,
 "nbformat_minor": 2
}
