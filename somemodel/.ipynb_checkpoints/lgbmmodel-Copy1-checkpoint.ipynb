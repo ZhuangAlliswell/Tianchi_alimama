{
 "cells": [
  {
   "cell_type": "code",
   "execution_count": 1,
   "metadata": {
    "collapsed": false
   },
   "outputs": [
    {
     "name": "stderr",
     "output_type": "stream",
     "text": [
      "/home/student303/anaconda3/lib/python3.6/site-packages/sklearn/cross_validation.py:44: DeprecationWarning: This module was deprecated in version 0.18 in favor of the model_selection module into which all the refactored classes and functions are moved. Also note that the interface of the new CV iterators are different from that of this module. This module will be removed in 0.20.\n",
      "  \"This module will be removed in 0.20.\", DeprecationWarning)\n"
     ]
    }
   ],
   "source": [
    "import numpy as np\n",
    "import pandas as pd\n",
    "import lightgbm as lgb\n",
    "from sklearn.cross_validation import train_test_split\n",
    "import scipy as sp\n",
    "path='/home/student303/zz/almama/'"
   ]
  },
  {
   "cell_type": "code",
   "execution_count": 2,
   "metadata": {
    "collapsed": true
   },
   "outputs": [],
   "source": [
    "train = pd.read_hdf(path+ 'somefeature/base_feature_train_0.h5', key = 'a')\n",
    "test = pd.read_hdf(path+ 'somefeature/base_feature_test_0.h5', key = 'a')\n",
    "#y_train = pd.read_csv(path + 'somefeature/y_train.csv')"
   ]
  },
  {
   "cell_type": "markdown",
   "metadata": {},
   "source": [
    "## A new feature Test"
   ]
  },
  {
   "cell_type": "code",
   "execution_count": 3,
   "metadata": {
    "collapsed": true
   },
   "outputs": [],
   "source": [
    "user_day_hour_cnt=train[['user_id','day','hour','instance_id']].groupby(['user_id','day','hour']).count().reset_index()\n",
    "user_day_hour_cnt.rename(columns={'instance_id':'user_day_hour_cnt'},inplace=True)\n",
    "train=pd.merge(train,user_day_hour_cnt,on=['user_id','day','hour'],how='left')"
   ]
  },
  {
   "cell_type": "code",
   "execution_count": 4,
   "metadata": {
    "collapsed": true
   },
   "outputs": [],
   "source": [
    "user_day_hour_cnt=test[['user_id','day','hour','instance_id']].groupby(['user_id','day','hour']).count().reset_index()\n",
    "user_day_hour_cnt.rename(columns={'instance_id':'user_day_hour_cnt'},inplace=True)\n",
    "test=pd.merge(test,user_day_hour_cnt,on=['user_id','day','hour'],how='left')"
   ]
  },
  {
   "cell_type": "code",
   "execution_count": 5,
   "metadata": {
    "collapsed": false
   },
   "outputs": [
    {
     "data": {
      "text/plain": [
       "Index(['instance_id', 'item_id', 'item_category_list', 'item_property_list',\n",
       "       'item_brand_id', 'item_city_id', 'item_price_level', 'item_sales_level',\n",
       "       'item_collected_level', 'item_pv_level', 'user_id', 'user_gender_id',\n",
       "       'user_age_level', 'user_occupation_id', 'user_star_level', 'context_id',\n",
       "       'context_timestamp', 'context_page_id', 'predict_category_property',\n",
       "       'shop_id', 'shop_review_num_level', 'shop_review_positive_rate',\n",
       "       'shop_star_level', 'shop_score_service', 'shop_score_delivery',\n",
       "       'shop_score_description', 'is_trade', 'item_category_hash', 'day',\n",
       "       'hour', 'min', 'second', 'user_day_hour_cnt'],\n",
       "      dtype='object')"
      ]
     },
     "execution_count": 5,
     "metadata": {},
     "output_type": "execute_result"
    }
   ],
   "source": [
    "train.columns"
   ]
  },
  {
   "cell_type": "code",
   "execution_count": 6,
   "metadata": {
    "collapsed": true
   },
   "outputs": [],
   "source": [
    "droplist = ['instance_id',\n",
    "            'context_timestamp',\n",
    "            'day',\n",
    "            'min',\n",
    "            'second',\n",
    "            \n",
    "            'item_category_list',\n",
    "            'item_property_list',\n",
    "            'user_id',\n",
    "            'context_id',\n",
    "           #'context_page_id',\n",
    "            'predict_category_property',\n",
    "            #'shop_id'\n",
    "           ]\n",
    "df_test = test.drop(droplist, axis=1)\n",
    "df_train = train.drop(droplist, axis=1)\n",
    "#df_train.drop('is_trade', axis=1, inplace = True)\n",
    "combine = [df_train, df_test]"
   ]
  },
  {
   "cell_type": "code",
   "execution_count": 7,
   "metadata": {
    "collapsed": false
   },
   "outputs": [
    {
     "data": {
      "text/plain": [
       "Index(['item_id', 'item_brand_id', 'item_city_id', 'item_price_level',\n",
       "       'item_sales_level', 'item_collected_level', 'item_pv_level',\n",
       "       'user_gender_id', 'user_age_level', 'user_occupation_id',\n",
       "       'user_star_level', 'context_page_id', 'shop_id',\n",
       "       'shop_review_num_level', 'shop_review_positive_rate', 'shop_star_level',\n",
       "       'shop_score_service', 'shop_score_delivery', 'shop_score_description',\n",
       "       'is_trade', 'item_category_hash', 'hour', 'user_day_hour_cnt'],\n",
       "      dtype='object')"
      ]
     },
     "execution_count": 7,
     "metadata": {},
     "output_type": "execute_result"
    }
   ],
   "source": [
    "df_train.columns"
   ]
  },
  {
   "cell_type": "code",
   "execution_count": 8,
   "metadata": {
    "collapsed": true
   },
   "outputs": [],
   "source": [
    "def logloss(act, pred):\n",
    "    epsilon = 1e-15\n",
    "    pred = sp.maximum(epsilon, pred)\n",
    "    pred = sp.minimum(1-epsilon, pred)\n",
    "    ll = sum(act*sp.log(pred) + sp.subtract(1,act)*sp.log(sp.subtract(1,pred)))\n",
    "    ll = ll * -1.0/len(act)\n",
    "    return ll"
   ]
  },
  {
   "cell_type": "markdown",
   "metadata": {},
   "source": [
    "## train LGBM model"
   ]
  },
  {
   "cell_type": "code",
   "execution_count": 9,
   "metadata": {
    "collapsed": false
   },
   "outputs": [
    {
     "ename": "AttributeError",
     "evalue": "'DataFrame' object has no attribute 'day'",
     "output_type": "error",
     "traceback": [
      "\u001b[0;31m---------------------------------------------------------------------------\u001b[0m",
      "\u001b[0;31mAttributeError\u001b[0m                            Traceback (most recent call last)",
      "\u001b[0;32m<ipython-input-9-3153d670be29>\u001b[0m in \u001b[0;36m<module>\u001b[0;34m()\u001b[0m\n\u001b[0;32m----> 1\u001b[0;31m \u001b[0mtrain_train\u001b[0m \u001b[0;34m=\u001b[0m \u001b[0mdf_train\u001b[0m\u001b[0;34m[\u001b[0m\u001b[0mdf_train\u001b[0m\u001b[0;34m.\u001b[0m\u001b[0mday\u001b[0m \u001b[0;34m!=\u001b[0m \u001b[0;36m24\u001b[0m\u001b[0;34m]\u001b[0m\u001b[0;34m\u001b[0m\u001b[0m\n\u001b[0m\u001b[1;32m      2\u001b[0m \u001b[0mtrain_valid\u001b[0m \u001b[0;34m=\u001b[0m \u001b[0mdf_train\u001b[0m\u001b[0;34m[\u001b[0m\u001b[0mdf_train\u001b[0m\u001b[0;34m.\u001b[0m\u001b[0mday\u001b[0m \u001b[0;34m==\u001b[0m \u001b[0;36m24\u001b[0m\u001b[0;34m]\u001b[0m\u001b[0;34m\u001b[0m\u001b[0m\n\u001b[1;32m      3\u001b[0m \u001b[0;34m\u001b[0m\u001b[0m\n\u001b[1;32m      4\u001b[0m \u001b[0mtrain_X\u001b[0m \u001b[0;34m=\u001b[0m \u001b[0mtrain_train\u001b[0m\u001b[0;34m.\u001b[0m\u001b[0mdrop\u001b[0m\u001b[0;34m(\u001b[0m\u001b[0;34m'is_trade'\u001b[0m\u001b[0;34m,\u001b[0m \u001b[0maxis\u001b[0m\u001b[0;34m=\u001b[0m\u001b[0;36m1\u001b[0m\u001b[0;34m)\u001b[0m\u001b[0;34m\u001b[0m\u001b[0m\n\u001b[1;32m      5\u001b[0m \u001b[0mtrain_y\u001b[0m \u001b[0;34m=\u001b[0m \u001b[0mtrain_train\u001b[0m\u001b[0;34m[\u001b[0m\u001b[0;34m'is_trade'\u001b[0m\u001b[0;34m]\u001b[0m\u001b[0;34m.\u001b[0m\u001b[0mvalues\u001b[0m\u001b[0;34m\u001b[0m\u001b[0m\n",
      "\u001b[0;32m/home/student303/anaconda3/lib/python3.6/site-packages/pandas/core/generic.py\u001b[0m in \u001b[0;36m__getattr__\u001b[0;34m(self, name)\u001b[0m\n\u001b[1;32m   2968\u001b[0m             \u001b[0;32mif\u001b[0m \u001b[0mname\u001b[0m \u001b[0;32min\u001b[0m \u001b[0mself\u001b[0m\u001b[0;34m.\u001b[0m\u001b[0m_info_axis\u001b[0m\u001b[0;34m:\u001b[0m\u001b[0;34m\u001b[0m\u001b[0m\n\u001b[1;32m   2969\u001b[0m                 \u001b[0;32mreturn\u001b[0m \u001b[0mself\u001b[0m\u001b[0;34m[\u001b[0m\u001b[0mname\u001b[0m\u001b[0;34m]\u001b[0m\u001b[0;34m\u001b[0m\u001b[0m\n\u001b[0;32m-> 2970\u001b[0;31m             \u001b[0;32mreturn\u001b[0m \u001b[0mobject\u001b[0m\u001b[0;34m.\u001b[0m\u001b[0m__getattribute__\u001b[0m\u001b[0;34m(\u001b[0m\u001b[0mself\u001b[0m\u001b[0;34m,\u001b[0m \u001b[0mname\u001b[0m\u001b[0;34m)\u001b[0m\u001b[0;34m\u001b[0m\u001b[0m\n\u001b[0m\u001b[1;32m   2971\u001b[0m \u001b[0;34m\u001b[0m\u001b[0m\n\u001b[1;32m   2972\u001b[0m     \u001b[0;32mdef\u001b[0m \u001b[0m__setattr__\u001b[0m\u001b[0;34m(\u001b[0m\u001b[0mself\u001b[0m\u001b[0;34m,\u001b[0m \u001b[0mname\u001b[0m\u001b[0;34m,\u001b[0m \u001b[0mvalue\u001b[0m\u001b[0;34m)\u001b[0m\u001b[0;34m:\u001b[0m\u001b[0;34m\u001b[0m\u001b[0m\n",
      "\u001b[0;31mAttributeError\u001b[0m: 'DataFrame' object has no attribute 'day'"
     ]
    }
   ],
   "source": [
    "train_train = df_train[df_train.day != 24]\n",
    "train_valid = df_train[df_train.day == 24]\n",
    "\n",
    "train_X = train_train.drop('is_trade', axis=1)\n",
    "train_y = train_train['is_trade'].values\n",
    "\n",
    "valid_X = train_valid.drop('is_trade', axis=1)\n",
    "valid_y = train_valid['is_trade'].values\n",
    "\n",
    "#train_X, valid_X, train_y, valid_y = train_test_split(df_train, y_train['is_trade'], test_size = 0.1, random_state = 144) \n",
    "train_dataframe = df_train[df_train.day != 24]\n",
    "d_train = lgb.Dataset(train_X, label=train_y)\n",
    "d_valid = lgb.Dataset(valid_X, label=valid_y)\n",
    "watchlist = [d_train, d_valid]"
   ]
  },
  {
   "cell_type": "code",
   "execution_count": 66,
   "metadata": {
    "collapsed": false
   },
   "outputs": [
    {
     "name": "stdout",
     "output_type": "stream",
     "text": [
      "LGBM training\n",
      "(420693, 27)\n",
      "Train until valid scores didn't improve in 500 rounds.\n",
      "[50]\ttraining's binary_logloss: 0.0897385\tvalid_1's binary_logloss: 0.0819859\n",
      "[100]\ttraining's binary_logloss: 0.0892983\tvalid_1's binary_logloss: 0.0827803\n",
      "[150]\ttraining's binary_logloss: 0.0889021\tvalid_1's binary_logloss: 0.0842902\n",
      "[200]\ttraining's binary_logloss: 0.0887444\tvalid_1's binary_logloss: 0.0857031\n",
      "[250]\ttraining's binary_logloss: 0.0884504\tvalid_1's binary_logloss: 0.0852982\n",
      "[300]\ttraining's binary_logloss: 0.088141\tvalid_1's binary_logloss: 0.0858487\n",
      "[350]\ttraining's binary_logloss: 0.0879556\tvalid_1's binary_logloss: 0.0864626\n",
      "[400]\ttraining's binary_logloss: 0.087567\tvalid_1's binary_logloss: 0.0865962\n",
      "[450]\ttraining's binary_logloss: 0.0875\tvalid_1's binary_logloss: 0.0876869\n",
      "[500]\ttraining's binary_logloss: 0.0873007\tvalid_1's binary_logloss: 0.0877911\n",
      "[550]\ttraining's binary_logloss: 0.0869568\tvalid_1's binary_logloss: 0.0880067\n",
      "Early stopping, best iteration is:\n",
      "[60]\ttraining's binary_logloss: 0.0895387\tvalid_1's binary_logloss: 0.0819156\n",
      "LGBM training done\n"
     ]
    }
   ],
   "source": [
    "print('LGBM training')\n",
    "print(train_X.shape)\n",
    "#lgb_train = lgb.Dataset(df_train.values, label = y_train.is_trade)\n",
    "params = {\n",
    "    'task': 'train',\n",
    "    #'boosting_type': 'gbdt',\n",
    "    #'objective': 'binary',\n",
    "    'metric': 'binary_logloss',\n",
    "    'max_depth':3,\n",
    "    #'num_leaves': 6,\n",
    "    'min_data_in_leaf':1,\n",
    "    #'max_bin':150,  \n",
    "    'learning_rate': 0.1,\n",
    "    'feature_fraction': 0.8,\n",
    "    'bagging_fraction': 1.0,\n",
    "    #'bagging_freq': 5,\n",
    "    'verbose': 0,\n",
    "}\n",
    "model = lgb.train(params, train_set=d_train, num_boost_round=6000, valid_sets=watchlist, \\\n",
    "                  early_stopping_rounds=500, verbose_eval=50)\n",
    "print('LGBM training done')"
   ]
  },
  {
   "cell_type": "code",
   "execution_count": 68,
   "metadata": {
    "collapsed": false
   },
   "outputs": [
    {
     "data": {
      "text/plain": [
       "<matplotlib.axes._subplots.AxesSubplot at 0x7fc3b61dbfd0>"
      ]
     },
     "execution_count": 68,
     "metadata": {},
     "output_type": "execute_result"
    },
    {
     "data": {
      "image/png": "[encoded data removed]",
      "text/plain": [
       "<matplotlib.figure.Figure at 0x7fc3b6234b00>"
      ]
     },
     "metadata": {},
     "output_type": "display_data"
    }
   ],
   "source": [
    "%matplotlib inline\n",
    "lgb.plot_importance(model)"
   ]
  },
  {
   "cell_type": "markdown",
   "metadata": {},
   "source": [
    "## predict test prob "
   ]
  },
  {
   "cell_type": "code",
   "execution_count": 69,
   "metadata": {
    "collapsed": false
   },
   "outputs": [
    {
     "name": "stdout",
     "output_type": "stream",
     "text": [
      "Predicted prob mean is  0.0206843987402\n",
      "Output success, name :  Sub_0319_0.08192\n",
      "           instance_id  predicted_score\n",
      "0  2475218615076601065         0.003798\n",
      "1   398316874173557226         0.018736\n",
      "2  6586402638209028583         0.018597\n",
      "3  1040996105851528465         0.022801\n",
      "4  6316278569655873454         0.018399\n"
     ]
    }
   ],
   "source": [
    "import time\n",
    "prob = model.predict(df_test, num_iteration=model.best_iteration )\n",
    "output=pd.DataFrame({'instance_id':df_test.instance_id.values ,'predicted_score':prob})  \n",
    "print('Predicted prob mean is ',prob.mean())\n",
    "\n",
    "output_name='Sub_'+time.strftime('%m%d',time.localtime(time.time()))+'_%.5f'%(model.best_score['valid_1']['binary_logloss'])\n",
    "output.to_csv(path+'output/'+output_name+'.txt', sep=\" \", index=False, line_terminator='\\n')\n",
    "\n",
    "print('Output success, name : ',output_name)\n",
    "print(output.head())"
   ]
  }
 ],
 "metadata": {
  "kernelspec": {
   "display_name": "Python 3",
   "language": "python",
   "name": "python3"
  },
  "language_info": {
   "codemirror_mode": {
    "name": "ipython",
    "version": 3
   },
   "file_extension": ".py",
   "mimetype": "text/x-python",
   "name": "python",
   "nbconvert_exporter": "python",
   "pygments_lexer": "ipython3",
   "version": "3.6.0"
  }
 },
 "nbformat": 4,
 "nbformat_minor": 2
}
