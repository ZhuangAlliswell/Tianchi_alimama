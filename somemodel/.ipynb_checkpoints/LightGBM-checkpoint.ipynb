{
 "cells": [
  {
   "cell_type": "markdown",
   "metadata": {},
   "source": [
    "## Read Data"
   ]
  },
  {
   "cell_type": "code",
   "execution_count": null,
   "metadata": {
    "collapsed": true
   },
   "outputs": [],
   "source": [
    "import pandas as pd\n",
    "import lightgbm as lgb\n",
    "import time\n",
    "path='/home/student303/oyx/almama/'\n",
    "\n",
    "#Read Data\n",
    "data = pd.read_hdf(path+ 'somefeature/419timefeature.h5', key = 'a')\n",
    "print('Read Data Finish.')"
   ]
  },
  {
   "cell_type": "code",
   "execution_count": 174,
   "metadata": {},
   "outputs": [
    {
     "name": "stdout",
     "output_type": "stream",
     "text": [
      "Read Data Finish.\n"
     ]
    }
   ],
   "source": [
    "#Define featurelist\n",
    "droplist=['instance_id',\n",
    "          'item_category_list',\n",
    "          'item_property_list',\n",
    "          'user_id', \n",
    "          'context_id',\n",
    "          'context_timestamp',\n",
    "          'predict_category_property',\n",
    "          'is_trade',\n",
    "          'day', 'min', 'second',\n",
    "        #  'user_nextclick_interval',\n",
    "         # 'user_nextclick_interval_mean'\n",
    "         ]\n",
    "featurelist=[i for i in data.columns if i not in droplist]\n",
    "cat_feature=[\n",
    "             'item_id',\n",
    "             'item_brand_id',\n",
    "             'item_city_id',\n",
    "             'user_gender_id',\n",
    "             'user_occupation_id',\n",
    "             'context_page_id',\n",
    "             'shop_id',\n",
    "             'item_category_hash',\n",
    "             'hour',\n",
    "            ]"
   ]
  },
  {
   "cell_type": "code",
   "execution_count": 177,
   "metadata": {
    "scrolled": false
   },
   "outputs": [
    {
     "data": {
      "text/plain": [
       "['item_id',\n",
       " 'item_brand_id',\n",
       " 'item_city_id',\n",
       " 'item_price_level',\n",
       " 'item_sales_level',\n",
       " 'item_collected_level',\n",
       " 'item_pv_level',\n",
       " 'user_gender_id',\n",
       " 'user_age_level',\n",
       " 'user_occupation_id',\n",
       " 'user_star_level',\n",
       " 'context_page_id',\n",
       " 'shop_id',\n",
       " 'shop_review_num_level',\n",
       " 'shop_review_positive_rate',\n",
       " 'shop_star_level',\n",
       " 'shop_score_service',\n",
       " 'shop_score_delivery',\n",
       " 'shop_score_description',\n",
       " 'item_category_hash',\n",
       " 'hour',\n",
       " 'subm',\n",
       " 'user_lastclick_sameshop_interval',\n",
       " 'user_nextclick_sameshop_interval',\n",
       " 'user_lastclick_interval',\n",
       " 'user_nextclick_interval']"
      ]
     },
     "execution_count": 177,
     "metadata": {},
     "output_type": "execute_result"
    }
   ],
   "source": [
    "featurelist"
   ]
  },
  {
   "cell_type": "markdown",
   "metadata": {},
   "source": [
    "## Train"
   ]
  },
  {
   "cell_type": "code",
   "execution_count": 179,
   "metadata": {
    "scrolled": false
   },
   "outputs": [
    {
     "name": "stdout",
     "output_type": "stream",
     "text": [
      "LGBM Training, Feature dim :  26\n",
      "[10]\ttraining's binary_logloss: 0.238355\n",
      "[20]\ttraining's binary_logloss: 0.128569\n",
      "[30]\ttraining's binary_logloss: 0.0979052\n",
      "[40]\ttraining's binary_logloss: 0.0897993\n",
      "[50]\ttraining's binary_logloss: 0.0875341\n",
      "[60]\ttraining's binary_logloss: 0.0865997\n",
      "[70]\ttraining's binary_logloss: 0.0859995\n",
      "[80]\ttraining's binary_logloss: 0.0855808\n",
      "[90]\ttraining's binary_logloss: 0.0852189\n",
      "[100]\ttraining's binary_logloss: 0.0849221\n",
      "[110]\ttraining's binary_logloss: 0.0846437\n",
      "[120]\ttraining's binary_logloss: 0.084382\n",
      "[130]\ttraining's binary_logloss: 0.0841716\n",
      "[140]\ttraining's binary_logloss: 0.08398\n",
      "[150]\ttraining's binary_logloss: 0.0838155\n",
      "[160]\ttraining's binary_logloss: 0.0836371\n",
      "[170]\ttraining's binary_logloss: 0.0834735\n",
      "[180]\ttraining's binary_logloss: 0.0833194\n",
      "LGBM Training Done\n",
      "CPU times: user 3min 9s, sys: 4.9 s, total: 3min 14s\n",
      "Wall time: 3.45 s\n"
     ]
    }
   ],
   "source": [
    "%%time\n",
    "dev=0\n",
    "print('LGBM Training, Feature dim : ',len(featurelist))\n",
    "params = {\n",
    "    'task': 'train',\n",
    "    'objective': 'binary',\n",
    "    'metric': 'binary_logloss',\n",
    "    'max_depth':4,\n",
    "    #'num_leaves': 6,\n",
    "    #'min_data_in_leaf':1,\n",
    "    'learning_rate': 0.1,\n",
    "    'feature_fraction': 0.8,\n",
    "    'bagging_fraction': 1.0,\n",
    "    'verbose': 0,\n",
    "}\n",
    "if dev:\n",
    "    d_train=lgb.Dataset(data.loc[data.day < 24][featurelist], label=data.loc[data.day < 24]['is_trade'],categorical_feature=cat_feature)\n",
    "    d_valid=lgb.Dataset(data.loc[data.day == 24][featurelist], label=data.loc[data.day == 24]['is_trade'],categorical_feature=cat_feature)\n",
    "    model = lgb.train(params, train_set=d_train, num_boost_round=600, valid_sets=[d_train,d_valid], \\\n",
    "                  early_stopping_rounds=50, verbose_eval=10)\n",
    "    offlinelogloss=model.best_score['valid_1']['binary_logloss']\n",
    "    bst_iteration=model.best_iteration\n",
    "else:\n",
    "    d_train=lgb.Dataset(data.loc[data.day <= 24][featurelist], label=data.loc[data.day <= 24]['is_trade'],categorical_feature=cat_feature)    \n",
    "    model = lgb.train(params, train_set=d_train, num_boost_round=bst_iteration, valid_sets=[d_train], \\\n",
    "                   verbose_eval=10)\n",
    "print('LGBM Training Done')"
   ]
  },
  {
   "cell_type": "markdown",
   "metadata": {},
   "source": [
    "## Predict"
   ]
  },
  {
   "cell_type": "code",
   "execution_count": 186,
   "metadata": {},
   "outputs": [
    {
     "data": {
      "text/plain": [
       "(42888, 37)"
      ]
     },
     "execution_count": 186,
     "metadata": {},
     "output_type": "execute_result"
    }
   ],
   "source": [
    "data[(data.day == 25) & (data.subm == 1)].shape"
   ]
  },
  {
   "cell_type": "code",
   "execution_count": 184,
   "metadata": {},
   "outputs": [
    {
     "data": {
      "text/plain": [
       "Index(['instance_id', 'item_id', 'item_category_list', 'item_property_list',\n",
       "       'item_brand_id', 'item_city_id', 'item_price_level', 'item_sales_level',\n",
       "       'item_collected_level', 'item_pv_level', 'user_id', 'user_gender_id',\n",
       "       'user_age_level', 'user_occupation_id', 'user_star_level', 'context_id',\n",
       "       'context_timestamp', 'context_page_id', 'predict_category_property',\n",
       "       'shop_id', 'shop_review_num_level', 'shop_review_positive_rate',\n",
       "       'shop_star_level', 'shop_score_service', 'shop_score_delivery',\n",
       "       'shop_score_description', 'is_trade', 'item_category_hash', 'day',\n",
       "       'hour', 'min', 'second', 'subm', 'user_lastclick_sameshop_interval',\n",
       "       'user_nextclick_sameshop_interval', 'user_lastclick_interval',\n",
       "       'user_nextclick_interval'],\n",
       "      dtype='object')"
      ]
     },
     "execution_count": 184,
     "metadata": {},
     "output_type": "execute_result"
    }
   ],
   "source": [
    "data.columns"
   ]
  },
  {
   "cell_type": "code",
   "execution_count": 192,
   "metadata": {},
   "outputs": [
    {
     "name": "stdout",
     "output_type": "stream",
     "text": [
      "Predicted prob mean is  0.0182905712147\n",
      "Output success, name :  Sub_0420_0.07949\n",
      "        instance_id  predicted_score\n",
      "0    55144604125888         0.013505\n",
      "1   221669167755726         0.007678\n",
      "2   566644865989395         0.013010\n",
      "3   954943998950521         0.018088\n",
      "4  1192015136416062         0.047414\n"
     ]
    }
   ],
   "source": [
    "if not dev:\n",
    "    prob = model.predict(data[(data.day == 25) & (data.subm == 1)][featurelist], num_iteration=bst_iteration)\n",
    "    output=pd.DataFrame({'instance_id':data.loc[(data.day == 25) & (data.subm == 1)].instance_id.values ,'predicted_score':prob})  \n",
    "    print('Predicted prob mean is ',prob.mean())\n",
    "    \n",
    "    sort = pd.read_hdf(path + 'somefeature/base_feature_test_b_0.h5', key='a')\n",
    "    sort = sort[['instance_id']]\n",
    "    output = pd.merge(sort, output, on='instance_id', how='left')\n",
    "    output_name='Sub_'+time.strftime('%m%d',time.localtime(time.time()))+'_%.5f'%(offlinelogloss)\n",
    "    output.to_csv(path+'output/'+output_name+'.txt', sep=\" \", index=False, line_terminator='\\n')\n",
    "\n",
    "    print('Output success, name : ',output_name)\n",
    "    print(output.head())"
   ]
  },
  {
   "cell_type": "code",
   "execution_count": 189,
   "metadata": {},
   "outputs": [
    {
     "data": {
      "text/plain": [
       "<matplotlib.axes._subplots.AxesSubplot at 0x7f362229fc50>"
      ]
     },
     "execution_count": 189,
     "metadata": {},
     "output_type": "execute_result"
    },
    {
     "data": {
      "image/png": "[encoded data removed]",
      "text/plain": [
       "<matplotlib.figure.Figure at 0x7f3637ab9898>"
      ]
     },
     "metadata": {},
     "output_type": "display_data"
    }
   ],
   "source": [
    "%matplotlib inline\n",
    "lgb.plot_importance(model)"
   ]
  },
  {
   "cell_type": "code",
   "execution_count": 132,
   "metadata": {},
   "outputs": [
    {
     "name": "stdout",
     "output_type": "stream",
     "text": [
      "                             feature  imp\n",
      "0                               hour  223\n",
      "1            user_nextclick_interval  210\n",
      "2                   item_sales_level  210\n",
      "3                shop_score_delivery  192\n",
      "4                   item_price_level  181\n",
      "5             shop_score_description  133\n",
      "6                            item_id  130\n",
      "7       user_lastclick_interval_mean  130\n",
      "8                 item_category_hash  127\n",
      "9   user_lastclick_sameshop_interval  123\n",
      "10                shop_score_service  120\n",
      "11                     item_brand_id  120\n",
      "12              user_click_same_item  117\n",
      "13                    user_age_level  113\n",
      "14                   user_star_level   99\n",
      "15                           shop_id   98\n",
      "16                      item_city_id   97\n",
      "17         shop_review_positive_rate   90\n",
      "18              item_collected_level   82\n",
      "19                   context_page_id   80\n",
      "20                     item_pv_level   67\n",
      "21             shop_review_num_level   64\n",
      "22                   shop_star_level   48\n",
      "23                    user_gender_id   31\n",
      "24                user_occupation_id   17\n"
     ]
    }
   ],
   "source": [
    "featureimportance=pd.DataFrame({'feature':featurelist,'imp':model.feature_importance()})\n",
    "print(featureimportance.sort_values('imp',ascending=False).reset_index(drop = True))"
   ]
  }
 ],
 "metadata": {
  "kernelspec": {
   "display_name": "Python 3",
   "language": "python",
   "name": "python3"
  },
  "language_info": {
   "codemirror_mode": {
    "name": "ipython",
    "version": 3
   },
   "file_extension": ".py",
   "mimetype": "text/x-python",
   "name": "python",
   "nbconvert_exporter": "python",
   "pygments_lexer": "ipython3",
   "version": "3.6.1"
  }
 },
 "nbformat": 4,
 "nbformat_minor": 2
}
