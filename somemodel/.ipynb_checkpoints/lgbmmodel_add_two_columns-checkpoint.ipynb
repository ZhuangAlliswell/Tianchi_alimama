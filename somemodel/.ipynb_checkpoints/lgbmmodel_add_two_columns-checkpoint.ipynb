{
 "cells": [
  {
   "cell_type": "code",
   "execution_count": 46,
   "metadata": {
    "collapsed": true
   },
   "outputs": [],
   "source": [
    "import numpy as np\n",
    "import pandas as pd\n",
    "import lightgbm as lgb\n",
    "import scipy as sp\n",
    "path='/home/student303/oyx/almama/'"
   ]
  },
  {
   "cell_type": "code",
   "execution_count": 47,
   "metadata": {
    "collapsed": true
   },
   "outputs": [],
   "source": [
    "train = pd.read_hdf(path+ 'somefeature/two_column_train_feature.h5', key = 'a')\n",
    "test = pd.read_hdf(path+ 'somefeature/two_column_test_feature.h5', key = 'a')\n",
    "#y_train = pd.read_csv(path + 'somefeature/y_train.csv')"
   ]
  },
  {
   "cell_type": "code",
   "execution_count": 53,
   "metadata": {},
   "outputs": [
    {
     "data": {
      "text/html": [
       "<div>\n",
       "<style>\n",
       "    .dataframe thead tr:only-child th {\n",
       "        text-align: right;\n",
       "    }\n",
       "\n",
       "    .dataframe thead th {\n",
       "        text-align: left;\n",
       "    }\n",
       "\n",
       "    .dataframe tbody tr th {\n",
       "        vertical-align: top;\n",
       "    }\n",
       "</style>\n",
       "<table border=\"1\" class=\"dataframe\">\n",
       "  <thead>\n",
       "    <tr style=\"text-align: right;\">\n",
       "      <th></th>\n",
       "      <th>context_id</th>\n",
       "      <th>context_page_id</th>\n",
       "      <th>context_timestamp</th>\n",
       "      <th>day</th>\n",
       "      <th>hour</th>\n",
       "      <th>instance_id</th>\n",
       "      <th>is_trade</th>\n",
       "      <th>item_brand_id</th>\n",
       "      <th>item_category_hash</th>\n",
       "      <th>item_category_list</th>\n",
       "      <th>...</th>\n",
       "      <th>user_age_level-&gt;user_gender_id_cvr</th>\n",
       "      <th>user_age_level-&gt;user_id_cvr</th>\n",
       "      <th>user_age_level-&gt;user_occupation_id_cvr</th>\n",
       "      <th>user_age_level-&gt;user_star_level_cvr</th>\n",
       "      <th>user_gender_id-&gt;user_id_cvr</th>\n",
       "      <th>user_gender_id-&gt;user_occupation_id_cvr</th>\n",
       "      <th>user_gender_id-&gt;user_star_level_cvr</th>\n",
       "      <th>user_id-&gt;user_occupation_id_cvr</th>\n",
       "      <th>user_id-&gt;user_star_level_cvr</th>\n",
       "      <th>user_occupation_id-&gt;user_star_level_cvr</th>\n",
       "    </tr>\n",
       "  </thead>\n",
       "  <tbody>\n",
       "    <tr>\n",
       "      <th>0</th>\n",
       "      <td>5035994110420503338</td>\n",
       "      <td>4002</td>\n",
       "      <td>1537465939</td>\n",
       "      <td>21</td>\n",
       "      <td>1</td>\n",
       "      <td>4293715837363757697</td>\n",
       "      <td>0.0</td>\n",
       "      <td>1975590437749032870</td>\n",
       "      <td>5332</td>\n",
       "      <td>7908382889764677758;5799347067982556520</td>\n",
       "      <td>...</td>\n",
       "      <td>0.006536</td>\n",
       "      <td>NaN</td>\n",
       "      <td>0.012579</td>\n",
       "      <td>0.016794</td>\n",
       "      <td>NaN</td>\n",
       "      <td>0.018857</td>\n",
       "      <td>0.020409</td>\n",
       "      <td>NaN</td>\n",
       "      <td>NaN</td>\n",
       "      <td>0.020785</td>\n",
       "    </tr>\n",
       "    <tr>\n",
       "      <th>1</th>\n",
       "      <td>7972645707776427108</td>\n",
       "      <td>4015</td>\n",
       "      <td>1537537076</td>\n",
       "      <td>21</td>\n",
       "      <td>21</td>\n",
       "      <td>70764105903083828</td>\n",
       "      <td>0.0</td>\n",
       "      <td>9057103201734987852</td>\n",
       "      <td>9521</td>\n",
       "      <td>7908382889764677758;8277336076276184272</td>\n",
       "      <td>...</td>\n",
       "      <td>0.019138</td>\n",
       "      <td>NaN</td>\n",
       "      <td>0.018210</td>\n",
       "      <td>0.019691</td>\n",
       "      <td>NaN</td>\n",
       "      <td>0.018857</td>\n",
       "      <td>0.020409</td>\n",
       "      <td>NaN</td>\n",
       "      <td>NaN</td>\n",
       "      <td>0.020785</td>\n",
       "    </tr>\n",
       "    <tr>\n",
       "      <th>2</th>\n",
       "      <td>6797298244965748241</td>\n",
       "      <td>4002</td>\n",
       "      <td>1537539269</td>\n",
       "      <td>21</td>\n",
       "      <td>22</td>\n",
       "      <td>3954908518456917085</td>\n",
       "      <td>0.0</td>\n",
       "      <td>5520678735822176314</td>\n",
       "      <td>1443</td>\n",
       "      <td>7908382889764677758;5755694407684602296</td>\n",
       "      <td>...</td>\n",
       "      <td>0.019138</td>\n",
       "      <td>NaN</td>\n",
       "      <td>0.018210</td>\n",
       "      <td>0.019691</td>\n",
       "      <td>NaN</td>\n",
       "      <td>0.018857</td>\n",
       "      <td>0.020409</td>\n",
       "      <td>NaN</td>\n",
       "      <td>NaN</td>\n",
       "      <td>0.020785</td>\n",
       "    </tr>\n",
       "    <tr>\n",
       "      <th>3</th>\n",
       "      <td>7455406367907195</td>\n",
       "      <td>4001</td>\n",
       "      <td>1537509234</td>\n",
       "      <td>21</td>\n",
       "      <td>13</td>\n",
       "      <td>4521314384240415059</td>\n",
       "      <td>0.0</td>\n",
       "      <td>9057103201734987852</td>\n",
       "      <td>9521</td>\n",
       "      <td>7908382889764677758;8277336076276184272</td>\n",
       "      <td>...</td>\n",
       "      <td>0.019138</td>\n",
       "      <td>NaN</td>\n",
       "      <td>0.018210</td>\n",
       "      <td>0.018445</td>\n",
       "      <td>NaN</td>\n",
       "      <td>0.018857</td>\n",
       "      <td>0.018685</td>\n",
       "      <td>NaN</td>\n",
       "      <td>NaN</td>\n",
       "      <td>0.018967</td>\n",
       "    </tr>\n",
       "    <tr>\n",
       "      <th>4</th>\n",
       "      <td>1422823996606455864</td>\n",
       "      <td>4001</td>\n",
       "      <td>1537494715</td>\n",
       "      <td>21</td>\n",
       "      <td>9</td>\n",
       "      <td>6005676298575614673</td>\n",
       "      <td>0.0</td>\n",
       "      <td>5520678735822176314</td>\n",
       "      <td>1443</td>\n",
       "      <td>7908382889764677758;5755694407684602296</td>\n",
       "      <td>...</td>\n",
       "      <td>0.023138</td>\n",
       "      <td>NaN</td>\n",
       "      <td>0.027476</td>\n",
       "      <td>0.026915</td>\n",
       "      <td>NaN</td>\n",
       "      <td>0.018857</td>\n",
       "      <td>0.018722</td>\n",
       "      <td>NaN</td>\n",
       "      <td>NaN</td>\n",
       "      <td>0.020053</td>\n",
       "    </tr>\n",
       "  </tbody>\n",
       "</table>\n",
       "<p>5 rows × 263 columns</p>\n",
       "</div>"
      ],
      "text/plain": [
       "            context_id  context_page_id  context_timestamp  day  hour  \\\n",
       "0  5035994110420503338             4002         1537465939   21     1   \n",
       "1  7972645707776427108             4015         1537537076   21    21   \n",
       "2  6797298244965748241             4002         1537539269   21    22   \n",
       "3     7455406367907195             4001         1537509234   21    13   \n",
       "4  1422823996606455864             4001         1537494715   21     9   \n",
       "\n",
       "           instance_id  is_trade        item_brand_id  item_category_hash  \\\n",
       "0  4293715837363757697       0.0  1975590437749032870                5332   \n",
       "1    70764105903083828       0.0  9057103201734987852                9521   \n",
       "2  3954908518456917085       0.0  5520678735822176314                1443   \n",
       "3  4521314384240415059       0.0  9057103201734987852                9521   \n",
       "4  6005676298575614673       0.0  5520678735822176314                1443   \n",
       "\n",
       "                        item_category_list  \\\n",
       "0  7908382889764677758;5799347067982556520   \n",
       "1  7908382889764677758;8277336076276184272   \n",
       "2  7908382889764677758;5755694407684602296   \n",
       "3  7908382889764677758;8277336076276184272   \n",
       "4  7908382889764677758;5755694407684602296   \n",
       "\n",
       "                    ...                     \\\n",
       "0                   ...                      \n",
       "1                   ...                      \n",
       "2                   ...                      \n",
       "3                   ...                      \n",
       "4                   ...                      \n",
       "\n",
       "   user_age_level->user_gender_id_cvr  user_age_level->user_id_cvr  \\\n",
       "0                            0.006536                          NaN   \n",
       "1                            0.019138                          NaN   \n",
       "2                            0.019138                          NaN   \n",
       "3                            0.019138                          NaN   \n",
       "4                            0.023138                          NaN   \n",
       "\n",
       "   user_age_level->user_occupation_id_cvr  \\\n",
       "0                                0.012579   \n",
       "1                                0.018210   \n",
       "2                                0.018210   \n",
       "3                                0.018210   \n",
       "4                                0.027476   \n",
       "\n",
       "   user_age_level->user_star_level_cvr user_gender_id->user_id_cvr  \\\n",
       "0                             0.016794                         NaN   \n",
       "1                             0.019691                         NaN   \n",
       "2                             0.019691                         NaN   \n",
       "3                             0.018445                         NaN   \n",
       "4                             0.026915                         NaN   \n",
       "\n",
       "   user_gender_id->user_occupation_id_cvr  \\\n",
       "0                                0.018857   \n",
       "1                                0.018857   \n",
       "2                                0.018857   \n",
       "3                                0.018857   \n",
       "4                                0.018857   \n",
       "\n",
       "   user_gender_id->user_star_level_cvr  user_id->user_occupation_id_cvr  \\\n",
       "0                             0.020409                              NaN   \n",
       "1                             0.020409                              NaN   \n",
       "2                             0.020409                              NaN   \n",
       "3                             0.018685                              NaN   \n",
       "4                             0.018722                              NaN   \n",
       "\n",
       "  user_id->user_star_level_cvr  user_occupation_id->user_star_level_cvr  \n",
       "0                          NaN                                 0.020785  \n",
       "1                          NaN                                 0.020785  \n",
       "2                          NaN                                 0.020785  \n",
       "3                          NaN                                 0.018967  \n",
       "4                          NaN                                 0.020053  \n",
       "\n",
       "[5 rows x 263 columns]"
      ]
     },
     "execution_count": 53,
     "metadata": {},
     "output_type": "execute_result"
    }
   ],
   "source": [
    "train.head()"
   ]
  },
  {
   "cell_type": "code",
   "execution_count": 48,
   "metadata": {
    "collapsed": true
   },
   "outputs": [],
   "source": [
    "droplist = ['item_category_list',\n",
    "            'item_property_list',\n",
    "            'user_id',\n",
    "            'context_id',\n",
    "           #'context_page_id',\n",
    "            'predict_category_property',\n",
    "            #'shop_id'\n",
    "           ]\n",
    "df_test = test.drop(droplist, axis=1)\n",
    "df_train = train.drop(droplist, axis=1)\n",
    "# df_train.drop('is_trade', axis=1, inplace = True)\n",
    "combine = [df_train, df_test]"
   ]
  },
  {
   "cell_type": "code",
   "execution_count": 49,
   "metadata": {},
   "outputs": [
    {
     "data": {
      "text/plain": [
       "Index(['context_page_id', 'context_timestamp', 'day', 'hour', 'instance_id',\n",
       "       'is_trade', 'item_brand_id', 'item_category_hash', 'item_city_id',\n",
       "       'item_collected_level',\n",
       "       ...\n",
       "       'user_age_level->user_gender_id_cvr', 'user_age_level->user_id_cvr',\n",
       "       'user_age_level->user_occupation_id_cvr',\n",
       "       'user_age_level->user_star_level_cvr', 'user_gender_id->user_id_cvr',\n",
       "       'user_gender_id->user_occupation_id_cvr',\n",
       "       'user_gender_id->user_star_level_cvr',\n",
       "       'user_id->user_occupation_id_cvr', 'user_id->user_star_level_cvr',\n",
       "       'user_occupation_id->user_star_level_cvr'],\n",
       "      dtype='object', length=258)"
      ]
     },
     "execution_count": 49,
     "metadata": {},
     "output_type": "execute_result"
    }
   ],
   "source": [
    "df_train.columns"
   ]
  },
  {
   "cell_type": "code",
   "execution_count": 50,
   "metadata": {
    "collapsed": true
   },
   "outputs": [],
   "source": [
    "def logloss(act, pred):\n",
    "    epsilon = 1e-15\n",
    "    pred = sp.maximum(epsilon, pred)\n",
    "    pred = sp.minimum(1-epsilon, pred)\n",
    "    ll = sum(act*sp.log(pred) + sp.subtract(1,act)*sp.log(sp.subtract(1,pred)))\n",
    "    ll = ll * -1.0/len(act)\n",
    "    return ll"
   ]
  },
  {
   "cell_type": "markdown",
   "metadata": {},
   "source": [
    "## train LGBM model"
   ]
  },
  {
   "cell_type": "code",
   "execution_count": 51,
   "metadata": {
    "collapsed": true
   },
   "outputs": [],
   "source": [
    "train_train = df_train[df_train.day != 24]\n",
    "train_valid = df_train[df_train.day == 24]\n",
    "\n",
    "train_X = train_train.drop('is_trade', axis=1)\n",
    "train_y = train_train['is_trade'].values\n",
    "\n",
    "valid_X = train_valid.drop('is_trade', axis=1)\n",
    "valid_y = train_valid['is_trade'].values\n",
    "\n",
    "d_train = lgb.Dataset(train_X, label=train_y)\n",
    "d_valid = lgb.Dataset(valid_X, label=valid_y)\n",
    "watchlist = [d_train, d_valid]"
   ]
  },
  {
   "cell_type": "code",
   "execution_count": 52,
   "metadata": {},
   "outputs": [
    {
     "name": "stdout",
     "output_type": "stream",
     "text": [
      "LGBM training\n",
      "Train until valid scores didn't improve in 500 rounds.\n",
      "[50]\ttraining's binary_logloss: 0.0838663\tvalid_1's binary_logloss: 0.0824738\n",
      "[100]\ttraining's binary_logloss: 0.0771171\tvalid_1's binary_logloss: 0.08245\n",
      "[150]\ttraining's binary_logloss: 0.0718251\tvalid_1's binary_logloss: 0.082971\n",
      "[200]\ttraining's binary_logloss: 0.0670803\tvalid_1's binary_logloss: 0.0834966\n",
      "[250]\ttraining's binary_logloss: 0.063006\tvalid_1's binary_logloss: 0.083919\n",
      "[300]\ttraining's binary_logloss: 0.0590837\tvalid_1's binary_logloss: 0.0844388\n",
      "[350]\ttraining's binary_logloss: 0.0553597\tvalid_1's binary_logloss: 0.0850025\n",
      "[400]\ttraining's binary_logloss: 0.0518671\tvalid_1's binary_logloss: 0.0855254\n",
      "[450]\ttraining's binary_logloss: 0.048331\tvalid_1's binary_logloss: 0.0858415\n",
      "[500]\ttraining's binary_logloss: 0.0453207\tvalid_1's binary_logloss: 0.0862865\n",
      "[550]\ttraining's binary_logloss: 0.0426485\tvalid_1's binary_logloss: 0.0868017\n",
      "Early stopping, best iteration is:\n",
      "[71]\ttraining's binary_logloss: 0.0803723\tvalid_1's binary_logloss: 0.0821217\n",
      "LGBM training done\n"
     ]
    }
   ],
   "source": [
    "print('LGBM training')\n",
    "#lgb_train = lgb.Dataset(df_train.values, label = y_train.is_trade)\n",
    "params = {\n",
    "    'task': 'train',\n",
    "    #'boosting_type': 'gbdt',\n",
    "    'objective': 'binary',\n",
    "    'metric': 'binary_logloss',\n",
    "    'max_depth':5,\n",
    "#    'num_leaves': 6,\n",
    "#    'min_data_in_leaf':1,\n",
    "    #'max_bin':150,  \n",
    "    'learning_rate': 0.1,\n",
    "    'feature_fraction': 0.5,\n",
    "    'bagging_fraction':0.8,\n",
    "    #'bagging_freq': 5,\n",
    "    'verbose': 0,\n",
    "}\n",
    "model = lgb.train(params, train_set=d_train, num_boost_round=6000, valid_sets=watchlist, \\\n",
    "                  early_stopping_rounds=500, verbose_eval=50)\n",
    "print('LGBM training done')"
   ]
  },
  {
   "cell_type": "markdown",
   "metadata": {},
   "source": [
    "## Add"
   ]
  },
  {
   "cell_type": "code",
   "execution_count": 41,
   "metadata": {},
   "outputs": [
    {
     "name": "stdout",
     "output_type": "stream",
     "text": [
      "LGBM training\n",
      "Train until valid scores didn't improve in 50 rounds.\n",
      "[10]\ttraining's binary_logloss: 0.237602\tvalid_1's binary_logloss: 0.234759\n",
      "[20]\ttraining's binary_logloss: 0.127523\tvalid_1's binary_logloss: 0.123409\n",
      "[30]\ttraining's binary_logloss: 0.0968469\tvalid_1's binary_logloss: 0.0922758\n",
      "[40]\ttraining's binary_logloss: 0.0886153\tvalid_1's binary_logloss: 0.08423\n",
      "[50]\ttraining's binary_logloss: 0.0860554\tvalid_1's binary_logloss: 0.0823664\n",
      "[60]\ttraining's binary_logloss: 0.0848001\tvalid_1's binary_logloss: 0.0820453\n",
      "[70]\ttraining's binary_logloss: 0.0837279\tvalid_1's binary_logloss: 0.0821458\n",
      "[80]\ttraining's binary_logloss: 0.0827362\tvalid_1's binary_logloss: 0.082271\n",
      "[90]\ttraining's binary_logloss: 0.0819797\tvalid_1's binary_logloss: 0.0824079\n",
      "[100]\ttraining's binary_logloss: 0.0812107\tvalid_1's binary_logloss: 0.0825416\n",
      "[110]\ttraining's binary_logloss: 0.0806159\tvalid_1's binary_logloss: 0.0825906\n",
      "Early stopping, best iteration is:\n",
      "[60]\ttraining's binary_logloss: 0.0848001\tvalid_1's binary_logloss: 0.0820453\n",
      "LGBM training done\n"
     ]
    }
   ],
   "source": [
    "train_X = train_train.drop(newdropfeature+['is_trade'], axis=1)\n",
    "train_y = train_train['is_trade'].values\n",
    "\n",
    "valid_X = train_valid.drop(newdropfeature+['is_trade'], axis=1)\n",
    "valid_y = train_valid['is_trade'].values\n",
    "\n",
    "d_train = lgb.Dataset(train_X, label=train_y)\n",
    "d_valid = lgb.Dataset(valid_X, label=valid_y)\n",
    "watchlist = [d_train, d_valid]\n",
    "\n",
    "print('LGBM training')\n",
    "#lgb_train = lgb.Dataset(df_train.values, label = y_train.is_trade)\n",
    "params = {\n",
    "    'task': 'train',\n",
    "    #'boosting_type': 'gbdt',\n",
    "    'objective': 'binary',\n",
    "    'metric': 'binary_logloss',\n",
    "    'max_depth':4,\n",
    "#    'num_leaves': 6,\n",
    "#    'min_data_in_leaf':1,\n",
    "    #'max_bin':150,  \n",
    "    'learning_rate': 0.1,\n",
    "    'feature_fraction': 0.8,\n",
    "    'bagging_fraction':0.8,\n",
    "    #'bagging_freq': 5,\n",
    "    'verbose': 0,\n",
    "}\n",
    "model = lgb.train(params, train_set=d_train, num_boost_round=6000, valid_sets=watchlist, \\\n",
    "                  early_stopping_rounds=50, verbose_eval=10)\n",
    "print('LGBM training done')"
   ]
  },
  {
   "cell_type": "code",
   "execution_count": 32,
   "metadata": {},
   "outputs": [
    {
     "name": "stdout",
     "output_type": "stream",
     "text": [
      "shop_score_delivery\n",
      "hour->item_price_level_cvr\n",
      "hour->shop_review_num_level_cvr\n",
      "hour->user_age_level_cvr\n",
      "hour->user_gender_id_cvr\n",
      "item_category_hash->item_price_level_cvr\n",
      "item_collected_level->item_sales_level_cvr\n",
      "item_pv_level->item_sales_level_cvr\n",
      "user_age_level->user_star_level_cvr\n"
     ]
    }
   ],
   "source": [
    "newdropfeature=[]\n",
    "for i in range(len(train_X.columns)):\n",
    "    if model.feature_importance()[i]<=1:\n",
    "        newdropfeature.append(train_X.columns[i])\n",
    "    if model.feature_importance()[i]>20:\n",
    "        print(train_X.columns[i])"
   ]
  },
  {
   "cell_type": "code",
   "execution_count": 33,
   "metadata": {
    "scrolled": true
   },
   "outputs": [
    {
     "data": {
      "text/plain": [
       "['day',\n",
       " 'item_category_hash',\n",
       " 'item_city_id',\n",
       " 'item_collected_level',\n",
       " 'item_price_level',\n",
       " 'item_pv_level',\n",
       " 'item_sales_level',\n",
       " 'shop_review_num_level',\n",
       " 'shop_review_positive_rate',\n",
       " 'user_age_level',\n",
       " 'user_gender_id',\n",
       " 'user_occupation_id',\n",
       " 'hour->user_id_cvr',\n",
       " 'item_brand_id->item_id_cvr',\n",
       " 'item_brand_id->user_id_cvr',\n",
       " 'item_category_hash->item_category_list_cvr',\n",
       " 'item_category_hash->item_property_list_cvr',\n",
       " 'item_category_list->item_property_list_cvr',\n",
       " 'item_category_list->min_cvr',\n",
       " 'item_category_list->second_cvr',\n",
       " 'item_category_list->shop_review_num_level_cvr',\n",
       " 'item_category_list->shop_star_level_cvr',\n",
       " 'item_category_list->user_occupation_id_cvr',\n",
       " 'item_city_id->item_id_cvr',\n",
       " 'item_city_id->item_property_list_cvr',\n",
       " 'item_city_id->user_id_cvr',\n",
       " 'item_collected_level->item_id_cvr',\n",
       " 'item_collected_level->item_property_list_cvr',\n",
       " 'item_collected_level->user_id_cvr',\n",
       " 'item_id->item_price_level_cvr',\n",
       " 'item_id->item_property_list_cvr',\n",
       " 'item_id->shop_id_cvr',\n",
       " 'item_id->shop_review_num_level_cvr',\n",
       " 'item_id->shop_star_level_cvr',\n",
       " 'item_id->user_id_cvr',\n",
       " 'item_id->user_star_level_cvr',\n",
       " 'item_price_level->item_property_list_cvr',\n",
       " 'item_price_level->user_id_cvr',\n",
       " 'item_property_list->item_pv_level_cvr',\n",
       " 'item_property_list->shop_id_cvr',\n",
       " 'item_property_list->shop_review_num_level_cvr',\n",
       " 'item_property_list->shop_star_level_cvr',\n",
       " 'item_property_list->user_id_cvr',\n",
       " 'item_property_list->user_star_level_cvr',\n",
       " 'item_pv_level->user_id_cvr',\n",
       " 'item_sales_level->user_id_cvr',\n",
       " 'min->user_id_cvr',\n",
       " 'second->user_id_cvr',\n",
       " 'shop_id->user_id_cvr',\n",
       " 'shop_review_num_level->user_id_cvr',\n",
       " 'shop_review_num_level->user_occupation_id_cvr',\n",
       " 'shop_star_level->user_id_cvr',\n",
       " 'user_age_level->user_id_cvr',\n",
       " 'user_gender_id->user_id_cvr',\n",
       " 'user_id->user_occupation_id_cvr',\n",
       " 'user_id->user_star_level_cvr']"
      ]
     },
     "execution_count": 33,
     "metadata": {},
     "output_type": "execute_result"
    }
   ],
   "source": [
    "newdropfeature"
   ]
  },
  {
   "cell_type": "code",
   "execution_count": 19,
   "metadata": {},
   "outputs": [
    {
     "data": {
      "text/plain": [
       "array([ 2,  8,  1, 15,  4,  5,  1,  0,  0,  5,  0,  1,  1,  7,  9,  5,  0,\n",
       "        0, 31, 11, 13,  2,  1,  0,  1,  6, 12,  6, 19,  3, 15,  5,  3,  7,\n",
       "        4, 10,  5,  9,  4,  3, 10,  4, 18, 11,  6,  7,  4,  8, 16, 12, 10,\n",
       "        9,  6, 24,  6,  6,  7, 14,  6,  5, 21,  7, 46, 39,  0, 18, 18, 10,\n",
       "        8, 15,  9,  1, 20,  4, 16, 12,  8,  5,  5,  9,  3, 14,  7,  0,  5,\n",
       "        5,  0, 18,  5,  2, 26,  1,  5, 20, 13,  8, 17,  6,  4, 10,  4,  5,\n",
       "        3,  3,  8,  3,  2, 10,  1,  3, 15,  1,  1, 17,  0,  1,  2,  3,  2,\n",
       "        0,  8,  4,  0, 18,  0, 12,  8,  9,  3,  9,  9, 14,  6, 13,  0,  7,\n",
       "       17,  0,  4,  0,  4, 36, 10, 14,  6,  3,  5,  7,  4,  0,  5, 12,  0,\n",
       "        0,  3, 10,  2,  2,  0,  1,  1,  4,  3,  0,  4,  1,  0,  6, 15, 12,\n",
       "        6, 11,  5, 10, 20,  8,  0,  7, 16,  1,  2,  5,  3,  0,  1,  0,  9,\n",
       "        3,  0,  7,  1, 23,  6,  5,  3,  3,  3, 11,  3,  0,  5,  9,  4, 10,\n",
       "        8, 17, 13, 11, 10,  0,  5, 13, 13,  2, 12, 14,  8, 13,  0,  8,  9,\n",
       "        5,  5,  9, 11,  9,  0,  8,  7,  4,  6,  4,  7,  0,  5,  7,  4,  7,\n",
       "        3,  0,  1,  4,  5,  3,  0,  6,  4,  8,  0, 10, 21,  0,  4,  3,  0,\n",
       "        1,  2])"
      ]
     },
     "execution_count": 19,
     "metadata": {},
     "output_type": "execute_result"
    }
   ],
   "source": [
    "model.feature_importance()"
   ]
  },
  {
   "cell_type": "markdown",
   "metadata": {},
   "source": [
    "## predict test prob "
   ]
  },
  {
   "cell_type": "code",
   "execution_count": 107,
   "metadata": {},
   "outputs": [
    {
     "name": "stdout",
     "output_type": "stream",
     "text": [
      "           instance_id  predicted_score\n",
      "0  2475218615076601065          0.00791\n",
      "1   398316874173557226          0.01633\n",
      "2  6586402638209028583          0.01563\n",
      "3  1040996105851528465          0.01780\n",
      "4  6316278569655873454          0.01189\n"
     ]
    }
   ],
   "source": [
    "instance_id=df_test.instance_id.values \n",
    "prob = model.predict(df_test, num_iteration=model.best_iteration )\n",
    "\n",
    "output=pd.DataFrame({'instance_id':instance_id,'predicted_score':prob})  \n",
    "output['predicted_score'] = output['predicted_score'].apply(lambda x:round(x,10))\n",
    "print(output.head())\n",
    "#output.to_hdf(path + 'output/submission.h5',index=False)\n",
    "#print('the output path is '+path)"
   ]
  }
 ],
 "metadata": {
  "kernelspec": {
   "display_name": "Python 3",
   "language": "python",
   "name": "python3"
  },
  "language_info": {
   "codemirror_mode": {
    "name": "ipython",
    "version": 3
   },
   "file_extension": ".py",
   "mimetype": "text/x-python",
   "name": "python",
   "nbconvert_exporter": "python",
   "pygments_lexer": "ipython3",
   "version": "3.6.1"
  }
 },
 "nbformat": 4,
 "nbformat_minor": 2
}
