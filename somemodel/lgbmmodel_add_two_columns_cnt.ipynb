{
 "cells": [
  {
   "cell_type": "code",
   "execution_count": 62,
   "metadata": {
    "collapsed": true
   },
   "outputs": [],
   "source": [
    "import numpy as np\n",
    "import pandas as pd\n",
    "import lightgbm as lgb\n",
    "import scipy as sp\n",
    "path='/home/student303/zz/almama/'"
   ]
  },
  {
   "cell_type": "code",
   "execution_count": 63,
   "metadata": {
    "collapsed": true
   },
   "outputs": [],
   "source": [
    "train = pd.read_hdf(path+ 'somefeature/two_column_train_cnt.h5', key = 'a')\n",
    "test = pd.read_hdf(path+ 'somefeature/two_column_test_cnt.h5', key = 'a')\n",
    "#y_train = pd.read_csv(path + 'somefeature/y_train.csv')"
   ]
  },
  {
   "cell_type": "code",
   "execution_count": 38,
   "metadata": {
    "collapsed": false
   },
   "outputs": [
    {
     "data": {
      "text/html": [
       "<div>\n",
       "<style>\n",
       "    .dataframe thead tr:only-child th {\n",
       "        text-align: right;\n",
       "    }\n",
       "\n",
       "    .dataframe thead th {\n",
       "        text-align: left;\n",
       "    }\n",
       "\n",
       "    .dataframe tbody tr th {\n",
       "        vertical-align: top;\n",
       "    }\n",
       "</style>\n",
       "<table border=\"1\" class=\"dataframe\">\n",
       "  <thead>\n",
       "    <tr style=\"text-align: right;\">\n",
       "      <th></th>\n",
       "      <th>context_id</th>\n",
       "      <th>context_page_id</th>\n",
       "      <th>context_timestamp</th>\n",
       "      <th>day</th>\n",
       "      <th>hour</th>\n",
       "      <th>instance_id</th>\n",
       "      <th>is_trade</th>\n",
       "      <th>item_brand_id</th>\n",
       "      <th>item_category_hash</th>\n",
       "      <th>item_category_list</th>\n",
       "      <th>...</th>\n",
       "      <th>user_age_level-&gt;user_gender_id_cnt</th>\n",
       "      <th>user_age_level-&gt;user_id_cnt</th>\n",
       "      <th>user_age_level-&gt;user_occupation_id_cnt</th>\n",
       "      <th>user_age_level-&gt;user_star_level_cnt</th>\n",
       "      <th>user_gender_id-&gt;user_id_cnt</th>\n",
       "      <th>user_gender_id-&gt;user_occupation_id_cnt</th>\n",
       "      <th>user_gender_id-&gt;user_star_level_cnt</th>\n",
       "      <th>user_id-&gt;user_occupation_id_cnt</th>\n",
       "      <th>user_id-&gt;user_star_level_cnt</th>\n",
       "      <th>user_occupation_id-&gt;user_star_level_cnt</th>\n",
       "    </tr>\n",
       "  </thead>\n",
       "  <tbody>\n",
       "    <tr>\n",
       "      <th>0</th>\n",
       "      <td>5035994110420503338</td>\n",
       "      <td>4002</td>\n",
       "      <td>1537465939</td>\n",
       "      <td>21</td>\n",
       "      <td>1</td>\n",
       "      <td>4293715837363757697</td>\n",
       "      <td>0.0</td>\n",
       "      <td>1975590437749032870</td>\n",
       "      <td>5332</td>\n",
       "      <td>7908382889764677758;5799347067982556520</td>\n",
       "      <td>...</td>\n",
       "      <td>1021</td>\n",
       "      <td>NaN</td>\n",
       "      <td>4402</td>\n",
       "      <td>605.0</td>\n",
       "      <td>NaN</td>\n",
       "      <td>104100</td>\n",
       "      <td>26262</td>\n",
       "      <td>NaN</td>\n",
       "      <td>NaN</td>\n",
       "      <td>24198.0</td>\n",
       "    </tr>\n",
       "    <tr>\n",
       "      <th>1</th>\n",
       "      <td>7972645707776427108</td>\n",
       "      <td>4015</td>\n",
       "      <td>1537537076</td>\n",
       "      <td>21</td>\n",
       "      <td>21</td>\n",
       "      <td>70764105903083828</td>\n",
       "      <td>0.0</td>\n",
       "      <td>9057103201734987852</td>\n",
       "      <td>9521</td>\n",
       "      <td>7908382889764677758;8277336076276184272</td>\n",
       "      <td>...</td>\n",
       "      <td>62287</td>\n",
       "      <td>NaN</td>\n",
       "      <td>48768</td>\n",
       "      <td>12037.0</td>\n",
       "      <td>NaN</td>\n",
       "      <td>104100</td>\n",
       "      <td>26262</td>\n",
       "      <td>NaN</td>\n",
       "      <td>NaN</td>\n",
       "      <td>24198.0</td>\n",
       "    </tr>\n",
       "    <tr>\n",
       "      <th>2</th>\n",
       "      <td>6797298244965748241</td>\n",
       "      <td>4002</td>\n",
       "      <td>1537539269</td>\n",
       "      <td>21</td>\n",
       "      <td>22</td>\n",
       "      <td>3954908518456917085</td>\n",
       "      <td>0.0</td>\n",
       "      <td>5520678735822176314</td>\n",
       "      <td>1443</td>\n",
       "      <td>7908382889764677758;5755694407684602296</td>\n",
       "      <td>...</td>\n",
       "      <td>62287</td>\n",
       "      <td>NaN</td>\n",
       "      <td>48768</td>\n",
       "      <td>12037.0</td>\n",
       "      <td>NaN</td>\n",
       "      <td>104100</td>\n",
       "      <td>26262</td>\n",
       "      <td>NaN</td>\n",
       "      <td>NaN</td>\n",
       "      <td>24198.0</td>\n",
       "    </tr>\n",
       "    <tr>\n",
       "      <th>3</th>\n",
       "      <td>7455406367907195</td>\n",
       "      <td>4001</td>\n",
       "      <td>1537509234</td>\n",
       "      <td>21</td>\n",
       "      <td>13</td>\n",
       "      <td>4521314384240415059</td>\n",
       "      <td>0.0</td>\n",
       "      <td>9057103201734987852</td>\n",
       "      <td>9521</td>\n",
       "      <td>7908382889764677758;8277336076276184272</td>\n",
       "      <td>...</td>\n",
       "      <td>62287</td>\n",
       "      <td>NaN</td>\n",
       "      <td>48768</td>\n",
       "      <td>12094.0</td>\n",
       "      <td>NaN</td>\n",
       "      <td>104100</td>\n",
       "      <td>23284</td>\n",
       "      <td>NaN</td>\n",
       "      <td>NaN</td>\n",
       "      <td>17823.0</td>\n",
       "    </tr>\n",
       "    <tr>\n",
       "      <th>4</th>\n",
       "      <td>1422823996606455864</td>\n",
       "      <td>4001</td>\n",
       "      <td>1537494715</td>\n",
       "      <td>21</td>\n",
       "      <td>9</td>\n",
       "      <td>6005676298575614673</td>\n",
       "      <td>0.0</td>\n",
       "      <td>5520678735822176314</td>\n",
       "      <td>1443</td>\n",
       "      <td>7908382889764677758;5755694407684602296</td>\n",
       "      <td>...</td>\n",
       "      <td>1722</td>\n",
       "      <td>NaN</td>\n",
       "      <td>1697</td>\n",
       "      <td>433.0</td>\n",
       "      <td>NaN</td>\n",
       "      <td>104100</td>\n",
       "      <td>21796</td>\n",
       "      <td>NaN</td>\n",
       "      <td>NaN</td>\n",
       "      <td>22041.0</td>\n",
       "    </tr>\n",
       "  </tbody>\n",
       "</table>\n",
       "<p>5 rows × 263 columns</p>\n",
       "</div>"
      ],
      "text/plain": [
       "            context_id  context_page_id  context_timestamp  day  hour  \\\n",
       "0  5035994110420503338             4002         1537465939   21     1   \n",
       "1  7972645707776427108             4015         1537537076   21    21   \n",
       "2  6797298244965748241             4002         1537539269   21    22   \n",
       "3     7455406367907195             4001         1537509234   21    13   \n",
       "4  1422823996606455864             4001         1537494715   21     9   \n",
       "\n",
       "           instance_id  is_trade        item_brand_id  item_category_hash  \\\n",
       "0  4293715837363757697       0.0  1975590437749032870                5332   \n",
       "1    70764105903083828       0.0  9057103201734987852                9521   \n",
       "2  3954908518456917085       0.0  5520678735822176314                1443   \n",
       "3  4521314384240415059       0.0  9057103201734987852                9521   \n",
       "4  6005676298575614673       0.0  5520678735822176314                1443   \n",
       "\n",
       "                        item_category_list  \\\n",
       "0  7908382889764677758;5799347067982556520   \n",
       "1  7908382889764677758;8277336076276184272   \n",
       "2  7908382889764677758;5755694407684602296   \n",
       "3  7908382889764677758;8277336076276184272   \n",
       "4  7908382889764677758;5755694407684602296   \n",
       "\n",
       "                    ...                     \\\n",
       "0                   ...                      \n",
       "1                   ...                      \n",
       "2                   ...                      \n",
       "3                   ...                      \n",
       "4                   ...                      \n",
       "\n",
       "   user_age_level->user_gender_id_cnt  user_age_level->user_id_cnt  \\\n",
       "0                                1021                          NaN   \n",
       "1                               62287                          NaN   \n",
       "2                               62287                          NaN   \n",
       "3                               62287                          NaN   \n",
       "4                                1722                          NaN   \n",
       "\n",
       "   user_age_level->user_occupation_id_cnt  \\\n",
       "0                                    4402   \n",
       "1                                   48768   \n",
       "2                                   48768   \n",
       "3                                   48768   \n",
       "4                                    1697   \n",
       "\n",
       "   user_age_level->user_star_level_cnt user_gender_id->user_id_cnt  \\\n",
       "0                                605.0                         NaN   \n",
       "1                              12037.0                         NaN   \n",
       "2                              12037.0                         NaN   \n",
       "3                              12094.0                         NaN   \n",
       "4                                433.0                         NaN   \n",
       "\n",
       "   user_gender_id->user_occupation_id_cnt  \\\n",
       "0                                  104100   \n",
       "1                                  104100   \n",
       "2                                  104100   \n",
       "3                                  104100   \n",
       "4                                  104100   \n",
       "\n",
       "   user_gender_id->user_star_level_cnt  user_id->user_occupation_id_cnt  \\\n",
       "0                                26262                              NaN   \n",
       "1                                26262                              NaN   \n",
       "2                                26262                              NaN   \n",
       "3                                23284                              NaN   \n",
       "4                                21796                              NaN   \n",
       "\n",
       "  user_id->user_star_level_cnt  user_occupation_id->user_star_level_cnt  \n",
       "0                          NaN                                  24198.0  \n",
       "1                          NaN                                  24198.0  \n",
       "2                          NaN                                  24198.0  \n",
       "3                          NaN                                  17823.0  \n",
       "4                          NaN                                  22041.0  \n",
       "\n",
       "[5 rows x 263 columns]"
      ]
     },
     "execution_count": 38,
     "metadata": {},
     "output_type": "execute_result"
    }
   ],
   "source": [
    "train.head()"
   ]
  },
  {
   "cell_type": "code",
   "execution_count": 64,
   "metadata": {
    "collapsed": true
   },
   "outputs": [],
   "source": [
    "droplist = ['item_category_list',\n",
    "            'item_property_list',\n",
    "            'user_id',\n",
    "            'context_id',\n",
    "           #'context_page_id',\n",
    "            'predict_category_property',\n",
    "            #'shop_id'\n",
    "           ]\n",
    "df_test = test.drop(droplist, axis=1)\n",
    "df_train = train.drop(droplist, axis=1)\n",
    "# df_train.drop('is_trade', axis=1, inplace = True)\n",
    "combine = [df_train, df_test]"
   ]
  },
  {
   "cell_type": "code",
   "execution_count": 65,
   "metadata": {
    "collapsed": false
   },
   "outputs": [
    {
     "data": {
      "text/plain": [
       "Index(['context_page_id', 'context_timestamp', 'day', 'hour', 'instance_id',\n",
       "       'is_trade', 'item_brand_id', 'item_category_hash', 'item_city_id',\n",
       "       'item_collected_level',\n",
       "       ...\n",
       "       'user_age_level->user_gender_id_cnt', 'user_age_level->user_id_cnt',\n",
       "       'user_age_level->user_occupation_id_cnt',\n",
       "       'user_age_level->user_star_level_cnt', 'user_gender_id->user_id_cnt',\n",
       "       'user_gender_id->user_occupation_id_cnt',\n",
       "       'user_gender_id->user_star_level_cnt',\n",
       "       'user_id->user_occupation_id_cnt', 'user_id->user_star_level_cnt',\n",
       "       'user_occupation_id->user_star_level_cnt'],\n",
       "      dtype='object', length=258)"
      ]
     },
     "execution_count": 65,
     "metadata": {},
     "output_type": "execute_result"
    }
   ],
   "source": [
    "df_train.columns"
   ]
  },
  {
   "cell_type": "code",
   "execution_count": 66,
   "metadata": {
    "collapsed": true
   },
   "outputs": [],
   "source": [
    "def logloss(act, pred):\n",
    "    epsilon = 1e-15\n",
    "    pred = sp.maximum(epsilon, pred)\n",
    "    pred = sp.minimum(1-epsilon, pred)\n",
    "    ll = sum(act*sp.log(pred) + sp.subtract(1,act)*sp.log(sp.subtract(1,pred)))\n",
    "    ll = ll * -1.0/len(act)\n",
    "    return ll"
   ]
  },
  {
   "cell_type": "markdown",
   "metadata": {},
   "source": [
    "## train LGBM model"
   ]
  },
  {
   "cell_type": "code",
   "execution_count": 67,
   "metadata": {
    "collapsed": true
   },
   "outputs": [],
   "source": [
    "train_train = df_train[df_train.day != 24]\n",
    "train_valid = df_train[df_train.day == 24]\n",
    "\n",
    "train_X = train_train.drop('is_trade', axis=1)\n",
    "train_y = train_train['is_trade'].values\n",
    "\n",
    "valid_X = train_valid.drop('is_trade', axis=1)\n",
    "valid_y = train_valid['is_trade'].values\n",
    "\n",
    "d_train = lgb.Dataset(train_X, label=train_y)\n",
    "d_valid = lgb.Dataset(valid_X, label=valid_y)\n",
    "watchlist = [d_train, d_valid]"
   ]
  },
  {
   "cell_type": "code",
   "execution_count": 68,
   "metadata": {
    "collapsed": false
   },
   "outputs": [
    {
     "name": "stdout",
     "output_type": "stream",
     "text": [
      "LGBM training\n",
      "Train until valid scores didn't improve in 500 rounds.\n",
      "[50]\ttraining's binary_logloss: 0.0848769\tvalid_1's binary_logloss: 0.0828616\n",
      "[100]\ttraining's binary_logloss: 0.0779862\tvalid_1's binary_logloss: 0.0821229\n",
      "[150]\ttraining's binary_logloss: 0.073336\tvalid_1's binary_logloss: 0.0826514\n",
      "[200]\ttraining's binary_logloss: 0.0689325\tvalid_1's binary_logloss: 0.0833475\n",
      "[250]\ttraining's binary_logloss: 0.0651541\tvalid_1's binary_logloss: 0.0835234\n",
      "[300]\ttraining's binary_logloss: 0.0614281\tvalid_1's binary_logloss: 0.0838962\n",
      "[350]\ttraining's binary_logloss: 0.0579448\tvalid_1's binary_logloss: 0.0841337\n",
      "[400]\ttraining's binary_logloss: 0.0546857\tvalid_1's binary_logloss: 0.084582\n",
      "[450]\ttraining's binary_logloss: 0.0515197\tvalid_1's binary_logloss: 0.0850613\n",
      "[500]\ttraining's binary_logloss: 0.0485329\tvalid_1's binary_logloss: 0.0853868\n",
      "[550]\ttraining's binary_logloss: 0.0456278\tvalid_1's binary_logloss: 0.0855637\n",
      "Early stopping, best iteration is:\n",
      "[84]\ttraining's binary_logloss: 0.0796317\tvalid_1's binary_logloss: 0.0821003\n",
      "LGBM training done\n"
     ]
    }
   ],
   "source": [
    "print('LGBM training')\n",
    "#lgb_train = lgb.Dataset(df_train.values, label = y_train.is_trade)\n",
    "params = {\n",
    "    'task': 'train',\n",
    "    #'boosting_type': 'gbdt',\n",
    "    'objective': 'binary',\n",
    "    'metric': 'binary_logloss',\n",
    "    'max_depth':5,\n",
    "#    'num_leaves': 6,\n",
    "#    'min_data_in_leaf':1,\n",
    "    #'max_bin':150,  \n",
    "    'learning_rate': 0.1,\n",
    "    'feature_fraction': 0.5,\n",
    "    'bagging_fraction':0.8,\n",
    "    #'bagging_freq': 5,\n",
    "    'verbose': 0,\n",
    "}\n",
    "model = lgb.train(params, train_set=d_train, num_boost_round=6000, valid_sets=watchlist, \\\n",
    "                  early_stopping_rounds=500, verbose_eval=50)\n",
    "print('LGBM training done')"
   ]
  },
  {
   "cell_type": "markdown",
   "metadata": {},
   "source": [
    "## Add"
   ]
  },
  {
   "cell_type": "code",
   "execution_count": 71,
   "metadata": {
    "collapsed": false
   },
   "outputs": [
    {
     "name": "stdout",
     "output_type": "stream",
     "text": [
      "LGBM training\n",
      "Train until valid scores didn't improve in 50 rounds.\n",
      "[10]\ttraining's binary_logloss: 0.237552\tvalid_1's binary_logloss: 0.235928\n",
      "[20]\ttraining's binary_logloss: 0.127379\tvalid_1's binary_logloss: 0.124597\n",
      "[30]\ttraining's binary_logloss: 0.0964447\tvalid_1's binary_logloss: 0.0930869\n",
      "[40]\ttraining's binary_logloss: 0.0878466\tvalid_1's binary_logloss: 0.0848981\n",
      "[50]\ttraining's binary_logloss: 0.0847594\tvalid_1's binary_logloss: 0.0828249\n",
      "[60]\ttraining's binary_logloss: 0.0829025\tvalid_1's binary_logloss: 0.0822577\n",
      "[70]\ttraining's binary_logloss: 0.0812724\tvalid_1's binary_logloss: 0.0821528\n",
      "[80]\ttraining's binary_logloss: 0.0799706\tvalid_1's binary_logloss: 0.0821338\n",
      "[90]\ttraining's binary_logloss: 0.0788498\tvalid_1's binary_logloss: 0.0821338\n",
      "[100]\ttraining's binary_logloss: 0.0778841\tvalid_1's binary_logloss: 0.0822353\n",
      "[110]\ttraining's binary_logloss: 0.0768472\tvalid_1's binary_logloss: 0.0822202\n",
      "Early stopping, best iteration is:\n",
      "[67]\ttraining's binary_logloss: 0.0816566\tvalid_1's binary_logloss: 0.0820989\n",
      "LGBM training done\n"
     ]
    }
   ],
   "source": [
    "droplist = ['item_category_list',\n",
    "            'item_property_list',\n",
    "            'user_id',\n",
    "            'context_id',\n",
    "           #'context_page_id',\n",
    "            'predict_category_property',\n",
    "            #'shop_id'\n",
    "           ]\n",
    "df_test = test.drop(droplist + newdropfeature, axis=1)\n",
    "df_train = train.drop(droplist + newdropfeature, axis=1)\n",
    "# df_train.drop('is_trade', axis=1, inplace = True)\n",
    "combine = [df_train, df_test]\n",
    "\n",
    "train_X = train_train.drop(newdropfeature+['is_trade'], axis=1)\n",
    "train_y = train_train['is_trade'].values\n",
    "\n",
    "valid_X = train_valid.drop(newdropfeature+['is_trade'], axis=1)\n",
    "valid_y = train_valid['is_trade'].values\n",
    "\n",
    "d_train = lgb.Dataset(train_X, label=train_y)\n",
    "d_valid = lgb.Dataset(valid_X, label=valid_y)\n",
    "watchlist = [d_train, d_valid]\n",
    "\n",
    "print('LGBM training')\n",
    "#lgb_train = lgb.Dataset(df_train.values, label = y_train.is_trade)\n",
    "params = {\n",
    "    'task': 'train',\n",
    "    #'boosting_type': 'gbdt',\n",
    "    'objective': 'binary',\n",
    "    'metric': 'binary_logloss',\n",
    "    'max_depth':5,\n",
    "#    'num_leaves': 6,\n",
    "#    'min_data_in_leaf':1,\n",
    "    #'max_bin':150,  \n",
    "    'learning_rate': 0.1,\n",
    "    'feature_fraction': 0.8,\n",
    "    'bagging_fraction':0.8,\n",
    "    #'bagging_freq': 5,\n",
    "    'verbose': 0,\n",
    "}\n",
    "model = lgb.train(params, train_set=d_train, num_boost_round=6000, valid_sets=watchlist, \\\n",
    "                  early_stopping_rounds=50, verbose_eval=10)\n",
    "print('LGBM training done')"
   ]
  },
  {
   "cell_type": "code",
   "execution_count": 70,
   "metadata": {
    "collapsed": false
   },
   "outputs": [
    {
     "name": "stdout",
     "output_type": "stream",
     "text": [
      "context_timestamp\n",
      "hour\n",
      "item_price_level\n",
      "item_sales_level\n",
      "shop_score_delivery\n",
      "shop_score_service\n",
      "user_age_level\n",
      "hour->item_id_cnt\n",
      "hour->user_gender_id_cnt\n",
      "item_brand_id->item_pv_level_cnt\n",
      "item_category_hash->min_cnt\n",
      "item_collected_level->item_sales_level_cnt\n"
     ]
    }
   ],
   "source": [
    "newdropfeature=[]\n",
    "for i in range(len(train_X.columns)):\n",
    "    if model.feature_importance()[i]<=1:\n",
    "        newdropfeature.append(train_X.columns[i])\n",
    "    if model.feature_importance()[i]>20:\n",
    "        print(train_X.columns[i])"
   ]
  },
  {
   "cell_type": "code",
   "execution_count": 58,
   "metadata": {
    "collapsed": true
   },
   "outputs": [],
   "source": [
    "newdropfeature.remove('day')"
   ]
  },
  {
   "cell_type": "markdown",
   "metadata": {},
   "source": [
    "## predict test prob "
   ]
  },
  {
   "cell_type": "code",
   "execution_count": 107,
   "metadata": {
    "collapsed": false
   },
   "outputs": [
    {
     "name": "stdout",
     "output_type": "stream",
     "text": [
      "           instance_id  predicted_score\n",
      "0  2475218615076601065          0.00791\n",
      "1   398316874173557226          0.01633\n",
      "2  6586402638209028583          0.01563\n",
      "3  1040996105851528465          0.01780\n",
      "4  6316278569655873454          0.01189\n"
     ]
    }
   ],
   "source": [
    "instance_id=df_test.instance_id.values \n",
    "prob = model.predict(df_test, num_iteration=model.best_iteration )\n",
    "\n",
    "output=pd.DataFrame({'instance_id':instance_id,'predicted_score':prob})  \n",
    "output['predicted_score'] = output['predicted_score'].apply(lambda x:round(x,10))\n",
    "print(output.head())\n",
    "#output.to_hdf(path + 'output/submission.h5',index=False)\n",
    "#print('the output path is '+path)"
   ]
  }
 ],
 "metadata": {
  "kernelspec": {
   "display_name": "Python 3",
   "language": "python",
   "name": "python3"
  },
  "language_info": {
   "codemirror_mode": {
    "name": "ipython",
    "version": 3
   },
   "file_extension": ".py",
   "mimetype": "text/x-python",
   "name": "python",
   "nbconvert_exporter": "python",
   "pygments_lexer": "ipython3",
   "version": "3.6.1"
  }
 },
 "nbformat": 4,
 "nbformat_minor": 2
}
