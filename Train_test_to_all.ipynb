{
 "cells": [
  {
   "cell_type": "code",
   "execution_count": 1,
   "metadata": {
    "collapsed": true
   },
   "outputs": [],
   "source": [
    "import pandas as pd\n",
    "path='/home/student303/oyx/almama/'\n",
    "train=pd.read_hdf(path+'somefeature/base_feature_train_0.h5')\n",
    "test=pd.read_hdf(path+'somefeature/base_feature_test_0.h5')"
   ]
  },
  {
   "cell_type": "code",
   "execution_count": 3,
   "metadata": {},
   "outputs": [
    {
     "data": {
      "text/plain": [
       "(478111, 32)"
      ]
     },
     "execution_count": 3,
     "metadata": {},
     "output_type": "execute_result"
    }
   ],
   "source": [
    "train.shape"
   ]
  },
  {
   "cell_type": "code",
   "execution_count": 5,
   "metadata": {},
   "outputs": [
    {
     "data": {
      "text/plain": [
       "Index(['instance_id', 'item_id', 'item_category_list', 'item_property_list',\n",
       "       'item_brand_id', 'item_city_id', 'item_price_level', 'item_sales_level',\n",
       "       'item_collected_level', 'item_pv_level', 'user_id', 'user_gender_id',\n",
       "       'user_age_level', 'user_occupation_id', 'user_star_level', 'context_id',\n",
       "       'context_timestamp', 'context_page_id', 'predict_category_property',\n",
       "       'shop_id', 'shop_review_num_level', 'shop_review_positive_rate',\n",
       "       'shop_star_level', 'shop_score_service', 'shop_score_delivery',\n",
       "       'shop_score_description', 'item_category_hash', 'day', 'hour', 'min',\n",
       "       'second'],\n",
       "      dtype='object')"
      ]
     },
     "execution_count": 5,
     "metadata": {},
     "output_type": "execute_result"
    }
   ],
   "source": [
    "test.columns"
   ]
  },
  {
   "cell_type": "code",
   "execution_count": 6,
   "metadata": {},
   "outputs": [
    {
     "name": "stdout",
     "output_type": "stream",
     "text": [
      "(496482, 32)\n"
     ]
    }
   ],
   "source": [
    "test['is_trade']=-1\n",
    "test=test[train.columns]\n",
    "data=pd.concat([train,test])\n",
    "print(data.shape)\n",
    "data.to_hdf(path+'somefeature/base_feature_all_0.h5',key='a')"
   ]
  },
  {
   "cell_type": "markdown",
   "metadata": {},
   "source": [
    "## chapter B test_train_all"
   ]
  },
  {
   "cell_type": "code",
   "execution_count": 20,
   "metadata": {
    "collapsed": true
   },
   "outputs": [],
   "source": [
    "import pandas as pd\n",
    "path='/home/student303/oyx/almama/'\n",
    "train=pd.read_hdf(path+'somefeature/base_feature_all_0.h5')\n",
    "test=pd.read_hdf(path+'somefeature/base_feature_test_b_0.h5')"
   ]
  },
  {
   "cell_type": "code",
   "execution_count": 16,
   "metadata": {
    "collapsed": true
   },
   "outputs": [],
   "source": [
    "train['subm'] = 0\n",
    "test['subm'] = 1"
   ]
  },
  {
   "cell_type": "code",
   "execution_count": 17,
   "metadata": {},
   "outputs": [
    {
     "name": "stdout",
     "output_type": "stream",
     "text": [
      "(539370, 33)\n"
     ]
    }
   ],
   "source": [
    "test['is_trade']=-1\n",
    "test=test[train.columns]\n",
    "data=pd.concat([train,test])\n",
    "print(data.shape)\n",
    "data.to_hdf(path+'somefeature/base_feature_all_0_B.h5',key='a')"
   ]
  }
 ],
 "metadata": {
  "kernelspec": {
   "display_name": "Python 3",
   "language": "python",
   "name": "python3"
  },
  "language_info": {
   "codemirror_mode": {
    "name": "ipython",
    "version": 3
   },
   "file_extension": ".py",
   "mimetype": "text/x-python",
   "name": "python",
   "nbconvert_exporter": "python",
   "pygments_lexer": "ipython3",
   "version": "3.6.1"
  }
 },
 "nbformat": 4,
 "nbformat_minor": 2
}
