{
 "cells": [
  {
   "cell_type": "code",
   "execution_count": 19,
   "metadata": {},
   "outputs": [
    {
     "name": "stdout",
     "output_type": "stream",
     "text": [
      "Read Data Finish\n"
     ]
    }
   ],
   "source": [
    "import pandas as pd\n",
    "import numpy as np\n",
    "import gc\n",
    "path='/home/student303/oyx/almama/'\n",
    "data = pd.read_hdf(path+ 'somefeature/base_feature_all_0.h5')\n",
    "print('Read Data Finish')"
   ]
  },
  {
   "cell_type": "code",
   "execution_count": 20,
   "metadata": {
    "collapsed": true
   },
   "outputs": [],
   "source": [
    "data_columns = list(data.columns)\n",
    "for i in ['instance_id',\n",
    "          'context_id',\n",
    "          'context_timestamp',\n",
    "          'predict_category_property',\n",
    "          'is_trade',\n",
    "          'day',\n",
    "        \n",
    "          'shop_score_service',\n",
    "          'shop_score_delivery',\n",
    "          'shop_score_description',\n",
    "          'shop_review_positive_rate'\n",
    "         ]:\n",
    "    data_columns.remove(i)"
   ]
  },
  {
   "cell_type": "code",
   "execution_count": 10,
   "metadata": {},
   "outputs": [
    {
     "data": {
      "text/plain": [
       "22"
      ]
     },
     "execution_count": 10,
     "metadata": {},
     "output_type": "execute_result"
    }
   ],
   "source": [
    "len(data_columns)"
   ]
  },
  {
   "cell_type": "code",
   "execution_count": 34,
   "metadata": {},
   "outputs": [
    {
     "ename": "NameError",
     "evalue": "name 'tmpmerge1' is not defined",
     "output_type": "error",
     "traceback": [
      "\u001b[0;31m---------------------------------------------------------------------------\u001b[0m",
      "\u001b[0;31mNameError\u001b[0m                                 Traceback (most recent call last)",
      "\u001b[0;32m<ipython-input-34-918b4eb8c9e8>\u001b[0m in \u001b[0;36m<module>\u001b[0;34m()\u001b[0m\n\u001b[0;32m----> 1\u001b[0;31m \u001b[0mtmpmerge1\u001b[0m\u001b[0;34m\u001b[0m\u001b[0m\n\u001b[0m",
      "\u001b[0;31mNameError\u001b[0m: name 'tmpmerge1' is not defined"
     ]
    }
   ],
   "source": [
    "tmpmerge1"
   ]
  },
  {
   "cell_type": "code",
   "execution_count": 32,
   "metadata": {},
   "outputs": [],
   "source": [
    "for i in data_columns[21:]:\n",
    "    tmpmerge1 = data[[i,'instance_id']].groupby([i]).count().reset_index()\n",
    "    data= pd.merge(data, tmpmerge1, on=[i], how='left')\n",
    "   # del tmpmerge1\n",
    "    gc.collect()"
   ]
  },
  {
   "cell_type": "code",
   "execution_count": 33,
   "metadata": {},
   "outputs": [
    {
     "data": {
      "text/html": [
       "<div>\n",
       "<style>\n",
       "    .dataframe thead tr:only-child th {\n",
       "        text-align: right;\n",
       "    }\n",
       "\n",
       "    .dataframe thead th {\n",
       "        text-align: left;\n",
       "    }\n",
       "\n",
       "    .dataframe tbody tr th {\n",
       "        vertical-align: top;\n",
       "    }\n",
       "</style>\n",
       "<table border=\"1\" class=\"dataframe\">\n",
       "  <thead>\n",
       "    <tr style=\"text-align: right;\">\n",
       "      <th></th>\n",
       "      <th>instance_id_x</th>\n",
       "      <th>item_id</th>\n",
       "      <th>item_category_list</th>\n",
       "      <th>item_property_list</th>\n",
       "      <th>item_brand_id</th>\n",
       "      <th>item_city_id</th>\n",
       "      <th>item_price_level</th>\n",
       "      <th>item_sales_level</th>\n",
       "      <th>item_collected_level</th>\n",
       "      <th>item_pv_level</th>\n",
       "      <th>...</th>\n",
       "      <th>shop_score_description</th>\n",
       "      <th>is_trade</th>\n",
       "      <th>item_category_hash</th>\n",
       "      <th>day</th>\n",
       "      <th>hour</th>\n",
       "      <th>min</th>\n",
       "      <th>second</th>\n",
       "      <th>min_today_cilk</th>\n",
       "      <th>second_today_cilk</th>\n",
       "      <th>instance_id_y</th>\n",
       "    </tr>\n",
       "  </thead>\n",
       "  <tbody>\n",
       "    <tr>\n",
       "      <th>0</th>\n",
       "      <td>108641074714126964</td>\n",
       "      <td>3412720377098676069</td>\n",
       "      <td>7908382889764677758;5799347067982556520</td>\n",
       "      <td>2072967855524022579;5131280576272319091;263639...</td>\n",
       "      <td>1975590437749032870</td>\n",
       "      <td>3948283326616421003</td>\n",
       "      <td>3</td>\n",
       "      <td>3</td>\n",
       "      <td>4</td>\n",
       "      <td>14</td>\n",
       "      <td>...</td>\n",
       "      <td>1.0</td>\n",
       "      <td>0</td>\n",
       "      <td>5332</td>\n",
       "      <td>18</td>\n",
       "      <td>10</td>\n",
       "      <td>9</td>\n",
       "      <td>4</td>\n",
       "      <td>8298.0</td>\n",
       "      <td>8302.0</td>\n",
       "      <td>8298</td>\n",
       "    </tr>\n",
       "    <tr>\n",
       "      <th>1</th>\n",
       "      <td>5754713551599725161</td>\n",
       "      <td>3412720377098676069</td>\n",
       "      <td>7908382889764677758;5799347067982556520</td>\n",
       "      <td>2072967855524022579;5131280576272319091;263639...</td>\n",
       "      <td>1975590437749032870</td>\n",
       "      <td>3948283326616421003</td>\n",
       "      <td>3</td>\n",
       "      <td>3</td>\n",
       "      <td>4</td>\n",
       "      <td>14</td>\n",
       "      <td>...</td>\n",
       "      <td>1.0</td>\n",
       "      <td>0</td>\n",
       "      <td>5332</td>\n",
       "      <td>18</td>\n",
       "      <td>12</td>\n",
       "      <td>0</td>\n",
       "      <td>32</td>\n",
       "      <td>8399.0</td>\n",
       "      <td>8095.0</td>\n",
       "      <td>8323</td>\n",
       "    </tr>\n",
       "    <tr>\n",
       "      <th>2</th>\n",
       "      <td>842679481291040981</td>\n",
       "      <td>3412720377098676069</td>\n",
       "      <td>7908382889764677758;5799347067982556520</td>\n",
       "      <td>2072967855524022579;5131280576272319091;263639...</td>\n",
       "      <td>1975590437749032870</td>\n",
       "      <td>3948283326616421003</td>\n",
       "      <td>3</td>\n",
       "      <td>3</td>\n",
       "      <td>4</td>\n",
       "      <td>14</td>\n",
       "      <td>...</td>\n",
       "      <td>1.0</td>\n",
       "      <td>0</td>\n",
       "      <td>5332</td>\n",
       "      <td>18</td>\n",
       "      <td>3</td>\n",
       "      <td>4</td>\n",
       "      <td>12</td>\n",
       "      <td>8365.0</td>\n",
       "      <td>8439.0</td>\n",
       "      <td>8336</td>\n",
       "    </tr>\n",
       "    <tr>\n",
       "      <th>3</th>\n",
       "      <td>937088850059189027</td>\n",
       "      <td>3412720377098676069</td>\n",
       "      <td>7908382889764677758;5799347067982556520</td>\n",
       "      <td>2072967855524022579;5131280576272319091;263639...</td>\n",
       "      <td>1975590437749032870</td>\n",
       "      <td>3948283326616421003</td>\n",
       "      <td>3</td>\n",
       "      <td>3</td>\n",
       "      <td>4</td>\n",
       "      <td>14</td>\n",
       "      <td>...</td>\n",
       "      <td>1.0</td>\n",
       "      <td>0</td>\n",
       "      <td>5332</td>\n",
       "      <td>18</td>\n",
       "      <td>6</td>\n",
       "      <td>17</td>\n",
       "      <td>50</td>\n",
       "      <td>8401.0</td>\n",
       "      <td>8510.0</td>\n",
       "      <td>8369</td>\n",
       "    </tr>\n",
       "    <tr>\n",
       "      <th>4</th>\n",
       "      <td>7975697065017708072</td>\n",
       "      <td>3412720377098676069</td>\n",
       "      <td>7908382889764677758;5799347067982556520</td>\n",
       "      <td>2072967855524022579;5131280576272319091;263639...</td>\n",
       "      <td>1975590437749032870</td>\n",
       "      <td>3948283326616421003</td>\n",
       "      <td>3</td>\n",
       "      <td>3</td>\n",
       "      <td>4</td>\n",
       "      <td>14</td>\n",
       "      <td>...</td>\n",
       "      <td>1.0</td>\n",
       "      <td>0</td>\n",
       "      <td>5332</td>\n",
       "      <td>18</td>\n",
       "      <td>19</td>\n",
       "      <td>48</td>\n",
       "      <td>40</td>\n",
       "      <td>8207.0</td>\n",
       "      <td>8298.0</td>\n",
       "      <td>8329</td>\n",
       "    </tr>\n",
       "  </tbody>\n",
       "</table>\n",
       "<p>5 rows × 35 columns</p>\n",
       "</div>"
      ],
      "text/plain": [
       "         instance_id_x              item_id  \\\n",
       "0   108641074714126964  3412720377098676069   \n",
       "1  5754713551599725161  3412720377098676069   \n",
       "2   842679481291040981  3412720377098676069   \n",
       "3   937088850059189027  3412720377098676069   \n",
       "4  7975697065017708072  3412720377098676069   \n",
       "\n",
       "                        item_category_list  \\\n",
       "0  7908382889764677758;5799347067982556520   \n",
       "1  7908382889764677758;5799347067982556520   \n",
       "2  7908382889764677758;5799347067982556520   \n",
       "3  7908382889764677758;5799347067982556520   \n",
       "4  7908382889764677758;5799347067982556520   \n",
       "\n",
       "                                  item_property_list        item_brand_id  \\\n",
       "0  2072967855524022579;5131280576272319091;263639...  1975590437749032870   \n",
       "1  2072967855524022579;5131280576272319091;263639...  1975590437749032870   \n",
       "2  2072967855524022579;5131280576272319091;263639...  1975590437749032870   \n",
       "3  2072967855524022579;5131280576272319091;263639...  1975590437749032870   \n",
       "4  2072967855524022579;5131280576272319091;263639...  1975590437749032870   \n",
       "\n",
       "          item_city_id  item_price_level  item_sales_level  \\\n",
       "0  3948283326616421003                 3                 3   \n",
       "1  3948283326616421003                 3                 3   \n",
       "2  3948283326616421003                 3                 3   \n",
       "3  3948283326616421003                 3                 3   \n",
       "4  3948283326616421003                 3                 3   \n",
       "\n",
       "   item_collected_level  item_pv_level      ...        shop_score_description  \\\n",
       "0                     4             14      ...                           1.0   \n",
       "1                     4             14      ...                           1.0   \n",
       "2                     4             14      ...                           1.0   \n",
       "3                     4             14      ...                           1.0   \n",
       "4                     4             14      ...                           1.0   \n",
       "\n",
       "   is_trade  item_category_hash  day  hour  min  second  min_today_cilk  \\\n",
       "0         0                5332   18    10    9       4          8298.0   \n",
       "1         0                5332   18    12    0      32          8399.0   \n",
       "2         0                5332   18     3    4      12          8365.0   \n",
       "3         0                5332   18     6   17      50          8401.0   \n",
       "4         0                5332   18    19   48      40          8207.0   \n",
       "\n",
       "  second_today_cilk  instance_id_y  \n",
       "0            8302.0           8298  \n",
       "1            8095.0           8323  \n",
       "2            8439.0           8336  \n",
       "3            8510.0           8369  \n",
       "4            8298.0           8329  \n",
       "\n",
       "[5 rows x 35 columns]"
      ]
     },
     "execution_count": 33,
     "metadata": {},
     "output_type": "execute_result"
    }
   ],
   "source": [
    "data.head()"
   ]
  },
  {
   "cell_type": "code",
   "execution_count": null,
   "metadata": {
    "collapsed": true
   },
   "outputs": [],
   "source": [
    "save_train = tmpdf[tmpdf.day != 25]\n",
    "save_test = tmpdf[tmpdf.day == 25]\n",
    "\n",
    "tmpdf.to_hdf(path + 'somefeature/one_column_cnt.h5',key='a',index=False)\n",
    "save_train.to_hdf(path + 'somefeature/one_column_train_cnt.h5',key='a',index=False)\n",
    "save_test.to_hdf(path + 'somefeature/one_column_test_cnt.h5',key='a',index=False)"
   ]
  }
 ],
 "metadata": {
  "kernelspec": {
   "display_name": "Python 3",
   "language": "python",
   "name": "python3"
  },
  "language_info": {
   "codemirror_mode": {
    "name": "ipython",
    "version": 3
   },
   "file_extension": ".py",
   "mimetype": "text/x-python",
   "name": "python",
   "nbconvert_exporter": "python",
   "pygments_lexer": "ipython3",
   "version": "3.6.1"
  }
 },
 "nbformat": 4,
 "nbformat_minor": 2
}
